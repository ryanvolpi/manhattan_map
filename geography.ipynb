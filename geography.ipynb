{
 "cells": [
  {
   "cell_type": "code",
   "execution_count": 1,
   "metadata": {},
   "outputs": [],
   "source": [
    "import geopandas as gpd\n",
    "import os \n",
    "import pandas as pd\n",
    "from matplotlib import pyplot as plt\n",
    "import seaborn as sns\n",
    "import numpy as np"
   ]
  },
  {
   "cell_type": "code",
   "execution_count": 9,
   "metadata": {},
   "outputs": [],
   "source": [
    "poly = gpd.read_file(os.path.join('data','taxi_zones','taxi_zones.shp'))\n",
    "poly['lon'] = poly['geometry'].centroid.x\n",
    "poly['lat'] = poly['geometry'].centroid.y\n",
    "df = pd.DataFrame(poly.drop(columns=['geometry']))"
   ]
  },
  {
   "cell_type": "code",
   "execution_count": 19,
   "metadata": {},
   "outputs": [
    {
     "data": {
      "text/plain": [
       "<AxesSubplot:xlabel='lon', ylabel='lat'>"
      ]
     },
     "execution_count": 19,
     "metadata": {},
     "output_type": "execute_result"
    },
    {
     "data": {
      "image/png": "[encoded data removed]",
      "text/plain": [
       "<Figure size 432x288 with 1 Axes>"
      ]
     },
     "metadata": {
      "needs_background": "light"
     },
     "output_type": "display_data"
    }
   ],
   "source": [
    "sns.scatterplot(x=df['lon'],y=df['lat'], s=5)"
   ]
  },
  {
   "cell_type": "code",
   "execution_count": 23,
   "metadata": {},
   "outputs": [],
   "source": [
    "df = df.set_index('OBJECTID')"
   ]
  },
  {
   "cell_type": "code",
   "execution_count": 97,
   "metadata": {},
   "outputs": [
    {
     "data": {
      "text/plain": [
       "-113.4041931314074"
      ]
     },
     "execution_count": 97,
     "metadata": {},
     "output_type": "execute_result"
    }
   ],
   "source": [
    "def calculate_direction(a, b):\n",
    "    lat_a, lon_a = df.loc[a, ['lon','lat']]\n",
    "    lat_b, lon_b = df.loc[b, ['lon','lat']]\n",
    "    angle = np.arctan2(lat_a-lat_b, lon_a-lon_b)\n",
    "    return np.rad2deg(angle)\n",
    "\n",
    "calculate_direction(261, 260)"
   ]
  },
  {
   "cell_type": "code",
   "execution_count": 98,
   "metadata": {},
   "outputs": [],
   "source": [
    "angle_matrix = pd.DataFrame(index=df.index,columns=df.index)"
   ]
  },
  {
   "cell_type": "code",
   "execution_count": 99,
   "metadata": {},
   "outputs": [],
   "source": [
    "for i in angle_matrix.index:\n",
    "    for j in angle_matrix.columns:\n",
    "        angle_matrix.loc[i,j] = calculate_direction(i, j)"
   ]
  },
  {
   "cell_type": "code",
   "execution_count": 100,
   "metadata": {},
   "outputs": [
    {
     "data": {
      "text/html": [
       "<div>\n",
       "<style scoped>\n",
       "    .dataframe tbody tr th:only-of-type {\n",
       "        vertical-align: middle;\n",
       "    }\n",
       "\n",
       "    .dataframe tbody tr th {\n",
       "        vertical-align: top;\n",
       "    }\n",
       "\n",
       "    .dataframe thead th {\n",
       "        text-align: right;\n",
       "    }\n",
       "</style>\n",
       "<table border=\"1\" class=\"dataframe\">\n",
       "  <thead>\n",
       "    <tr style=\"text-align: right;\">\n",
       "      <th>OBJECTID</th>\n",
       "      <th>1</th>\n",
       "      <th>2</th>\n",
       "      <th>3</th>\n",
       "      <th>4</th>\n",
       "      <th>5</th>\n",
       "      <th>6</th>\n",
       "    </tr>\n",
       "    <tr>\n",
       "      <th>OBJECTID</th>\n",
       "      <th></th>\n",
       "      <th></th>\n",
       "      <th></th>\n",
       "      <th></th>\n",
       "      <th></th>\n",
       "      <th></th>\n",
       "    </tr>\n",
       "  </thead>\n",
       "  <tbody>\n",
       "    <tr>\n",
       "      <th>1</th>\n",
       "      <td>0.0</td>\n",
       "      <td>-73.948961</td>\n",
       "      <td>-124.808675</td>\n",
       "      <td>-101.969441</td>\n",
       "      <td>4.65232</td>\n",
       "      <td>-40.316441</td>\n",
       "    </tr>\n",
       "    <tr>\n",
       "      <th>2</th>\n",
       "      <td>106.051039</td>\n",
       "      <td>0.0</td>\n",
       "      <td>177.06112</td>\n",
       "      <td>133.90989</td>\n",
       "      <td>76.763392</td>\n",
       "      <td>84.847974</td>\n",
       "    </tr>\n",
       "    <tr>\n",
       "      <th>3</th>\n",
       "      <td>55.191325</td>\n",
       "      <td>-2.93888</td>\n",
       "      <td>0.0</td>\n",
       "      <td>34.920492</td>\n",
       "      <td>39.784073</td>\n",
       "      <td>32.839229</td>\n",
       "    </tr>\n",
       "    <tr>\n",
       "      <th>4</th>\n",
       "      <td>78.030559</td>\n",
       "      <td>-46.09011</td>\n",
       "      <td>-145.079508</td>\n",
       "      <td>0.0</td>\n",
       "      <td>43.336225</td>\n",
       "      <td>30.339168</td>\n",
       "    </tr>\n",
       "    <tr>\n",
       "      <th>5</th>\n",
       "      <td>-175.34768</td>\n",
       "      <td>-103.236608</td>\n",
       "      <td>-140.215927</td>\n",
       "      <td>-136.663775</td>\n",
       "      <td>0.0</td>\n",
       "      <td>-118.088692</td>\n",
       "    </tr>\n",
       "    <tr>\n",
       "      <th>6</th>\n",
       "      <td>139.683559</td>\n",
       "      <td>-95.152026</td>\n",
       "      <td>-147.160771</td>\n",
       "      <td>-149.660832</td>\n",
       "      <td>61.911308</td>\n",
       "      <td>0.0</td>\n",
       "    </tr>\n",
       "  </tbody>\n",
       "</table>\n",
       "</div>"
      ],
      "text/plain": [
       "OBJECTID           1           2           3           4          5  \\\n",
       "OBJECTID                                                              \n",
       "1                0.0  -73.948961 -124.808675 -101.969441    4.65232   \n",
       "2         106.051039         0.0   177.06112   133.90989  76.763392   \n",
       "3          55.191325    -2.93888         0.0   34.920492  39.784073   \n",
       "4          78.030559   -46.09011 -145.079508         0.0  43.336225   \n",
       "5         -175.34768 -103.236608 -140.215927 -136.663775        0.0   \n",
       "6         139.683559  -95.152026 -147.160771 -149.660832  61.911308   \n",
       "\n",
       "OBJECTID           6  \n",
       "OBJECTID              \n",
       "1         -40.316441  \n",
       "2          84.847974  \n",
       "3          32.839229  \n",
       "4          30.339168  \n",
       "5        -118.088692  \n",
       "6                0.0  "
      ]
     },
     "execution_count": 100,
     "metadata": {},
     "output_type": "execute_result"
    }
   ],
   "source": [
    "angle_matrix.iloc[0:6,0:6]"
   ]
  },
  {
   "cell_type": "code",
   "execution_count": 101,
   "metadata": {},
   "outputs": [],
   "source": [
    "angle_matrix.to_csv('data/angle_matrix.csv')"
   ]
  },
  {
   "cell_type": "code",
   "execution_count": 47,
   "metadata": {},
   "outputs": [
    {
     "data": {
      "text/plain": [
       "<AxesSubplot:xlabel='lon', ylabel='lat'>"
      ]
     },
     "execution_count": 47,
     "metadata": {},
     "output_type": "execute_result"
    },
    {
     "data": {
      "image/png": "[encoded data removed]",
      "text/plain": [
       "<Figure size 432x288 with 1 Axes>"
      ]
     },
     "metadata": {
      "needs_background": "light"
     },
     "output_type": "display_data"
    }
   ],
   "source": [
    "sns.scatterplot(x=df['lon'],y=df['lat'], s=5)\n",
    "sns.scatterplot(x=df.loc[[256,263]]['lon'],y=df.loc[[256,263]]['lat'], s=5)"
   ]
  },
  {
   "cell_type": "code",
   "execution_count": 59,
   "metadata": {},
   "outputs": [
    {
     "data": {
      "text/plain": [
       "-135.0"
      ]
     },
     "execution_count": 59,
     "metadata": {},
     "output_type": "execute_result"
    }
   ],
   "source": [
    "lon_a, lat_a = [-1,-1]\n",
    "lon_b, lat_b = [0,0]\n",
    "np.rad2deg(np.arctan2(lat_a-lat_b, lon_a-lon_b))"
   ]
  },
  {
   "cell_type": "code",
   "execution_count": 96,
   "metadata": {},
   "outputs": [],
   "source": [
    "df.to_csv('data/location_df.csv')"
   ]
  },
  {
   "cell_type": "code",
   "execution_count": 71,
   "metadata": {},
   "outputs": [
    {
     "data": {
      "text/plain": [
       "20"
      ]
     },
     "execution_count": 71,
     "metadata": {},
     "output_type": "execute_result"
    }
   ],
   "source": [
    "def angle_diff(a1, a2):\n",
    "    d_a = a1-a2\n",
    "    if d_a>180:\n",
    "        d_a -= 360\n",
    "    elif d_a<-180:\n",
    "        d_a += 360\n",
    "    return abs(d_a)\n",
    "\n",
    "def calculate_overlap(a1, a2, b1, b2):\n",
    "    x_sorted, points_sorted_x = zip(*sorted(zip([a1[0],a2[0],b1[0],b2[0]], ['a','a','b','b'])))\n",
    "    y_sorted, points_sorted_y = zip(*sorted(zip([a1[1],a2[1],b1[1],b2[1]], ['a','a','b','b'])))\n",
    "    \n",
    "    if points_sorted_x[0] != points_sorted_x[1]:\n",
    "        # overlap! \n",
    "        overlap_x = x_sorted[2]-x_sorted[1]\n",
    "    else:\n",
    "        overlap_x = 0\n",
    "        \n",
    "    if points_sorted_y[0] != points_sorted_y[1]:\n",
    "        # overlap! \n",
    "        overlap_y = y_sorted[2]-y_sorted[1]\n",
    "    else:\n",
    "        overlap_y = 0\n",
    "    \n",
    "    return overlap_x, overlap_y\n",
    "\n",
    "def length_manhattan\n",
    "\n",
    "def match_rides(pu_a, do_a, pu_b, do_b):\n",
    "    lat_a1, lon_a1 = df.loc[pu_a, ['lon','lat']]\n",
    "    lat_a2, lon_a2 = df.loc[do_a, ['lon','lat']]\n",
    "    lat_b1, lon_b1 = df.loc[pu_b, ['lon','lat']]\n",
    "    lat_b2, lon_b2 = df.loc[do_b, ['lon','lat']]\n",
    "    \n",
    "    angle_a = calculate_direction(lat_a1, lon_a1, lat_a2, lon_a2)\n",
    "    angle_b = calculate_direction(lat_b1, lon_b1, lat_b2, lon_b2)\n",
    "    if angle_diff(angle_a, angle_b)<=45:\n",
    "        overlap_x, overlap_y = calculate_overlap(a1, a2, b1, b2)\n",
    "        \n",
    "    "
   ]
  },
  {
   "cell_type": "code",
   "execution_count": 73,
   "metadata": {},
   "outputs": [
    {
     "data": {
      "text/plain": [
       "(2, 0)"
      ]
     },
     "execution_count": 73,
     "metadata": {},
     "output_type": "execute_result"
    },
    {
     "data": {
      "image/png": "[encoded data removed]",
      "text/plain": [
       "<Figure size 432x288 with 1 Axes>"
      ]
     },
     "metadata": {
      "needs_background": "light"
     },
     "output_type": "display_data"
    }
   ],
   "source": [
    "\n",
    "\n",
    "a1 = [4,4]\n",
    "a2 = [8,9]\n",
    "b1 = [2,1]\n",
    "b2 = [6,1]\n",
    "plt.plot([a1[0],a2[0]], [a1[1],a2[1]])\n",
    "plt.plot([b1[0],b2[0]], [b1[1],b2[1]])\n",
    "plt.plot([(b1[0]+a1[0])/2,(b2[0]+a2[0])/2], [(b1[1]+a1[1])/2,(b2[1]+a2[1])/2])\n",
    "calculate_overlap(a1, a2, b1, b2)"
   ]
  },
  {
   "cell_type": "code",
   "execution_count": 2,
   "metadata": {},
   "outputs": [],
   "source": [
    "import fiona\n",
    "import shapely"
   ]
  },
  {
   "cell_type": "code",
   "execution_count": 18,
   "metadata": {},
   "outputs": [],
   "source": []
  },
  {
   "cell_type": "code",
   "execution_count": 26,
   "metadata": {},
   "outputs": [],
   "source": []
  },
  {
   "cell_type": "code",
   "execution_count": 27,
   "metadata": {},
   "outputs": [
    {
     "name": "stdout",
     "output_type": "stream",
     "text": [
      "Bronx\n",
      "8.68 µs ± 489 ns per loop (mean ± std. dev. of 7 runs, 100000 loops each)\n",
      "8.75 µs ± 787 ns per loop (mean ± std. dev. of 7 runs, 100000 loops each)\n",
      "77.8 ms ± 3.13 ms per loop (mean ± std. dev. of 7 runs, 10 loops each)\n",
      "Manhattan\n",
      "8.82 µs ± 675 ns per loop (mean ± std. dev. of 7 runs, 100000 loops each)\n",
      "9.25 µs ± 1.34 µs per loop (mean ± std. dev. of 7 runs, 100000 loops each)\n",
      "52.8 ms ± 3.45 ms per loop (mean ± std. dev. of 7 runs, 10 loops each)\n",
      "Staten Island\n",
      "9.15 µs ± 1.22 µs per loop (mean ± std. dev. of 7 runs, 100000 loops each)\n",
      "8.87 µs ± 982 ns per loop (mean ± std. dev. of 7 runs, 100000 loops each)\n",
      "79 ms ± 4.2 ms per loop (mean ± std. dev. of 7 runs, 10 loops each)\n",
      "Brooklyn\n",
      "8.79 µs ± 713 ns per loop (mean ± std. dev. of 7 runs, 100000 loops each)\n",
      "8.7 µs ± 631 ns per loop (mean ± std. dev. of 7 runs, 100000 loops each)\n",
      "220 ms ± 13 ms per loop (mean ± std. dev. of 7 runs, 10 loops each)\n",
      "Queens\n",
      "9.78 µs ± 1.02 µs per loop (mean ± std. dev. of 7 runs, 100000 loops each)\n",
      "10.4 µs ± 1.34 µs per loop (mean ± std. dev. of 7 runs, 100000 loops each)\n",
      "330 ms ± 13.9 ms per loop (mean ± std. dev. of 7 runs, 1 loop each)\n"
     ]
    }
   ],
   "source": [
    "point =  # longitude, latitude\n",
    "\n",
    "for boro in shape_dict:\n",
    "    print(boro)\n",
    "    %timeit shape_dict[boro]['shape_simp'].contains(point)\n",
    "    %timeit shape_dict[boro]['shape'].contains(point)"
   ]
  },
  {
   "cell_type": "code",
   "execution_count": 183,
   "metadata": {},
   "outputs": [],
   "source": [
    "shape_dict = {}\n",
    "with fiona.open(\"data/Borough Boundaries/geo_export_86f96b0c-2916-4b73-b089-ba632d5abdd7.shp\") as fiona_collection:\n",
    "    # In this case, we'll assume the shapefile only has one record/layer (e.g., the shapefile\n",
    "    # is just for the borders of a single country, etc.).\n",
    "    #shapefile_record = fiona_collection.next()\n",
    "    for record in fiona_collection:  \n",
    "        name = record['properties']['boro_name']\n",
    "        shape = shapely.geometry.asShape(record['geometry'])\n",
    "        shape_dict[name] = {'shape':shape}\n",
    "\n",
    "for boro in shape_dict:\n",
    "    x0, y0, x1, y1 = shape_dict[boro]['shape'].bounds\n",
    "    shape_dict[boro]['x0'] = x0\n",
    "    shape_dict[boro]['y0'] = y0\n",
    "    shape_dict[boro]['x1'] = x1\n",
    "    shape_dict[boro]['y1'] = y1\n",
    "    shape_dict[boro]['bounds'] = shapely.geometry.box(minx, miny, maxx, maxy)\n",
    "    tol = min(x1-x0, y1-y0)/2000\n",
    "    shape_dict[boro]['shape_simp'] = shape_dict[boro]['shape'].simplify(tol)\n",
    "\n",
    "boro_names = list(shape_dict.keys())\n",
    "\n",
    "def get_potential_boros(df, shape_dict):\n",
    "    potential_boros = pd.DataFrame(index=df.index)\n",
    "    for boro in shape_dict:\n",
    "        in_boro = df['pickup_longitude'].between(shape_dict[boro]['x0'], shape_dict[boro]['x1'])\n",
    "        in_boro = in_boro & df['pickup_latitude'].between(shape_dict[boro]['y0'], shape_dict[boro]['y1'])\n",
    "        potential_boros[boro] = in_boro\n",
    "    return potential_boros\n",
    "\n",
    "def get_clear_boros(df, shape_dict):\n",
    "    potential_boros = get_potential_boros(df, shape_dict)\n",
    "    clear_boros = potential_boros[potential_boros.sum(axis=1)==1]\n",
    "    clear_boros = clear_boros.stack().reset_index()\n",
    "    clear_boros = clear_boros[clear_boros[0]==True]\n",
    "    #clear_boros['level_0'] = clear_boros['level_0'].astype(int)\n",
    "    #clear_boros = clear_boros.set_index('level_0')\n",
    "    #print(clear_boros)\n",
    "    #merged_df = clear_boros.merge(df, left_index=True, right_on=\"ride_id_0\",how=\"left\")\n",
    "    return clear_boros"
   ]
  },
  {
   "cell_type": "code",
   "execution_count": 162,
   "metadata": {},
   "outputs": [
    {
     "name": "stderr",
     "output_type": "stream",
     "text": [
      "C:\\Util\\Anaconda3\\lib\\site-packages\\numpy\\lib\\arraysetops.py:583: FutureWarning: elementwise comparison failed; returning scalar instead, but in the future will perform elementwise comparison\n",
      "  mask |= (ar1 == a)\n"
     ]
    }
   ],
   "source": [
    "merged_df = pd.read_csv('data/merged_df.csv',index_col=0)"
   ]
  },
  {
   "cell_type": "code",
   "execution_count": 179,
   "metadata": {},
   "outputs": [],
   "source": [
    "merged_df.index = merged_df['ride_id_0']"
   ]
  },
  {
   "cell_type": "code",
   "execution_count": 186,
   "metadata": {},
   "outputs": [],
   "source": [
    "clear_boros = get_clear_boros(merged_df, shape_dict)"
   ]
  },
  {
   "cell_type": "code",
   "execution_count": 184,
   "metadata": {},
   "outputs": [],
   "source": [
    "potential_boros = get_potential_boros(merged_df, shape_dict)"
   ]
  },
  {
   "cell_type": "code",
   "execution_count": 188,
   "metadata": {},
   "outputs": [
    {
     "data": {
      "text/html": [
       "<div>\n",
       "<style scoped>\n",
       "    .dataframe tbody tr th:only-of-type {\n",
       "        vertical-align: middle;\n",
       "    }\n",
       "\n",
       "    .dataframe tbody tr th {\n",
       "        vertical-align: top;\n",
       "    }\n",
       "\n",
       "    .dataframe thead th {\n",
       "        text-align: right;\n",
       "    }\n",
       "</style>\n",
       "<table border=\"1\" class=\"dataframe\">\n",
       "  <thead>\n",
       "    <tr style=\"text-align: right;\">\n",
       "      <th></th>\n",
       "      <th>ride_id_0</th>\n",
       "      <th>ride_id_1</th>\n",
       "      <th>ride_id_2</th>\n",
       "      <th>ride_id_3</th>\n",
       "      <th>ride_id_4</th>\n",
       "      <th>ride_id_5</th>\n",
       "      <th>VendorID</th>\n",
       "      <th>tpep_pickup_datetime</th>\n",
       "      <th>tpep_dropoff_datetime</th>\n",
       "      <th>passenger_count</th>\n",
       "      <th>...</th>\n",
       "      <th>mta_tax</th>\n",
       "      <th>tip_amount</th>\n",
       "      <th>tolls_amount</th>\n",
       "      <th>improvement_surcharge</th>\n",
       "      <th>total_amount</th>\n",
       "      <th>duration_minutes</th>\n",
       "      <th>direction</th>\n",
       "      <th>euclidean_length</th>\n",
       "      <th>time-of-day</th>\n",
       "      <th>day-of-week</th>\n",
       "    </tr>\n",
       "    <tr>\n",
       "      <th>ride_id_0</th>\n",
       "      <th></th>\n",
       "      <th></th>\n",
       "      <th></th>\n",
       "      <th></th>\n",
       "      <th></th>\n",
       "      <th></th>\n",
       "      <th></th>\n",
       "      <th></th>\n",
       "      <th></th>\n",
       "      <th></th>\n",
       "      <th></th>\n",
       "      <th></th>\n",
       "      <th></th>\n",
       "      <th></th>\n",
       "      <th></th>\n",
       "      <th></th>\n",
       "      <th></th>\n",
       "      <th></th>\n",
       "      <th></th>\n",
       "      <th></th>\n",
       "      <th></th>\n",
       "    </tr>\n",
       "  </thead>\n",
       "  <tbody>\n",
       "    <tr>\n",
       "      <th>3021109</th>\n",
       "      <td>3021109</td>\n",
       "      <td>3022704.0</td>\n",
       "      <td>3020821.0</td>\n",
       "      <td>3024802.0</td>\n",
       "      <td>3022388.0</td>\n",
       "      <td>NaN</td>\n",
       "      <td>1</td>\n",
       "      <td>2016-06-06 18:30:50</td>\n",
       "      <td>2016-06-06 18:49:39</td>\n",
       "      <td>1</td>\n",
       "      <td>...</td>\n",
       "      <td>0.5</td>\n",
       "      <td>3.25</td>\n",
       "      <td>0.00</td>\n",
       "      <td>0.3</td>\n",
       "      <td>19.55</td>\n",
       "      <td>1.881667e+01</td>\n",
       "      <td>-108.178396</td>\n",
       "      <td>0.032868</td>\n",
       "      <td>4</td>\n",
       "      <td>Mon</td>\n",
       "    </tr>\n",
       "    <tr>\n",
       "      <th>3021110</th>\n",
       "      <td>3021110</td>\n",
       "      <td>3020931.0</td>\n",
       "      <td>3021851.0</td>\n",
       "      <td>3021617.0</td>\n",
       "      <td>NaN</td>\n",
       "      <td>NaN</td>\n",
       "      <td>1</td>\n",
       "      <td>2016-06-06 18:30:50</td>\n",
       "      <td>2016-06-06 18:44:55</td>\n",
       "      <td>3</td>\n",
       "      <td>...</td>\n",
       "      <td>0.5</td>\n",
       "      <td>5.00</td>\n",
       "      <td>0.00</td>\n",
       "      <td>0.3</td>\n",
       "      <td>16.80</td>\n",
       "      <td>1.408333e+01</td>\n",
       "      <td>-102.889493</td>\n",
       "      <td>0.019324</td>\n",
       "      <td>4</td>\n",
       "      <td>Mon</td>\n",
       "    </tr>\n",
       "    <tr>\n",
       "      <th>3021111</th>\n",
       "      <td>3021111</td>\n",
       "      <td>3021865.0</td>\n",
       "      <td>3021566.0</td>\n",
       "      <td>3021070.0</td>\n",
       "      <td>3022173.0</td>\n",
       "      <td>NaN</td>\n",
       "      <td>2</td>\n",
       "      <td>2016-06-06 18:30:50</td>\n",
       "      <td>2016-06-06 18:51:42</td>\n",
       "      <td>1</td>\n",
       "      <td>...</td>\n",
       "      <td>0.5</td>\n",
       "      <td>3.26</td>\n",
       "      <td>0.00</td>\n",
       "      <td>0.3</td>\n",
       "      <td>19.56</td>\n",
       "      <td>2.086667e+01</td>\n",
       "      <td>55.737757</td>\n",
       "      <td>0.041319</td>\n",
       "      <td>4</td>\n",
       "      <td>Mon</td>\n",
       "    </tr>\n",
       "    <tr>\n",
       "      <th>3021113</th>\n",
       "      <td>3021113</td>\n",
       "      <td>3020241.0</td>\n",
       "      <td>3020932.0</td>\n",
       "      <td>3022691.0</td>\n",
       "      <td>NaN</td>\n",
       "      <td>NaN</td>\n",
       "      <td>2</td>\n",
       "      <td>2016-06-06 18:30:50</td>\n",
       "      <td>2016-06-06 19:14:33</td>\n",
       "      <td>1</td>\n",
       "      <td>...</td>\n",
       "      <td>0.5</td>\n",
       "      <td>0.00</td>\n",
       "      <td>5.54</td>\n",
       "      <td>0.3</td>\n",
       "      <td>62.84</td>\n",
       "      <td>4.371667e+01</td>\n",
       "      <td>151.942713</td>\n",
       "      <td>0.220770</td>\n",
       "      <td>4</td>\n",
       "      <td>Mon</td>\n",
       "    </tr>\n",
       "    <tr>\n",
       "      <th>3021392</th>\n",
       "      <td>3021392</td>\n",
       "      <td>3020456.0</td>\n",
       "      <td>3020677.0</td>\n",
       "      <td>3023414.0</td>\n",
       "      <td>NaN</td>\n",
       "      <td>NaN</td>\n",
       "      <td>2</td>\n",
       "      <td>2016-06-06 18:30:51</td>\n",
       "      <td>2016-06-06 18:40:19</td>\n",
       "      <td>1</td>\n",
       "      <td>...</td>\n",
       "      <td>0.5</td>\n",
       "      <td>1.00</td>\n",
       "      <td>0.00</td>\n",
       "      <td>0.3</td>\n",
       "      <td>10.30</td>\n",
       "      <td>9.466667e+00</td>\n",
       "      <td>-7.501957</td>\n",
       "      <td>0.014960</td>\n",
       "      <td>4</td>\n",
       "      <td>Mon</td>\n",
       "    </tr>\n",
       "    <tr>\n",
       "      <th>...</th>\n",
       "      <td>...</td>\n",
       "      <td>...</td>\n",
       "      <td>...</td>\n",
       "      <td>...</td>\n",
       "      <td>...</td>\n",
       "      <td>...</td>\n",
       "      <td>...</td>\n",
       "      <td>...</td>\n",
       "      <td>...</td>\n",
       "      <td>...</td>\n",
       "      <td>...</td>\n",
       "      <td>...</td>\n",
       "      <td>...</td>\n",
       "      <td>...</td>\n",
       "      <td>...</td>\n",
       "      <td>...</td>\n",
       "      <td>...</td>\n",
       "      <td>...</td>\n",
       "      <td>...</td>\n",
       "      <td>...</td>\n",
       "      <td>...</td>\n",
       "    </tr>\n",
       "    <tr>\n",
       "      <th>4564307</th>\n",
       "      <td>4564307</td>\n",
       "      <td>NaN</td>\n",
       "      <td>NaN</td>\n",
       "      <td>NaN</td>\n",
       "      <td>NaN</td>\n",
       "      <td>NaN</td>\n",
       "      <td>2</td>\n",
       "      <td>2016-06-12 23:58:21</td>\n",
       "      <td>2016-06-12 23:59:36</td>\n",
       "      <td>1</td>\n",
       "      <td>...</td>\n",
       "      <td>0.5</td>\n",
       "      <td>0.00</td>\n",
       "      <td>0.00</td>\n",
       "      <td>0.3</td>\n",
       "      <td>4.30</td>\n",
       "      <td>1.250000e+00</td>\n",
       "      <td>93.136358</td>\n",
       "      <td>0.000279</td>\n",
       "      <td>5</td>\n",
       "      <td>Sun</td>\n",
       "    </tr>\n",
       "    <tr>\n",
       "      <th>4564463</th>\n",
       "      <td>4564463</td>\n",
       "      <td>NaN</td>\n",
       "      <td>NaN</td>\n",
       "      <td>NaN</td>\n",
       "      <td>NaN</td>\n",
       "      <td>NaN</td>\n",
       "      <td>1</td>\n",
       "      <td>2016-06-12 23:58:38</td>\n",
       "      <td>2016-06-12 23:58:56</td>\n",
       "      <td>1</td>\n",
       "      <td>...</td>\n",
       "      <td>0.5</td>\n",
       "      <td>6.75</td>\n",
       "      <td>0.00</td>\n",
       "      <td>0.3</td>\n",
       "      <td>10.55</td>\n",
       "      <td>3.000000e-01</td>\n",
       "      <td>0.000000</td>\n",
       "      <td>0.000000</td>\n",
       "      <td>5</td>\n",
       "      <td>Sun</td>\n",
       "    </tr>\n",
       "    <tr>\n",
       "      <th>4564912</th>\n",
       "      <td>4564912</td>\n",
       "      <td>NaN</td>\n",
       "      <td>NaN</td>\n",
       "      <td>NaN</td>\n",
       "      <td>NaN</td>\n",
       "      <td>NaN</td>\n",
       "      <td>2</td>\n",
       "      <td>2016-06-12 23:59:15</td>\n",
       "      <td>2016-06-12 23:59:31</td>\n",
       "      <td>1</td>\n",
       "      <td>...</td>\n",
       "      <td>0.5</td>\n",
       "      <td>0.00</td>\n",
       "      <td>0.00</td>\n",
       "      <td>0.3</td>\n",
       "      <td>12.00</td>\n",
       "      <td>2.666667e-01</td>\n",
       "      <td>0.000000</td>\n",
       "      <td>0.000000</td>\n",
       "      <td>5</td>\n",
       "      <td>Sun</td>\n",
       "    </tr>\n",
       "    <tr>\n",
       "      <th>7138795</th>\n",
       "      <td>7138795</td>\n",
       "      <td>NaN</td>\n",
       "      <td>NaN</td>\n",
       "      <td>NaN</td>\n",
       "      <td>NaN</td>\n",
       "      <td>NaN</td>\n",
       "      <td>1</td>\n",
       "      <td>2016-06-20 15:15:53</td>\n",
       "      <td>1996-06-20 16:23:24</td>\n",
       "      <td>4</td>\n",
       "      <td>...</td>\n",
       "      <td>0.5</td>\n",
       "      <td>0.00</td>\n",
       "      <td>11.08</td>\n",
       "      <td>0.3</td>\n",
       "      <td>63.88</td>\n",
       "      <td>-1.051913e+07</td>\n",
       "      <td>136.139619</td>\n",
       "      <td>0.222830</td>\n",
       "      <td>3</td>\n",
       "      <td>Mon</td>\n",
       "    </tr>\n",
       "    <tr>\n",
       "      <th>10993630</th>\n",
       "      <td>10993630</td>\n",
       "      <td>NaN</td>\n",
       "      <td>NaN</td>\n",
       "      <td>NaN</td>\n",
       "      <td>NaN</td>\n",
       "      <td>NaN</td>\n",
       "      <td>1</td>\n",
       "      <td>2016-06-21 15:15:46</td>\n",
       "      <td>2004-07-09 14:28:19</td>\n",
       "      <td>1</td>\n",
       "      <td>...</td>\n",
       "      <td>0.5</td>\n",
       "      <td>1.55</td>\n",
       "      <td>0.00</td>\n",
       "      <td>0.3</td>\n",
       "      <td>9.35</td>\n",
       "      <td>-6.285647e+06</td>\n",
       "      <td>54.108900</td>\n",
       "      <td>0.019339</td>\n",
       "      <td>3</td>\n",
       "      <td>Tue</td>\n",
       "    </tr>\n",
       "  </tbody>\n",
       "</table>\n",
       "<p>1274534 rows × 30 columns</p>\n",
       "</div>"
      ],
      "text/plain": [
       "           ride_id_0  ride_id_1  ride_id_2  ride_id_3  ride_id_4  ride_id_5  \\\n",
       "ride_id_0                                                                     \n",
       "3021109      3021109  3022704.0  3020821.0  3024802.0  3022388.0        NaN   \n",
       "3021110      3021110  3020931.0  3021851.0  3021617.0        NaN        NaN   \n",
       "3021111      3021111  3021865.0  3021566.0  3021070.0  3022173.0        NaN   \n",
       "3021113      3021113  3020241.0  3020932.0  3022691.0        NaN        NaN   \n",
       "3021392      3021392  3020456.0  3020677.0  3023414.0        NaN        NaN   \n",
       "...              ...        ...        ...        ...        ...        ...   \n",
       "4564307      4564307        NaN        NaN        NaN        NaN        NaN   \n",
       "4564463      4564463        NaN        NaN        NaN        NaN        NaN   \n",
       "4564912      4564912        NaN        NaN        NaN        NaN        NaN   \n",
       "7138795      7138795        NaN        NaN        NaN        NaN        NaN   \n",
       "10993630    10993630        NaN        NaN        NaN        NaN        NaN   \n",
       "\n",
       "           VendorID tpep_pickup_datetime tpep_dropoff_datetime  \\\n",
       "ride_id_0                                                        \n",
       "3021109           1  2016-06-06 18:30:50   2016-06-06 18:49:39   \n",
       "3021110           1  2016-06-06 18:30:50   2016-06-06 18:44:55   \n",
       "3021111           2  2016-06-06 18:30:50   2016-06-06 18:51:42   \n",
       "3021113           2  2016-06-06 18:30:50   2016-06-06 19:14:33   \n",
       "3021392           2  2016-06-06 18:30:51   2016-06-06 18:40:19   \n",
       "...             ...                  ...                   ...   \n",
       "4564307           2  2016-06-12 23:58:21   2016-06-12 23:59:36   \n",
       "4564463           1  2016-06-12 23:58:38   2016-06-12 23:58:56   \n",
       "4564912           2  2016-06-12 23:59:15   2016-06-12 23:59:31   \n",
       "7138795           1  2016-06-20 15:15:53   1996-06-20 16:23:24   \n",
       "10993630          1  2016-06-21 15:15:46   2004-07-09 14:28:19   \n",
       "\n",
       "           passenger_count  ...  mta_tax  tip_amount  tolls_amount  \\\n",
       "ride_id_0                   ...                                      \n",
       "3021109                  1  ...      0.5        3.25          0.00   \n",
       "3021110                  3  ...      0.5        5.00          0.00   \n",
       "3021111                  1  ...      0.5        3.26          0.00   \n",
       "3021113                  1  ...      0.5        0.00          5.54   \n",
       "3021392                  1  ...      0.5        1.00          0.00   \n",
       "...                    ...  ...      ...         ...           ...   \n",
       "4564307                  1  ...      0.5        0.00          0.00   \n",
       "4564463                  1  ...      0.5        6.75          0.00   \n",
       "4564912                  1  ...      0.5        0.00          0.00   \n",
       "7138795                  4  ...      0.5        0.00         11.08   \n",
       "10993630                 1  ...      0.5        1.55          0.00   \n",
       "\n",
       "           improvement_surcharge total_amount  duration_minutes   direction  \\\n",
       "ride_id_0                                                                     \n",
       "3021109                      0.3        19.55      1.881667e+01 -108.178396   \n",
       "3021110                      0.3        16.80      1.408333e+01 -102.889493   \n",
       "3021111                      0.3        19.56      2.086667e+01   55.737757   \n",
       "3021113                      0.3        62.84      4.371667e+01  151.942713   \n",
       "3021392                      0.3        10.30      9.466667e+00   -7.501957   \n",
       "...                          ...          ...               ...         ...   \n",
       "4564307                      0.3         4.30      1.250000e+00   93.136358   \n",
       "4564463                      0.3        10.55      3.000000e-01    0.000000   \n",
       "4564912                      0.3        12.00      2.666667e-01    0.000000   \n",
       "7138795                      0.3        63.88     -1.051913e+07  136.139619   \n",
       "10993630                     0.3         9.35     -6.285647e+06   54.108900   \n",
       "\n",
       "           euclidean_length  time-of-day  day-of-week  \n",
       "ride_id_0                                              \n",
       "3021109            0.032868            4          Mon  \n",
       "3021110            0.019324            4          Mon  \n",
       "3021111            0.041319            4          Mon  \n",
       "3021113            0.220770            4          Mon  \n",
       "3021392            0.014960            4          Mon  \n",
       "...                     ...          ...          ...  \n",
       "4564307            0.000279            5          Sun  \n",
       "4564463            0.000000            5          Sun  \n",
       "4564912            0.000000            5          Sun  \n",
       "7138795            0.222830            3          Mon  \n",
       "10993630           0.019339            3          Tue  \n",
       "\n",
       "[1274534 rows x 30 columns]"
      ]
     },
     "execution_count": 188,
     "metadata": {},
     "output_type": "execute_result"
    }
   ],
   "source": [
    "merged_df"
   ]
  },
  {
   "cell_type": "code",
   "execution_count": null,
   "metadata": {},
   "outputs": [],
   "source": []
  },
  {
   "cell_type": "code",
   "execution_count": 191,
   "metadata": {},
   "outputs": [],
   "source": []
  },
  {
   "cell_type": "code",
   "execution_count": 193,
   "metadata": {},
   "outputs": [],
   "source": []
  },
  {
   "cell_type": "code",
   "execution_count": 172,
   "metadata": {},
   "outputs": [
    {
     "data": {
      "text/plain": [
       "43863"
      ]
     },
     "execution_count": 172,
     "metadata": {},
     "output_type": "execute_result"
    }
   ],
   "source": []
  },
  {
   "cell_type": "code",
   "execution_count": 194,
   "metadata": {},
   "outputs": [],
   "source": [
    "merged_df_boros.to_csv('data/merged_df_boros.csv')"
   ]
  },
  {
   "cell_type": "code",
   "execution_count": 149,
   "metadata": {},
   "outputs": [
    {
     "data": {
      "text/plain": [
       "(23944723, 32)"
      ]
     },
     "execution_count": 149,
     "metadata": {},
     "output_type": "execute_result"
    }
   ],
   "source": [
    "merged_df_boros.shape"
   ]
  },
  {
   "cell_type": "code",
   "execution_count": 110,
   "metadata": {},
   "outputs": [],
   "source": [
    "clear_boros = potential_boros[potential_boros.sum(axis=1)==1]"
   ]
  },
  {
   "cell_type": "code",
   "execution_count": 111,
   "metadata": {},
   "outputs": [],
   "source": []
  },
  {
   "cell_type": "code",
   "execution_count": 122,
   "metadata": {},
   "outputs": [
    {
     "data": {
      "text/html": [
       "<div>\n",
       "<style scoped>\n",
       "    .dataframe tbody tr th:only-of-type {\n",
       "        vertical-align: middle;\n",
       "    }\n",
       "\n",
       "    .dataframe tbody tr th {\n",
       "        vertical-align: top;\n",
       "    }\n",
       "\n",
       "    .dataframe thead th {\n",
       "        text-align: right;\n",
       "    }\n",
       "</style>\n",
       "<table border=\"1\" class=\"dataframe\">\n",
       "  <thead>\n",
       "    <tr style=\"text-align: right;\">\n",
       "      <th></th>\n",
       "      <th>level_1</th>\n",
       "      <th>0</th>\n",
       "    </tr>\n",
       "    <tr>\n",
       "      <th>level_0</th>\n",
       "      <th></th>\n",
       "      <th></th>\n",
       "    </tr>\n",
       "  </thead>\n",
       "  <tbody>\n",
       "    <tr>\n",
       "      <th>2765158</th>\n",
       "      <td>Manhattan</td>\n",
       "      <td>True</td>\n",
       "    </tr>\n",
       "    <tr>\n",
       "      <th>2765159</th>\n",
       "      <td>Manhattan</td>\n",
       "      <td>True</td>\n",
       "    </tr>\n",
       "    <tr>\n",
       "      <th>2128993</th>\n",
       "      <td>Manhattan</td>\n",
       "      <td>True</td>\n",
       "    </tr>\n",
       "    <tr>\n",
       "      <th>2128995</th>\n",
       "      <td>Manhattan</td>\n",
       "      <td>True</td>\n",
       "    </tr>\n",
       "    <tr>\n",
       "      <th>2128994</th>\n",
       "      <td>Manhattan</td>\n",
       "      <td>True</td>\n",
       "    </tr>\n",
       "    <tr>\n",
       "      <th>...</th>\n",
       "      <td>...</td>\n",
       "      <td>...</td>\n",
       "    </tr>\n",
       "    <tr>\n",
       "      <th>2776142</th>\n",
       "      <td>Manhattan</td>\n",
       "      <td>True</td>\n",
       "    </tr>\n",
       "    <tr>\n",
       "      <th>2776140</th>\n",
       "      <td>Queens</td>\n",
       "      <td>True</td>\n",
       "    </tr>\n",
       "    <tr>\n",
       "      <th>2776141</th>\n",
       "      <td>Manhattan</td>\n",
       "      <td>True</td>\n",
       "    </tr>\n",
       "    <tr>\n",
       "      <th>2776143</th>\n",
       "      <td>Manhattan</td>\n",
       "      <td>True</td>\n",
       "    </tr>\n",
       "    <tr>\n",
       "      <th>2776146</th>\n",
       "      <td>Queens</td>\n",
       "      <td>True</td>\n",
       "    </tr>\n",
       "  </tbody>\n",
       "</table>\n",
       "<p>6647 rows × 2 columns</p>\n",
       "</div>"
      ],
      "text/plain": [
       "           level_1     0\n",
       "level_0                 \n",
       "2765158  Manhattan  True\n",
       "2765159  Manhattan  True\n",
       "2128993  Manhattan  True\n",
       "2128995  Manhattan  True\n",
       "2128994  Manhattan  True\n",
       "...            ...   ...\n",
       "2776142  Manhattan  True\n",
       "2776140     Queens  True\n",
       "2776141  Manhattan  True\n",
       "2776143  Manhattan  True\n",
       "2776146     Queens  True\n",
       "\n",
       "[6647 rows x 2 columns]"
      ]
     },
     "execution_count": 122,
     "metadata": {},
     "output_type": "execute_result"
    }
   ],
   "source": []
  },
  {
   "cell_type": "code",
   "execution_count": 113,
   "metadata": {},
   "outputs": [
    {
     "data": {
      "text/plain": [
       "Manhattan        4181\n",
       "Queens           2412\n",
       "Brooklyn           43\n",
       "Bronx               9\n",
       "Staten Island       2\n",
       "Name: level_1, dtype: int64"
      ]
     },
     "execution_count": 113,
     "metadata": {},
     "output_type": "execute_result"
    }
   ],
   "source": [
    "clear_boros['level_1'].value_counts()"
   ]
  },
  {
   "cell_type": "code",
   "execution_count": 92,
   "metadata": {},
   "outputs": [
    {
     "data": {
      "text/plain": [
       "2128992    40.78510\n",
       "2765158    40.75064\n",
       "2765157    40.74150\n",
       "2765159    40.74221\n",
       "2128993    40.75631\n",
       "             ...   \n",
       "2776141    40.74172\n",
       "2776144    40.78434\n",
       "2776143    40.75230\n",
       "2776145    40.73420\n",
       "2776146    40.64541\n",
       "Name: pickup_latitude, Length: 10000, dtype: float64"
      ]
     },
     "execution_count": 92,
     "metadata": {},
     "output_type": "execute_result"
    }
   ],
   "source": [
    "df_sample['pickup_latitude'].round(5)"
   ]
  },
  {
   "cell_type": "code",
   "execution_count": 117,
   "metadata": {},
   "outputs": [],
   "source": [
    "import pickle\n",
    "with open('data/results.pkl', 'rb') as f:\n",
    "    results = pickle.load(f)"
   ]
  },
  {
   "cell_type": "code",
   "execution_count": null,
   "metadata": {},
   "outputs": [],
   "source": []
  },
  {
   "cell_type": "code",
   "execution_count": 115,
   "metadata": {},
   "outputs": [
    {
     "ename": "AttributeError",
     "evalue": "Can only use .dt accessor with datetimelike values",
     "output_type": "error",
     "traceback": [
      "\u001b[1;31m---------------------------------------------------------------------------\u001b[0m",
      "\u001b[1;31mAttributeError\u001b[0m                            Traceback (most recent call last)",
      "\u001b[1;32m<ipython-input-115-493a2e171476>\u001b[0m in \u001b[0;36m<module>\u001b[1;34m\u001b[0m\n\u001b[1;32m----> 1\u001b[1;33m \u001b[0mdf_sample\u001b[0m\u001b[1;33m[\u001b[0m\u001b[1;34m'tpep_pickup_datetime'\u001b[0m\u001b[1;33m]\u001b[0m\u001b[1;33m.\u001b[0m\u001b[0mdt\u001b[0m\u001b[1;33m.\u001b[0m\u001b[0mstrftime\u001b[0m\u001b[1;33m(\u001b[0m\u001b[1;34m\"%H\"\u001b[0m\u001b[1;33m)\u001b[0m\u001b[1;33m\u001b[0m\u001b[1;33m\u001b[0m\u001b[0m\n\u001b[0m",
      "\u001b[1;32mC:\\Util\\Anaconda3\\lib\\site-packages\\pandas\\core\\generic.py\u001b[0m in \u001b[0;36m__getattr__\u001b[1;34m(self, name)\u001b[0m\n\u001b[0;32m   5485\u001b[0m         ):\n\u001b[0;32m   5486\u001b[0m             \u001b[1;32mreturn\u001b[0m \u001b[0mself\u001b[0m\u001b[1;33m[\u001b[0m\u001b[0mname\u001b[0m\u001b[1;33m]\u001b[0m\u001b[1;33m\u001b[0m\u001b[1;33m\u001b[0m\u001b[0m\n\u001b[1;32m-> 5487\u001b[1;33m         \u001b[1;32mreturn\u001b[0m \u001b[0mobject\u001b[0m\u001b[1;33m.\u001b[0m\u001b[0m__getattribute__\u001b[0m\u001b[1;33m(\u001b[0m\u001b[0mself\u001b[0m\u001b[1;33m,\u001b[0m \u001b[0mname\u001b[0m\u001b[1;33m)\u001b[0m\u001b[1;33m\u001b[0m\u001b[1;33m\u001b[0m\u001b[0m\n\u001b[0m\u001b[0;32m   5488\u001b[0m \u001b[1;33m\u001b[0m\u001b[0m\n\u001b[0;32m   5489\u001b[0m     \u001b[1;32mdef\u001b[0m \u001b[0m__setattr__\u001b[0m\u001b[1;33m(\u001b[0m\u001b[0mself\u001b[0m\u001b[1;33m,\u001b[0m \u001b[0mname\u001b[0m\u001b[1;33m:\u001b[0m \u001b[0mstr\u001b[0m\u001b[1;33m,\u001b[0m \u001b[0mvalue\u001b[0m\u001b[1;33m)\u001b[0m \u001b[1;33m->\u001b[0m \u001b[1;32mNone\u001b[0m\u001b[1;33m:\u001b[0m\u001b[1;33m\u001b[0m\u001b[1;33m\u001b[0m\u001b[0m\n",
      "\u001b[1;32mC:\\Util\\Anaconda3\\lib\\site-packages\\pandas\\core\\accessor.py\u001b[0m in \u001b[0;36m__get__\u001b[1;34m(self, obj, cls)\u001b[0m\n\u001b[0;32m    179\u001b[0m             \u001b[1;31m# we're accessing the attribute of the class, i.e., Dataset.geo\u001b[0m\u001b[1;33m\u001b[0m\u001b[1;33m\u001b[0m\u001b[1;33m\u001b[0m\u001b[0m\n\u001b[0;32m    180\u001b[0m             \u001b[1;32mreturn\u001b[0m \u001b[0mself\u001b[0m\u001b[1;33m.\u001b[0m\u001b[0m_accessor\u001b[0m\u001b[1;33m\u001b[0m\u001b[1;33m\u001b[0m\u001b[0m\n\u001b[1;32m--> 181\u001b[1;33m         \u001b[0maccessor_obj\u001b[0m \u001b[1;33m=\u001b[0m \u001b[0mself\u001b[0m\u001b[1;33m.\u001b[0m\u001b[0m_accessor\u001b[0m\u001b[1;33m(\u001b[0m\u001b[0mobj\u001b[0m\u001b[1;33m)\u001b[0m\u001b[1;33m\u001b[0m\u001b[1;33m\u001b[0m\u001b[0m\n\u001b[0m\u001b[0;32m    182\u001b[0m         \u001b[1;31m# Replace the property with the accessor object. Inspired by:\u001b[0m\u001b[1;33m\u001b[0m\u001b[1;33m\u001b[0m\u001b[1;33m\u001b[0m\u001b[0m\n\u001b[0;32m    183\u001b[0m         \u001b[1;31m# https://www.pydanny.com/cached-property.html\u001b[0m\u001b[1;33m\u001b[0m\u001b[1;33m\u001b[0m\u001b[1;33m\u001b[0m\u001b[0m\n",
      "\u001b[1;32mC:\\Util\\Anaconda3\\lib\\site-packages\\pandas\\core\\indexes\\accessors.py\u001b[0m in \u001b[0;36m__new__\u001b[1;34m(cls, data)\u001b[0m\n\u001b[0;32m    504\u001b[0m             \u001b[1;32mreturn\u001b[0m \u001b[0mPeriodProperties\u001b[0m\u001b[1;33m(\u001b[0m\u001b[0mdata\u001b[0m\u001b[1;33m,\u001b[0m \u001b[0morig\u001b[0m\u001b[1;33m)\u001b[0m\u001b[1;33m\u001b[0m\u001b[1;33m\u001b[0m\u001b[0m\n\u001b[0;32m    505\u001b[0m \u001b[1;33m\u001b[0m\u001b[0m\n\u001b[1;32m--> 506\u001b[1;33m         \u001b[1;32mraise\u001b[0m \u001b[0mAttributeError\u001b[0m\u001b[1;33m(\u001b[0m\u001b[1;34m\"Can only use .dt accessor with datetimelike values\"\u001b[0m\u001b[1;33m)\u001b[0m\u001b[1;33m\u001b[0m\u001b[1;33m\u001b[0m\u001b[0m\n\u001b[0m",
      "\u001b[1;31mAttributeError\u001b[0m: Can only use .dt accessor with datetimelike values"
     ]
    }
   ],
   "source": [
    "df_sample['tpep_pickup_datetime'].dt.strftime(\"%H\")"
   ]
  },
  {
   "cell_type": "code",
   "execution_count": null,
   "metadata": {},
   "outputs": [],
   "source": [
    "round(, 5)"
   ]
  },
  {
   "cell_type": "code",
   "execution_count": 90,
   "metadata": {},
   "outputs": [
    {
     "data": {
      "text/plain": [
       "2128992    2\n",
       "2765158    1\n",
       "2765157    2\n",
       "2765159    1\n",
       "2128993    1\n",
       "          ..\n",
       "2776141    1\n",
       "2776144    2\n",
       "2776143    1\n",
       "2776145    2\n",
       "2776146    1\n",
       "Length: 10000, dtype: int64"
      ]
     },
     "execution_count": 90,
     "metadata": {},
     "output_type": "execute_result"
    }
   ],
   "source": [
    "get_boros(df_sample, shape_dict).sum(axis=1)"
   ]
  },
  {
   "cell_type": "code",
   "execution_count": 76,
   "metadata": {},
   "outputs": [],
   "source": [
    "def check_boro(lon, lat):\n",
    "    p = shapely.geometry.Point(lon, lat)\n",
    "    for boro in boro_names[:-1]:\n",
    "        if shape_dict[boro]['shape_simp'].contains(p):\n",
    "            return boro\n",
    "    return boro_names[-1]"
   ]
  },
  {
   "cell_type": "code",
   "execution_count": 54,
   "metadata": {},
   "outputs": [],
   "source": [
    "df_sample = pd.read_csv('data/df_sample.csv', index_col=0)"
   ]
  },
  {
   "cell_type": "code",
   "execution_count": 77,
   "metadata": {},
   "outputs": [
    {
     "name": "stdout",
     "output_type": "stream",
     "text": [
      "26.09984254837036\n"
     ]
    }
   ],
   "source": [
    "lats = df_sample['pickup_latitude']\n",
    "lons = df_sample['pickup_longitude']\n",
    "import time \n",
    "boros = []\n",
    "t0 = time.time()\n",
    "for lat, lon in zip(lats, lons):\n",
    "    boros.append(check_boro(lon,lat))\n",
    "print(time.time()-t0)"
   ]
  },
  {
   "cell_type": "code",
   "execution_count": 78,
   "metadata": {},
   "outputs": [
    {
     "data": {
      "text/plain": [
       "['Bronx', 'Manhattan', 'Staten Island', 'Brooklyn', 'Queens']"
      ]
     },
     "execution_count": 78,
     "metadata": {},
     "output_type": "execute_result"
    }
   ],
   "source": [
    "boro_names"
   ]
  },
  {
   "cell_type": "code",
   "execution_count": 71,
   "metadata": {},
   "outputs": [
    {
     "name": "stdout",
     "output_type": "stream",
     "text": [
      "1.51 ms ± 112 µs per loop (mean ± std. dev. of 7 runs, 1000 loops each)\n"
     ]
    }
   ],
   "source": [
    "%timeit df_sample[['pickup_longitude','pickup_latitude']].iloc[0,:]"
   ]
  },
  {
   "cell_type": "code",
   "execution_count": 62,
   "metadata": {},
   "outputs": [
    {
     "name": "stdout",
     "output_type": "stream",
     "text": [
      "5.2 ms ± 280 µs per loop (mean ± std. dev. of 7 runs, 100 loops each)\n"
     ]
    }
   ],
   "source": [
    "%timeit check_boro(df_sample[['pickup_longitude','pickup_latitude']].iloc[0,:])"
   ]
  },
  {
   "cell_type": "code",
   "execution_count": 66,
   "metadata": {},
   "outputs": [
    {
     "name": "stdout",
     "output_type": "stream",
     "text": [
      "21.8 µs ± 2.53 µs per loop (mean ± std. dev. of 7 runs, 10000 loops each)\n"
     ]
    }
   ],
   "source": [
    "%timeit p = shapely.geometry.Point(55, 48)"
   ]
  },
  {
   "cell_type": "code",
   "execution_count": 68,
   "metadata": {},
   "outputs": [
    {
     "name": "stdout",
     "output_type": "stream",
     "text": [
      "9.59 µs ± 1.29 µs per loop (mean ± std. dev. of 7 runs, 100000 loops each)\n"
     ]
    }
   ],
   "source": [
    "%timeit shape_dict[boro]['shape_simp'].contains(p)"
   ]
  },
  {
   "cell_type": "code",
   "execution_count": 69,
   "metadata": {},
   "outputs": [],
   "source": [
    "ps = [shapely.geometry.Point(45, 45),shapely.geometry.Point(10, 30)]"
   ]
  },
  {
   "cell_type": "code",
   "execution_count": 70,
   "metadata": {},
   "outputs": [
    {
     "ename": "AttributeError",
     "evalue": "'list' object has no attribute '_geom'",
     "output_type": "error",
     "traceback": [
      "\u001b[1;31m---------------------------------------------------------------------------\u001b[0m",
      "\u001b[1;31mAttributeError\u001b[0m                            Traceback (most recent call last)",
      "\u001b[1;32m<ipython-input-70-c2db0db9fc0e>\u001b[0m in \u001b[0;36m<module>\u001b[1;34m\u001b[0m\n\u001b[1;32m----> 1\u001b[1;33m \u001b[0mshape_dict\u001b[0m\u001b[1;33m[\u001b[0m\u001b[0mboro\u001b[0m\u001b[1;33m]\u001b[0m\u001b[1;33m[\u001b[0m\u001b[1;34m'shape_simp'\u001b[0m\u001b[1;33m]\u001b[0m\u001b[1;33m.\u001b[0m\u001b[0mcontains\u001b[0m\u001b[1;33m(\u001b[0m\u001b[0mps\u001b[0m\u001b[1;33m)\u001b[0m\u001b[1;33m\u001b[0m\u001b[1;33m\u001b[0m\u001b[0m\n\u001b[0m",
      "\u001b[1;32mC:\\Util\\Anaconda3\\lib\\site-packages\\shapely\\geometry\\base.py\u001b[0m in \u001b[0;36mcontains\u001b[1;34m(self, other)\u001b[0m\n\u001b[0;32m    689\u001b[0m     \u001b[1;32mdef\u001b[0m \u001b[0mcontains\u001b[0m\u001b[1;33m(\u001b[0m\u001b[0mself\u001b[0m\u001b[1;33m,\u001b[0m \u001b[0mother\u001b[0m\u001b[1;33m)\u001b[0m\u001b[1;33m:\u001b[0m\u001b[1;33m\u001b[0m\u001b[1;33m\u001b[0m\u001b[0m\n\u001b[0;32m    690\u001b[0m         \u001b[1;34m\"\"\"Returns True if the geometry contains the other, else False\"\"\"\u001b[0m\u001b[1;33m\u001b[0m\u001b[1;33m\u001b[0m\u001b[0m\n\u001b[1;32m--> 691\u001b[1;33m         \u001b[1;32mreturn\u001b[0m \u001b[0mbool\u001b[0m\u001b[1;33m(\u001b[0m\u001b[0mself\u001b[0m\u001b[1;33m.\u001b[0m\u001b[0mimpl\u001b[0m\u001b[1;33m[\u001b[0m\u001b[1;34m'contains'\u001b[0m\u001b[1;33m]\u001b[0m\u001b[1;33m(\u001b[0m\u001b[0mself\u001b[0m\u001b[1;33m,\u001b[0m \u001b[0mother\u001b[0m\u001b[1;33m)\u001b[0m\u001b[1;33m)\u001b[0m\u001b[1;33m\u001b[0m\u001b[1;33m\u001b[0m\u001b[0m\n\u001b[0m\u001b[0;32m    692\u001b[0m \u001b[1;33m\u001b[0m\u001b[0m\n\u001b[0;32m    693\u001b[0m     \u001b[1;32mdef\u001b[0m \u001b[0mcrosses\u001b[0m\u001b[1;33m(\u001b[0m\u001b[0mself\u001b[0m\u001b[1;33m,\u001b[0m \u001b[0mother\u001b[0m\u001b[1;33m)\u001b[0m\u001b[1;33m:\u001b[0m\u001b[1;33m\u001b[0m\u001b[1;33m\u001b[0m\u001b[0m\n",
      "\u001b[1;32mC:\\Util\\Anaconda3\\lib\\site-packages\\shapely\\predicates.py\u001b[0m in \u001b[0;36m__call__\u001b[1;34m(self, this, other, *args)\u001b[0m\n\u001b[0;32m     11\u001b[0m     \u001b[1;32mdef\u001b[0m \u001b[0m__call__\u001b[0m\u001b[1;33m(\u001b[0m\u001b[0mself\u001b[0m\u001b[1;33m,\u001b[0m \u001b[0mthis\u001b[0m\u001b[1;33m,\u001b[0m \u001b[0mother\u001b[0m\u001b[1;33m,\u001b[0m \u001b[1;33m*\u001b[0m\u001b[0margs\u001b[0m\u001b[1;33m)\u001b[0m\u001b[1;33m:\u001b[0m\u001b[1;33m\u001b[0m\u001b[1;33m\u001b[0m\u001b[0m\n\u001b[0;32m     12\u001b[0m         \u001b[0mself\u001b[0m\u001b[1;33m.\u001b[0m\u001b[0m_validate\u001b[0m\u001b[1;33m(\u001b[0m\u001b[0mthis\u001b[0m\u001b[1;33m)\u001b[0m\u001b[1;33m\u001b[0m\u001b[1;33m\u001b[0m\u001b[0m\n\u001b[1;32m---> 13\u001b[1;33m         \u001b[0mself\u001b[0m\u001b[1;33m.\u001b[0m\u001b[0m_validate\u001b[0m\u001b[1;33m(\u001b[0m\u001b[0mother\u001b[0m\u001b[1;33m,\u001b[0m \u001b[0mstop_prepared\u001b[0m\u001b[1;33m=\u001b[0m\u001b[1;32mTrue\u001b[0m\u001b[1;33m)\u001b[0m\u001b[1;33m\u001b[0m\u001b[1;33m\u001b[0m\u001b[0m\n\u001b[0m\u001b[0;32m     14\u001b[0m         \u001b[1;32mtry\u001b[0m\u001b[1;33m:\u001b[0m\u001b[1;33m\u001b[0m\u001b[1;33m\u001b[0m\u001b[0m\n\u001b[0;32m     15\u001b[0m             \u001b[1;32mreturn\u001b[0m \u001b[0mself\u001b[0m\u001b[1;33m.\u001b[0m\u001b[0mfn\u001b[0m\u001b[1;33m(\u001b[0m\u001b[0mthis\u001b[0m\u001b[1;33m.\u001b[0m\u001b[0m_geom\u001b[0m\u001b[1;33m,\u001b[0m \u001b[0mother\u001b[0m\u001b[1;33m.\u001b[0m\u001b[0m_geom\u001b[0m\u001b[1;33m,\u001b[0m \u001b[1;33m*\u001b[0m\u001b[0margs\u001b[0m\u001b[1;33m)\u001b[0m\u001b[1;33m\u001b[0m\u001b[1;33m\u001b[0m\u001b[0m\n",
      "\u001b[1;32mC:\\Util\\Anaconda3\\lib\\site-packages\\shapely\\topology.py\u001b[0m in \u001b[0;36m_validate\u001b[1;34m(self, ob, stop_prepared)\u001b[0m\n\u001b[0;32m     15\u001b[0m \u001b[1;33m\u001b[0m\u001b[0m\n\u001b[0;32m     16\u001b[0m     \u001b[1;32mdef\u001b[0m \u001b[0m_validate\u001b[0m\u001b[1;33m(\u001b[0m\u001b[0mself\u001b[0m\u001b[1;33m,\u001b[0m \u001b[0mob\u001b[0m\u001b[1;33m,\u001b[0m \u001b[0mstop_prepared\u001b[0m\u001b[1;33m=\u001b[0m\u001b[1;32mFalse\u001b[0m\u001b[1;33m)\u001b[0m\u001b[1;33m:\u001b[0m\u001b[1;33m\u001b[0m\u001b[1;33m\u001b[0m\u001b[0m\n\u001b[1;32m---> 17\u001b[1;33m         \u001b[1;32mif\u001b[0m \u001b[0mob\u001b[0m \u001b[1;32mis\u001b[0m \u001b[1;32mNone\u001b[0m \u001b[1;32mor\u001b[0m \u001b[0mob\u001b[0m\u001b[1;33m.\u001b[0m\u001b[0m_geom\u001b[0m \u001b[1;32mis\u001b[0m \u001b[1;32mNone\u001b[0m\u001b[1;33m:\u001b[0m\u001b[1;33m\u001b[0m\u001b[1;33m\u001b[0m\u001b[0m\n\u001b[0m\u001b[0;32m     18\u001b[0m             \u001b[1;32mraise\u001b[0m \u001b[0mValueError\u001b[0m\u001b[1;33m(\u001b[0m\u001b[1;34m\"Null geometry supports no operations\"\u001b[0m\u001b[1;33m)\u001b[0m\u001b[1;33m\u001b[0m\u001b[1;33m\u001b[0m\u001b[0m\n\u001b[0;32m     19\u001b[0m         \u001b[1;32mif\u001b[0m \u001b[0mstop_prepared\u001b[0m \u001b[1;32mand\u001b[0m \u001b[1;32mnot\u001b[0m \u001b[0mhasattr\u001b[0m\u001b[1;33m(\u001b[0m\u001b[0mob\u001b[0m\u001b[1;33m,\u001b[0m \u001b[1;34m'type'\u001b[0m\u001b[1;33m)\u001b[0m\u001b[1;33m:\u001b[0m\u001b[1;33m\u001b[0m\u001b[1;33m\u001b[0m\u001b[0m\n",
      "\u001b[1;31mAttributeError\u001b[0m: 'list' object has no attribute '_geom'"
     ]
    }
   ],
   "source": [
    "shape_dict[boro]['shape_simp'].contains(ps)"
   ]
  },
  {
   "cell_type": "code",
   "execution_count": 60,
   "metadata": {},
   "outputs": [
    {
     "name": "stderr",
     "output_type": "stream",
     "text": [
      "ERROR:root:Internal Python error in the inspect module.\n",
      "Below is the traceback from this internal error.\n",
      "\n"
     ]
    },
    {
     "name": "stdout",
     "output_type": "stream",
     "text": [
      "Traceback (most recent call last):\n",
      "  File \"C:\\Users\\volpir\\AppData\\Roaming\\Python\\Python37\\site-packages\\IPython\\core\\interactiveshell.py\", line 3427, in run_code\n",
      "    exec(code_obj, self.user_global_ns, self.user_ns)\n",
      "  File \"<ipython-input-60-2ff6e2431b38>\", line 1, in <module>\n",
      "    boros = df_sample[['pickup_longitude','pickup_latitude']].apply(check_boro, axis=1)\n",
      "  File \"C:\\Util\\Anaconda3\\lib\\site-packages\\pandas\\core\\frame.py\", line 8740, in apply\n",
      "    return op.apply()\n",
      "  File \"C:\\Util\\Anaconda3\\lib\\site-packages\\pandas\\core\\apply.py\", line 688, in apply\n",
      "    return self.apply_standard()\n",
      "  File \"C:\\Util\\Anaconda3\\lib\\site-packages\\pandas\\core\\apply.py\", line 812, in apply_standard\n",
      "    results, res_index = self.apply_series_generator()\n",
      "  File \"C:\\Util\\Anaconda3\\lib\\site-packages\\pandas\\core\\apply.py\", line 828, in apply_series_generator\n",
      "    results[i] = self.f(v)\n",
      "  File \"<ipython-input-59-018a40ed1402>\", line 5, in check_boro\n",
      "    if shape_dict[boro]['shape_simp'].contains(p):\n",
      "  File \"C:\\Util\\Anaconda3\\lib\\site-packages\\shapely\\geometry\\base.py\", line 691, in contains\n",
      "    return bool(self.impl['contains'](self, other))\n",
      "  File \"C:\\Util\\Anaconda3\\lib\\site-packages\\shapely\\predicates.py\", line 15, in __call__\n",
      "    return self.fn(this._geom, other._geom, *args)\n",
      "  File \"C:\\Util\\Anaconda3\\lib\\site-packages\\shapely\\geos.py\", line 545, in errcheck_predicate\n",
      "    def errcheck_predicate(result, func, argtuple):\n",
      "KeyboardInterrupt\n",
      "\n",
      "During handling of the above exception, another exception occurred:\n",
      "\n",
      "Traceback (most recent call last):\n",
      "  File \"C:\\Users\\volpir\\AppData\\Roaming\\Python\\Python37\\site-packages\\IPython\\core\\interactiveshell.py\", line 2054, in showtraceback\n",
      "    stb = value._render_traceback_()\n",
      "AttributeError: 'KeyboardInterrupt' object has no attribute '_render_traceback_'\n",
      "\n",
      "During handling of the above exception, another exception occurred:\n",
      "\n",
      "Traceback (most recent call last):\n",
      "  File \"C:\\Users\\volpir\\AppData\\Roaming\\Python\\Python37\\site-packages\\IPython\\core\\ultratb.py\", line 1101, in get_records\n",
      "    return _fixed_getinnerframes(etb, number_of_lines_of_context, tb_offset)\n",
      "  File \"C:\\Users\\volpir\\AppData\\Roaming\\Python\\Python37\\site-packages\\IPython\\core\\ultratb.py\", line 248, in wrapped\n",
      "    return f(*args, **kwargs)\n",
      "  File \"C:\\Users\\volpir\\AppData\\Roaming\\Python\\Python37\\site-packages\\IPython\\core\\ultratb.py\", line 281, in _fixed_getinnerframes\n",
      "    records = fix_frame_records_filenames(inspect.getinnerframes(etb, context))\n",
      "  File \"C:\\Util\\Anaconda3\\lib\\inspect.py\", line 1502, in getinnerframes\n",
      "    frameinfo = (tb.tb_frame,) + getframeinfo(tb, context)\n",
      "  File \"C:\\Util\\Anaconda3\\lib\\inspect.py\", line 1464, in getframeinfo\n",
      "    lines, lnum = findsource(frame)\n",
      "  File \"C:\\Users\\volpir\\AppData\\Roaming\\Python\\Python37\\site-packages\\IPython\\core\\ultratb.py\", line 182, in findsource\n",
      "    lines = linecache.getlines(file, globals_dict)\n",
      "  File \"C:\\Util\\Anaconda3\\lib\\linecache.py\", line 47, in getlines\n",
      "    return updatecache(filename, module_globals)\n",
      "  File \"C:\\Util\\Anaconda3\\lib\\linecache.py\", line 136, in updatecache\n",
      "    with tokenize.open(fullname) as fp:\n",
      "  File \"C:\\Util\\Anaconda3\\lib\\tokenize.py\", line 447, in open\n",
      "    buffer = _builtin_open(filename, 'rb')\n",
      "KeyboardInterrupt\n"
     ]
    },
    {
     "ename": "TypeError",
     "evalue": "object of type 'NoneType' has no len()",
     "output_type": "error",
     "traceback": [
      "\u001b[1;31m---------------------------------------------------------------------------\u001b[0m",
      "\u001b[1;31mKeyboardInterrupt\u001b[0m                         Traceback (most recent call last)",
      "    \u001b[1;31m[... skipping hidden 1 frame]\u001b[0m\n",
      "\u001b[1;32m<ipython-input-60-2ff6e2431b38>\u001b[0m in \u001b[0;36m<module>\u001b[1;34m\u001b[0m\n\u001b[1;32m----> 1\u001b[1;33m \u001b[0mboros\u001b[0m \u001b[1;33m=\u001b[0m \u001b[0mdf_sample\u001b[0m\u001b[1;33m[\u001b[0m\u001b[1;33m[\u001b[0m\u001b[1;34m'pickup_longitude'\u001b[0m\u001b[1;33m,\u001b[0m\u001b[1;34m'pickup_latitude'\u001b[0m\u001b[1;33m]\u001b[0m\u001b[1;33m]\u001b[0m\u001b[1;33m.\u001b[0m\u001b[0mapply\u001b[0m\u001b[1;33m(\u001b[0m\u001b[0mcheck_boro\u001b[0m\u001b[1;33m,\u001b[0m \u001b[0maxis\u001b[0m\u001b[1;33m=\u001b[0m\u001b[1;36m1\u001b[0m\u001b[1;33m)\u001b[0m\u001b[1;33m\u001b[0m\u001b[1;33m\u001b[0m\u001b[0m\n\u001b[0m",
      "\u001b[1;32mC:\\Util\\Anaconda3\\lib\\site-packages\\pandas\\core\\frame.py\u001b[0m in \u001b[0;36mapply\u001b[1;34m(self, func, axis, raw, result_type, args, **kwargs)\u001b[0m\n\u001b[0;32m   8739\u001b[0m         )\n\u001b[1;32m-> 8740\u001b[1;33m         \u001b[1;32mreturn\u001b[0m \u001b[0mop\u001b[0m\u001b[1;33m.\u001b[0m\u001b[0mapply\u001b[0m\u001b[1;33m(\u001b[0m\u001b[1;33m)\u001b[0m\u001b[1;33m\u001b[0m\u001b[1;33m\u001b[0m\u001b[0m\n\u001b[0m\u001b[0;32m   8741\u001b[0m \u001b[1;33m\u001b[0m\u001b[0m\n",
      "\u001b[1;32mC:\\Util\\Anaconda3\\lib\\site-packages\\pandas\\core\\apply.py\u001b[0m in \u001b[0;36mapply\u001b[1;34m(self)\u001b[0m\n\u001b[0;32m    687\u001b[0m \u001b[1;33m\u001b[0m\u001b[0m\n\u001b[1;32m--> 688\u001b[1;33m         \u001b[1;32mreturn\u001b[0m \u001b[0mself\u001b[0m\u001b[1;33m.\u001b[0m\u001b[0mapply_standard\u001b[0m\u001b[1;33m(\u001b[0m\u001b[1;33m)\u001b[0m\u001b[1;33m\u001b[0m\u001b[1;33m\u001b[0m\u001b[0m\n\u001b[0m\u001b[0;32m    689\u001b[0m \u001b[1;33m\u001b[0m\u001b[0m\n",
      "\u001b[1;32mC:\\Util\\Anaconda3\\lib\\site-packages\\pandas\\core\\apply.py\u001b[0m in \u001b[0;36mapply_standard\u001b[1;34m(self)\u001b[0m\n\u001b[0;32m    811\u001b[0m     \u001b[1;32mdef\u001b[0m \u001b[0mapply_standard\u001b[0m\u001b[1;33m(\u001b[0m\u001b[0mself\u001b[0m\u001b[1;33m)\u001b[0m\u001b[1;33m:\u001b[0m\u001b[1;33m\u001b[0m\u001b[1;33m\u001b[0m\u001b[0m\n\u001b[1;32m--> 812\u001b[1;33m         \u001b[0mresults\u001b[0m\u001b[1;33m,\u001b[0m \u001b[0mres_index\u001b[0m \u001b[1;33m=\u001b[0m \u001b[0mself\u001b[0m\u001b[1;33m.\u001b[0m\u001b[0mapply_series_generator\u001b[0m\u001b[1;33m(\u001b[0m\u001b[1;33m)\u001b[0m\u001b[1;33m\u001b[0m\u001b[1;33m\u001b[0m\u001b[0m\n\u001b[0m\u001b[0;32m    813\u001b[0m \u001b[1;33m\u001b[0m\u001b[0m\n",
      "\u001b[1;32mC:\\Util\\Anaconda3\\lib\\site-packages\\pandas\\core\\apply.py\u001b[0m in \u001b[0;36mapply_series_generator\u001b[1;34m(self)\u001b[0m\n\u001b[0;32m    827\u001b[0m                 \u001b[1;31m# ignore SettingWithCopy here in case the user mutates\u001b[0m\u001b[1;33m\u001b[0m\u001b[1;33m\u001b[0m\u001b[1;33m\u001b[0m\u001b[0m\n\u001b[1;32m--> 828\u001b[1;33m                 \u001b[0mresults\u001b[0m\u001b[1;33m[\u001b[0m\u001b[0mi\u001b[0m\u001b[1;33m]\u001b[0m \u001b[1;33m=\u001b[0m \u001b[0mself\u001b[0m\u001b[1;33m.\u001b[0m\u001b[0mf\u001b[0m\u001b[1;33m(\u001b[0m\u001b[0mv\u001b[0m\u001b[1;33m)\u001b[0m\u001b[1;33m\u001b[0m\u001b[1;33m\u001b[0m\u001b[0m\n\u001b[0m\u001b[0;32m    829\u001b[0m                 \u001b[1;32mif\u001b[0m \u001b[0misinstance\u001b[0m\u001b[1;33m(\u001b[0m\u001b[0mresults\u001b[0m\u001b[1;33m[\u001b[0m\u001b[0mi\u001b[0m\u001b[1;33m]\u001b[0m\u001b[1;33m,\u001b[0m \u001b[0mABCSeries\u001b[0m\u001b[1;33m)\u001b[0m\u001b[1;33m:\u001b[0m\u001b[1;33m\u001b[0m\u001b[1;33m\u001b[0m\u001b[0m\n",
      "\u001b[1;32m<ipython-input-59-018a40ed1402>\u001b[0m in \u001b[0;36mcheck_boro\u001b[1;34m(row)\u001b[0m\n\u001b[0;32m      4\u001b[0m     \u001b[1;32mfor\u001b[0m \u001b[0mboro\u001b[0m \u001b[1;32min\u001b[0m \u001b[0mboros\u001b[0m\u001b[1;33m[\u001b[0m\u001b[1;33m:\u001b[0m\u001b[1;33m-\u001b[0m\u001b[1;36m1\u001b[0m\u001b[1;33m]\u001b[0m\u001b[1;33m:\u001b[0m\u001b[1;33m\u001b[0m\u001b[1;33m\u001b[0m\u001b[0m\n\u001b[1;32m----> 5\u001b[1;33m         \u001b[1;32mif\u001b[0m \u001b[0mshape_dict\u001b[0m\u001b[1;33m[\u001b[0m\u001b[0mboro\u001b[0m\u001b[1;33m]\u001b[0m\u001b[1;33m[\u001b[0m\u001b[1;34m'shape_simp'\u001b[0m\u001b[1;33m]\u001b[0m\u001b[1;33m.\u001b[0m\u001b[0mcontains\u001b[0m\u001b[1;33m(\u001b[0m\u001b[0mp\u001b[0m\u001b[1;33m)\u001b[0m\u001b[1;33m:\u001b[0m\u001b[1;33m\u001b[0m\u001b[1;33m\u001b[0m\u001b[0m\n\u001b[0m\u001b[0;32m      6\u001b[0m             \u001b[1;32mreturn\u001b[0m \u001b[0mboro\u001b[0m\u001b[1;33m\u001b[0m\u001b[1;33m\u001b[0m\u001b[0m\n",
      "\u001b[1;32mC:\\Util\\Anaconda3\\lib\\site-packages\\shapely\\geometry\\base.py\u001b[0m in \u001b[0;36mcontains\u001b[1;34m(self, other)\u001b[0m\n\u001b[0;32m    690\u001b[0m         \u001b[1;34m\"\"\"Returns True if the geometry contains the other, else False\"\"\"\u001b[0m\u001b[1;33m\u001b[0m\u001b[1;33m\u001b[0m\u001b[0m\n\u001b[1;32m--> 691\u001b[1;33m         \u001b[1;32mreturn\u001b[0m \u001b[0mbool\u001b[0m\u001b[1;33m(\u001b[0m\u001b[0mself\u001b[0m\u001b[1;33m.\u001b[0m\u001b[0mimpl\u001b[0m\u001b[1;33m[\u001b[0m\u001b[1;34m'contains'\u001b[0m\u001b[1;33m]\u001b[0m\u001b[1;33m(\u001b[0m\u001b[0mself\u001b[0m\u001b[1;33m,\u001b[0m \u001b[0mother\u001b[0m\u001b[1;33m)\u001b[0m\u001b[1;33m)\u001b[0m\u001b[1;33m\u001b[0m\u001b[1;33m\u001b[0m\u001b[0m\n\u001b[0m\u001b[0;32m    692\u001b[0m \u001b[1;33m\u001b[0m\u001b[0m\n",
      "\u001b[1;32mC:\\Util\\Anaconda3\\lib\\site-packages\\shapely\\predicates.py\u001b[0m in \u001b[0;36m__call__\u001b[1;34m(self, this, other, *args)\u001b[0m\n\u001b[0;32m     14\u001b[0m         \u001b[1;32mtry\u001b[0m\u001b[1;33m:\u001b[0m\u001b[1;33m\u001b[0m\u001b[1;33m\u001b[0m\u001b[0m\n\u001b[1;32m---> 15\u001b[1;33m             \u001b[1;32mreturn\u001b[0m \u001b[0mself\u001b[0m\u001b[1;33m.\u001b[0m\u001b[0mfn\u001b[0m\u001b[1;33m(\u001b[0m\u001b[0mthis\u001b[0m\u001b[1;33m.\u001b[0m\u001b[0m_geom\u001b[0m\u001b[1;33m,\u001b[0m \u001b[0mother\u001b[0m\u001b[1;33m.\u001b[0m\u001b[0m_geom\u001b[0m\u001b[1;33m,\u001b[0m \u001b[1;33m*\u001b[0m\u001b[0margs\u001b[0m\u001b[1;33m)\u001b[0m\u001b[1;33m\u001b[0m\u001b[1;33m\u001b[0m\u001b[0m\n\u001b[0m\u001b[0;32m     16\u001b[0m         \u001b[1;32mexcept\u001b[0m \u001b[0mPredicateError\u001b[0m \u001b[1;32mas\u001b[0m \u001b[0merr\u001b[0m\u001b[1;33m:\u001b[0m\u001b[1;33m\u001b[0m\u001b[1;33m\u001b[0m\u001b[0m\n",
      "\u001b[1;32mC:\\Util\\Anaconda3\\lib\\site-packages\\shapely\\geos.py\u001b[0m in \u001b[0;36merrcheck_predicate\u001b[1;34m(result, func, argtuple)\u001b[0m\n\u001b[0;32m    544\u001b[0m \u001b[1;33m\u001b[0m\u001b[0m\n\u001b[1;32m--> 545\u001b[1;33m \u001b[1;32mdef\u001b[0m \u001b[0merrcheck_predicate\u001b[0m\u001b[1;33m(\u001b[0m\u001b[0mresult\u001b[0m\u001b[1;33m,\u001b[0m \u001b[0mfunc\u001b[0m\u001b[1;33m,\u001b[0m \u001b[0margtuple\u001b[0m\u001b[1;33m)\u001b[0m\u001b[1;33m:\u001b[0m\u001b[1;33m\u001b[0m\u001b[1;33m\u001b[0m\u001b[0m\n\u001b[0m\u001b[0;32m    546\u001b[0m     \u001b[1;34m\"\"\"Result is 2 on exception, 1 on True, 0 on False\"\"\"\u001b[0m\u001b[1;33m\u001b[0m\u001b[1;33m\u001b[0m\u001b[0m\n",
      "\u001b[1;31mKeyboardInterrupt\u001b[0m: ",
      "\nDuring handling of the above exception, another exception occurred:\n",
      "\u001b[1;31mAttributeError\u001b[0m                            Traceback (most recent call last)",
      "\u001b[1;32m~\\AppData\\Roaming\\Python\\Python37\\site-packages\\IPython\\core\\interactiveshell.py\u001b[0m in \u001b[0;36mshowtraceback\u001b[1;34m(self, exc_tuple, filename, tb_offset, exception_only, running_compiled_code)\u001b[0m\n\u001b[0;32m   2053\u001b[0m                         \u001b[1;31m# in the engines. This should return a list of strings.\u001b[0m\u001b[1;33m\u001b[0m\u001b[1;33m\u001b[0m\u001b[1;33m\u001b[0m\u001b[0m\n\u001b[1;32m-> 2054\u001b[1;33m                         \u001b[0mstb\u001b[0m \u001b[1;33m=\u001b[0m \u001b[0mvalue\u001b[0m\u001b[1;33m.\u001b[0m\u001b[0m_render_traceback_\u001b[0m\u001b[1;33m(\u001b[0m\u001b[1;33m)\u001b[0m\u001b[1;33m\u001b[0m\u001b[1;33m\u001b[0m\u001b[0m\n\u001b[0m\u001b[0;32m   2055\u001b[0m                     \u001b[1;32mexcept\u001b[0m \u001b[0mException\u001b[0m\u001b[1;33m:\u001b[0m\u001b[1;33m\u001b[0m\u001b[1;33m\u001b[0m\u001b[0m\n",
      "\u001b[1;31mAttributeError\u001b[0m: 'KeyboardInterrupt' object has no attribute '_render_traceback_'",
      "\nDuring handling of the above exception, another exception occurred:\n",
      "\u001b[1;31mTypeError\u001b[0m                                 Traceback (most recent call last)",
      "    \u001b[1;31m[... skipping hidden 1 frame]\u001b[0m\n",
      "\u001b[1;32m~\\AppData\\Roaming\\Python\\Python37\\site-packages\\IPython\\core\\interactiveshell.py\u001b[0m in \u001b[0;36mshowtraceback\u001b[1;34m(self, exc_tuple, filename, tb_offset, exception_only, running_compiled_code)\u001b[0m\n\u001b[0;32m   2055\u001b[0m                     \u001b[1;32mexcept\u001b[0m \u001b[0mException\u001b[0m\u001b[1;33m:\u001b[0m\u001b[1;33m\u001b[0m\u001b[1;33m\u001b[0m\u001b[0m\n\u001b[0;32m   2056\u001b[0m                         stb = self.InteractiveTB.structured_traceback(etype,\n\u001b[1;32m-> 2057\u001b[1;33m                                             value, tb, tb_offset=tb_offset)\n\u001b[0m\u001b[0;32m   2058\u001b[0m \u001b[1;33m\u001b[0m\u001b[0m\n\u001b[0;32m   2059\u001b[0m                     \u001b[0mself\u001b[0m\u001b[1;33m.\u001b[0m\u001b[0m_showtraceback\u001b[0m\u001b[1;33m(\u001b[0m\u001b[0metype\u001b[0m\u001b[1;33m,\u001b[0m \u001b[0mvalue\u001b[0m\u001b[1;33m,\u001b[0m \u001b[0mstb\u001b[0m\u001b[1;33m)\u001b[0m\u001b[1;33m\u001b[0m\u001b[1;33m\u001b[0m\u001b[0m\n",
      "\u001b[1;32m~\\AppData\\Roaming\\Python\\Python37\\site-packages\\IPython\\core\\ultratb.py\u001b[0m in \u001b[0;36mstructured_traceback\u001b[1;34m(self, etype, value, tb, tb_offset, number_of_lines_of_context)\u001b[0m\n\u001b[0;32m   1366\u001b[0m             \u001b[0mself\u001b[0m\u001b[1;33m.\u001b[0m\u001b[0mtb\u001b[0m \u001b[1;33m=\u001b[0m \u001b[0mtb\u001b[0m\u001b[1;33m\u001b[0m\u001b[1;33m\u001b[0m\u001b[0m\n\u001b[0;32m   1367\u001b[0m         return FormattedTB.structured_traceback(\n\u001b[1;32m-> 1368\u001b[1;33m             self, etype, value, tb, tb_offset, number_of_lines_of_context)\n\u001b[0m\u001b[0;32m   1369\u001b[0m \u001b[1;33m\u001b[0m\u001b[0m\n\u001b[0;32m   1370\u001b[0m \u001b[1;33m\u001b[0m\u001b[0m\n",
      "\u001b[1;32m~\\AppData\\Roaming\\Python\\Python37\\site-packages\\IPython\\core\\ultratb.py\u001b[0m in \u001b[0;36mstructured_traceback\u001b[1;34m(self, etype, value, tb, tb_offset, number_of_lines_of_context)\u001b[0m\n\u001b[0;32m   1266\u001b[0m             \u001b[1;31m# Verbose modes need a full traceback\u001b[0m\u001b[1;33m\u001b[0m\u001b[1;33m\u001b[0m\u001b[1;33m\u001b[0m\u001b[0m\n\u001b[0;32m   1267\u001b[0m             return VerboseTB.structured_traceback(\n\u001b[1;32m-> 1268\u001b[1;33m                 \u001b[0mself\u001b[0m\u001b[1;33m,\u001b[0m \u001b[0metype\u001b[0m\u001b[1;33m,\u001b[0m \u001b[0mvalue\u001b[0m\u001b[1;33m,\u001b[0m \u001b[0mtb\u001b[0m\u001b[1;33m,\u001b[0m \u001b[0mtb_offset\u001b[0m\u001b[1;33m,\u001b[0m \u001b[0mnumber_of_lines_of_context\u001b[0m\u001b[1;33m\u001b[0m\u001b[1;33m\u001b[0m\u001b[0m\n\u001b[0m\u001b[0;32m   1269\u001b[0m             )\n\u001b[0;32m   1270\u001b[0m         \u001b[1;32melif\u001b[0m \u001b[0mmode\u001b[0m \u001b[1;33m==\u001b[0m \u001b[1;34m'Minimal'\u001b[0m\u001b[1;33m:\u001b[0m\u001b[1;33m\u001b[0m\u001b[1;33m\u001b[0m\u001b[0m\n",
      "\u001b[1;32m~\\AppData\\Roaming\\Python\\Python37\\site-packages\\IPython\\core\\ultratb.py\u001b[0m in \u001b[0;36mstructured_traceback\u001b[1;34m(self, etype, evalue, etb, tb_offset, number_of_lines_of_context)\u001b[0m\n\u001b[0;32m   1123\u001b[0m \u001b[1;33m\u001b[0m\u001b[0m\n\u001b[0;32m   1124\u001b[0m         formatted_exception = self.format_exception_as_a_whole(etype, evalue, etb, number_of_lines_of_context,\n\u001b[1;32m-> 1125\u001b[1;33m                                                                tb_offset)\n\u001b[0m\u001b[0;32m   1126\u001b[0m \u001b[1;33m\u001b[0m\u001b[0m\n\u001b[0;32m   1127\u001b[0m         \u001b[0mcolors\u001b[0m \u001b[1;33m=\u001b[0m \u001b[0mself\u001b[0m\u001b[1;33m.\u001b[0m\u001b[0mColors\u001b[0m  \u001b[1;31m# just a shorthand + quicker name lookup\u001b[0m\u001b[1;33m\u001b[0m\u001b[1;33m\u001b[0m\u001b[0m\n",
      "\u001b[1;32m~\\AppData\\Roaming\\Python\\Python37\\site-packages\\IPython\\core\\ultratb.py\u001b[0m in \u001b[0;36mformat_exception_as_a_whole\u001b[1;34m(self, etype, evalue, etb, number_of_lines_of_context, tb_offset)\u001b[0m\n\u001b[0;32m   1080\u001b[0m \u001b[1;33m\u001b[0m\u001b[0m\n\u001b[0;32m   1081\u001b[0m \u001b[1;33m\u001b[0m\u001b[0m\n\u001b[1;32m-> 1082\u001b[1;33m         \u001b[0mlast_unique\u001b[0m\u001b[1;33m,\u001b[0m \u001b[0mrecursion_repeat\u001b[0m \u001b[1;33m=\u001b[0m \u001b[0mfind_recursion\u001b[0m\u001b[1;33m(\u001b[0m\u001b[0morig_etype\u001b[0m\u001b[1;33m,\u001b[0m \u001b[0mevalue\u001b[0m\u001b[1;33m,\u001b[0m \u001b[0mrecords\u001b[0m\u001b[1;33m)\u001b[0m\u001b[1;33m\u001b[0m\u001b[1;33m\u001b[0m\u001b[0m\n\u001b[0m\u001b[0;32m   1083\u001b[0m \u001b[1;33m\u001b[0m\u001b[0m\n\u001b[0;32m   1084\u001b[0m         \u001b[0mframes\u001b[0m \u001b[1;33m=\u001b[0m \u001b[0mself\u001b[0m\u001b[1;33m.\u001b[0m\u001b[0mformat_records\u001b[0m\u001b[1;33m(\u001b[0m\u001b[0mrecords\u001b[0m\u001b[1;33m,\u001b[0m \u001b[0mlast_unique\u001b[0m\u001b[1;33m,\u001b[0m \u001b[0mrecursion_repeat\u001b[0m\u001b[1;33m)\u001b[0m\u001b[1;33m\u001b[0m\u001b[1;33m\u001b[0m\u001b[0m\n",
      "\u001b[1;32m~\\AppData\\Roaming\\Python\\Python37\\site-packages\\IPython\\core\\ultratb.py\u001b[0m in \u001b[0;36mfind_recursion\u001b[1;34m(etype, value, records)\u001b[0m\n\u001b[0;32m    380\u001b[0m     \u001b[1;31m# first frame (from in to out) that looks different.\u001b[0m\u001b[1;33m\u001b[0m\u001b[1;33m\u001b[0m\u001b[1;33m\u001b[0m\u001b[0m\n\u001b[0;32m    381\u001b[0m     \u001b[1;32mif\u001b[0m \u001b[1;32mnot\u001b[0m \u001b[0mis_recursion_error\u001b[0m\u001b[1;33m(\u001b[0m\u001b[0metype\u001b[0m\u001b[1;33m,\u001b[0m \u001b[0mvalue\u001b[0m\u001b[1;33m,\u001b[0m \u001b[0mrecords\u001b[0m\u001b[1;33m)\u001b[0m\u001b[1;33m:\u001b[0m\u001b[1;33m\u001b[0m\u001b[1;33m\u001b[0m\u001b[0m\n\u001b[1;32m--> 382\u001b[1;33m         \u001b[1;32mreturn\u001b[0m \u001b[0mlen\u001b[0m\u001b[1;33m(\u001b[0m\u001b[0mrecords\u001b[0m\u001b[1;33m)\u001b[0m\u001b[1;33m,\u001b[0m \u001b[1;36m0\u001b[0m\u001b[1;33m\u001b[0m\u001b[1;33m\u001b[0m\u001b[0m\n\u001b[0m\u001b[0;32m    383\u001b[0m \u001b[1;33m\u001b[0m\u001b[0m\n\u001b[0;32m    384\u001b[0m     \u001b[1;31m# Select filename, lineno, func_name to track frames with\u001b[0m\u001b[1;33m\u001b[0m\u001b[1;33m\u001b[0m\u001b[1;33m\u001b[0m\u001b[0m\n",
      "\u001b[1;31mTypeError\u001b[0m: object of type 'NoneType' has no len()"
     ]
    }
   ],
   "source": [
    "boros = df_sample[['pickup_longitude','pickup_latitude']].apply(check_boro, axis=1)"
   ]
  },
  {
   "cell_type": "code",
   "execution_count": null,
   "metadata": {},
   "outputs": [],
   "source": []
  },
  {
   "cell_type": "code",
   "execution_count": 11,
   "metadata": {},
   "outputs": [
    {
     "name": "stdout",
     "output_type": "stream",
     "text": [
      "-73.93360592036706 40.78535662050845 -73.76533243995276 40.91553277600008\n",
      "-74.04772962763064 40.68291694544512 -73.90665099539478 40.87903804730722\n",
      "-74.25559136315213 40.49611539518921 -74.04923629842045 40.64892555177345\n",
      "-74.0418964317642 40.56952999448672 -73.83355923946294 40.73912795313436\n",
      "-73.96262015898652 40.5418339604531 -73.70000906387347 40.80101146781899\n"
     ]
    }
   ],
   "source": [
    "min_x = 100\n",
    "min_y = 100\n",
    "max_x = -100\n",
    "max_y = -100\n",
    "for shape in shapes:\n",
    "    minx, miny, maxx, maxy = shape.bounds\n",
    "    print(minx, miny, maxx, maxy)\n",
    "    min_x = min(min_x, minx)\n",
    "    min_y = min(min_y, miny)\n",
    "    max_y = max(max_y, maxy)\n",
    "    max_x = max(max_x, maxx)"
   ]
  },
  {
   "cell_type": "code",
   "execution_count": 12,
   "metadata": {},
   "outputs": [
    {
     "data": {
      "text/plain": [
       "(-74.25559136315213, -73.70000906387347, 40.49611539518921, 40.91553277600008)"
      ]
     },
     "execution_count": 12,
     "metadata": {},
     "output_type": "execute_result"
    }
   ],
   "source": []
  },
  {
   "cell_type": "code",
   "execution_count": 109,
   "metadata": {},
   "outputs": [
    {
     "name": "stdout",
     "output_type": "stream",
     "text": [
      "24.3 ms ± 2.29 ms per loop (mean ± std. dev. of 7 runs, 10 loops each)\n"
     ]
    }
   ],
   "source": [
    "\n",
    "# Alternative: if point.within(shape)\n",
    "%timeit shapes[1].contains(point)"
   ]
  },
  {
   "cell_type": "code",
   "execution_count": 110,
   "metadata": {},
   "outputs": [
    {
     "name": "stdout",
     "output_type": "stream",
     "text": [
      "3.46 µs ± 144 ns per loop (mean ± std. dev. of 7 runs, 100000 loops each)\n"
     ]
    }
   ],
   "source": [
    "\n",
    "bounding_box = shapely.geometry.box(minx, miny, maxx, maxy)\n",
    "\n",
    "%timeit bounding_box.contains(point)"
   ]
  },
  {
   "cell_type": "code",
   "execution_count": 111,
   "metadata": {},
   "outputs": [
    {
     "data": {
      "text/plain": [
       "(-74.04772962763064, 40.68291694544512, -73.90665099539478, 40.87903804730722)"
      ]
     },
     "execution_count": 111,
     "metadata": {},
     "output_type": "execute_result"
    }
   ],
   "source": [
    "minx, miny, maxx, maxy"
   ]
  },
  {
   "cell_type": "code",
   "execution_count": 122,
   "metadata": {},
   "outputs": [],
   "source": [
    "shape_1 = shapes[1]\n",
    " = shape_1.simplify((maxx-minx)/5000)"
   ]
  },
  {
   "cell_type": "code",
   "execution_count": 87,
   "metadata": {},
   "outputs": [
    {
     "data": {
      "text/plain": [
       "5.2522219022611696e-05"
      ]
     },
     "execution_count": 87,
     "metadata": {},
     "output_type": "execute_result"
    }
   ],
   "source": [
    "(maxx-minx)/5000"
   ]
  },
  {
   "cell_type": "code",
   "execution_count": 123,
   "metadata": {},
   "outputs": [
    {
     "name": "stdout",
     "output_type": "stream",
     "text": [
      "24.7 ms ± 1.5 ms per loop (mean ± std. dev. of 7 runs, 10 loops each)\n"
     ]
    }
   ],
   "source": [
    "%timeit shape_1.contains(point)"
   ]
  },
  {
   "cell_type": "code",
   "execution_count": 124,
   "metadata": {},
   "outputs": [
    {
     "name": "stdout",
     "output_type": "stream",
     "text": [
      "3.52 µs ± 210 ns per loop (mean ± std. dev. of 7 runs, 100000 loops each)\n"
     ]
    }
   ],
   "source": [
    "%timeit shape_1_simple.contains(point)"
   ]
  },
  {
   "cell_type": "code",
   "execution_count": 125,
   "metadata": {},
   "outputs": [
    {
     "data": {
      "image/svg+xml": [
       "<svg xmlns=\"http://www.w3.org/2000/svg\" xmlns:xlink=\"http://www.w3.org/1999/xlink\" width=\"100.0\" height=\"100.0\" viewBox=\"-74.05557447170513 40.67507210137064 0.15676832038482758 0.2118107900110644\" preserveAspectRatio=\"xMinYMin meet\"><g transform=\"matrix(1,0,0,-1,0,81.56195499275233)\"><g><path fill-rule=\"evenodd\" fill=\"#66cc99\" stroke=\"#555555\" stroke-width=\"0.004236215800221288\" opacity=\"0.6\" d=\"M -74.01092841268031,40.68449147254294 L -74.01193259977079,40.6838877491549 L -74.01217596614636,40.684095185628465 L -74.00835446532174,40.68640020025069 L -74.0081641459391,40.686174717161464 L -74.01092841268031,40.68449147254294 z\" /><path fill-rule=\"evenodd\" fill=\"#66cc99\" stroke=\"#555555\" stroke-width=\"0.004236215800221288\" opacity=\"0.6\" d=\"M -74.00500373315074,40.687605985400836 L -74.00562986330395,40.68678420554105 L -74.00783293766683,40.68738505516271 L -74.00742012154097,40.6882062904359 L -74.00500373315074,40.687605985400836 z\" /><path fill-rule=\"evenodd\" fill=\"#66cc99\" stroke=\"#555555\" stroke-width=\"0.004236215800221288\" opacity=\"0.6\" d=\"M -74.00382038919733,40.688929644699286 L -74.00459270521772,40.68821522298657 L -74.0067843843981,40.688826879958285 L -74.00636461225267,40.689669668636974 L -74.00382038919733,40.688929644699286 z\" /><path fill-rule=\"evenodd\" fill=\"#66cc99\" stroke=\"#555555\" stroke-width=\"0.004236215800221288\" opacity=\"0.6\" d=\"M -74.00297565436566,40.69042657592068 L -74.00340921624519,40.689613260657524 L -74.00575900670344,40.69023640001618 L -74.00534209624915,40.691091602977856 L -74.00297565436566,40.69042657592068 z\" /><path fill-rule=\"evenodd\" fill=\"#66cc99\" stroke=\"#555555\" stroke-width=\"0.004236215800221288\" opacity=\"0.6\" d=\"M -74.0438776163991,40.69018767537123 L -74.04350596078567,40.68968735963609 L -74.04273533893009,40.6900501914202 L -74.04278433380006,40.69012097669115 L -74.04270428426766,40.690155204644306 L -74.04255372037308,40.6899627592896 L -74.04263929371159,40.68992817591076 L -74.0426938081918,40.689997259107216 L -74.04346752310265,40.68963699010347 L -74.04351637245855,40.68919103374234 L -74.04364078627412,40.68876655957014 L -74.04397458556184,40.68858240705591 L -74.0443852177728,40.688516178402686 L -74.04478399106388,40.6885956601156 L -74.04627539003668,40.689327425896714 L -74.04680284898575,40.68995325626601 L -74.0474765152837,40.68961136999799 L -74.04772962763064,40.68991531846602 L -74.04758571924786,40.68998250682616 L -74.0474312612351,40.68980389047091 L -74.04689205500591,40.69005909832262 L -74.04720029366251,40.69042481562375 L -74.04711050698607,40.69047041285008 L -74.04711582042361,40.6906558061182 L -74.0472319283741,40.690849788454045 L -74.04717029489426,40.690991329245065 L -74.04703534831133,40.69104582657944 L -74.04614707208665,40.69112264603317 L -74.04592592769208,40.69108260354661 L -74.04460616482923,40.69057348495081 L -74.0438776163991,40.69018767537123 z\" /><path fill-rule=\"evenodd\" fill=\"#66cc99\" stroke=\"#555555\" stroke-width=\"0.004236215800221288\" opacity=\"0.6\" d=\"M -74.00132562399813,40.69146310033205 L -74.00069905841879,40.69061185791646 L -74.00479415294552,40.69176162037439 L -74.00440941259976,40.692528800389304 L -74.0019693859211,40.69184320882007 L -74.00132562399813,40.69146310033205 z\" /><path fill-rule=\"evenodd\" fill=\"#66cc99\" stroke=\"#555555\" stroke-width=\"0.004236215800221288\" opacity=\"0.6\" d=\"M -74.0167475609607,40.693343368217604 L -74.01540359141647,40.69306649730911 L -74.01535466389981,40.69322485341719 L -74.01540916665948,40.69323867317309 L -74.01538919768244,40.693298134665504 L -74.01517482202624,40.69325668033544 L -74.01518934209341,40.693198603542974 L -74.01525474322263,40.693206891183905 L -74.01530915985035,40.69304704289156 L -74.01525951035647,40.69303681423187 L -74.01512637564146,40.69317743151594 L -74.01516538149541,40.69319728809479 L -74.01512878294328,40.6932437958344 L -74.01494315033483,40.6931410219308 L -74.01498417980069,40.69310651818308 L -74.01503973872529,40.693138299760825 L -74.01515612159491,40.69301551489164 L -74.01422123084906,40.692822906344055 L -74.01343563361452,40.69211544203147 L -74.01250258675188,40.69230358096552 L -74.01252289827046,40.69233903241471 L -74.0124009890459,40.69250535824809 L -74.01229731492555,40.69256825483509 L -74.0120436917983,40.692601816621526 L -74.01181185647236,40.69247933506435 L -74.01175749051254,40.69226373956153 L -74.01190309722561,40.69209058350786 L -74.0122011411637,40.69204490509608 L -74.01240858613579,40.69213424052948 L -74.01246140165127,40.69221262441586 L -74.01333264149608,40.69201997010234 L -74.01325528699358,40.691916817498964 L -74.01318656537065,40.691957929417796 L -74.01291228751684,40.6916907308338 L -74.01285987108902,40.691602990865604 L -74.01289688430353,40.69157689550027 L -74.01260856859405,40.69136410462975 L -74.01253228594769,40.691428986617716 L -74.01251950752713,40.691396831454185 L -74.01203417616576,40.69150307668568 L -74.01201746659373,40.69145820805393 L -74.01259753152567,40.6913343355445 L -74.01252783209975,40.69114633733795 L -74.01218355071057,40.691136215940624 L -74.01218682075256,40.691078024270645 L -74.01182575354973,40.691064816216155 L -74.01182847957557,40.69101135776438 L -74.01219500090085,40.691028847568795 L -74.01221017410677,40.690791696801256 L -74.01208414396388,40.69078062230053 L -74.01205325498766,40.690739143903045 L -74.01197151318823,40.690770955509485 L -74.01198056761248,40.69060640727178 L -74.01204959850618,40.69061054854665 L -74.01214221600917,40.69045428780721 L -74.012231311469,40.69046133077511 L -74.01230688304491,40.68928018293757 L -74.01316926402762,40.688154771203166 L -74.0148809797501,40.687254570488534 L -74.01604730539523,40.68733800629772 L -74.0170498660923,40.686875987918995 L -74.0167158267198,40.686445593709585 L -74.01664664084757,40.68641634723333 L -74.0151516167432,40.68652480204175 L -74.01514391021995,40.68643703404299 L -74.01667351529993,40.68630516855349 L -74.01727291238652,40.685690697681146 L -74.01753032434097,40.68536298793244 L -74.0176225750659,40.685409783720694 L -74.01736132076934,40.685746272026975 L -74.01678113957146,40.686349037919165 L -74.01677346463232,40.686398775449724 L -74.01712099101073,40.68684333763654 L -74.02054367293081,40.68527206792596 L -74.02020686710532,40.684833833077064 L -74.01945957389425,40.6851549579224 L -74.01939842391928,40.685087404047195 L -74.02095255010296,40.684384431647196 L -74.021008778993,40.684453539084316 L -74.02027819846491,40.68480913517446 L -74.02061267235811,40.68524039019801 L -74.02224078898536,40.684518408101894 L -74.02211854383413,40.68435195080145 L -74.02220765451614,40.684437247726564 L -74.02225477659645,40.68441886352813 L -74.02219841909843,40.6843182466296 L -74.0223381152258,40.684430221664854 L -74.02230823373827,40.68444379049424 L -74.02233552903563,40.68447639360419 L -74.02259359581042,40.684359695949944 L -74.02213250186881,40.68376767238522 L -74.02305574749595,40.68291694544512 L -74.02319462834663,40.68300049806215 L -74.0223682355767,40.68377991679397 L -74.0227589902996,40.68428444833225 L -74.02354160370125,40.684002983592535 L -74.0239473535509,40.68394921598662 L -74.02464809241233,40.68397856661304 L -74.02546836768583,40.68415292257828 L -74.02567183758212,40.68423645620504 L -74.02604653184775,40.68451415115493 L -74.02633404242411,40.68480169772416 L -74.02657640943092,40.68524166303809 L -74.02662819083865,40.68552680474964 L -74.02657021545328,40.68590538468134 L -74.02642577243203,40.6861753398296 L -74.02020527434277,40.692033923854225 L -74.01985623976927,40.69290623279887 L -74.01973308196347,40.69311410748688 L -74.01959782648228,40.69318858985817 L -74.01934366784629,40.69322898888422 L -74.01879710616208,40.6932176591374 L -74.0167475609607,40.693343368217604 z\" /><path fill-rule=\"evenodd\" fill=\"#66cc99\" stroke=\"#555555\" stroke-width=\"0.004236215800221288\" opacity=\"0.6\" d=\"M -74.00154172920257,40.69278596275013 L -74.0017436211104,40.692406749705455 L -74.00400795971098,40.69320819963236 L -74.00345348490625,40.69405163067133 L -74.00127014968672,40.69329606217631 L -74.00154172920257,40.69278596275013 z\" /><path fill-rule=\"evenodd\" fill=\"#66cc99\" stroke=\"#555555\" stroke-width=\"0.004236215800221288\" opacity=\"0.6\" d=\"M -74.00078295341706,40.6942865156646 L -74.0009586848302,40.6940690835822 L -74.00301393829082,40.69477784447914 L -74.00239802583795,40.69571165486448 L -74.00026872377788,40.694965802577904 L -74.00078295341706,40.6942865156646 z\" /><path fill-rule=\"evenodd\" fill=\"#66cc99\" stroke=\"#555555\" stroke-width=\"0.004236215800221288\" opacity=\"0.6\" d=\"M -74.00043147340433,40.69705246617852 L -73.9995933351521,40.696782261474375 L -73.99953135202674,40.696876612619384 L -73.99958770006693,40.696898057168134 L -73.99955389083671,40.69694523239681 L -73.99940738376925,40.69688518944602 L -73.99950317795836,40.69672650719374 L -73.99947406820606,40.696704134461974 L -73.99952373903514,40.69657482654341 L -74.00048933405957,40.696926195088054 L -74.00043147340433,40.69705246617852 z\" /><path fill-rule=\"evenodd\" fill=\"#66cc99\" stroke=\"#555555\" stroke-width=\"0.004236215800221288\" opacity=\"0.6\" d=\"M -73.99837760685773,40.69806329564351 L -73.99887117097656,40.69715757729581 L -74.00104903057525,40.69790823669739 L -74.00048768562517,40.69875777763452 L -73.99837760685773,40.69806329564351 z\" /><path fill-rule=\"evenodd\" fill=\"#66cc99\" stroke=\"#555555\" stroke-width=\"0.004236215800221288\" opacity=\"0.6\" d=\"M -73.99799957540132,40.69879768554428 L -73.99802102725111,40.69876173657378 L -74.0000184043362,40.69946604807362 L -73.99947463838926,40.70032277801832 L -73.9974989831,40.699638869321234 L -73.99799957540132,40.69879768554428 z\" /><path fill-rule=\"evenodd\" fill=\"#66cc99\" stroke=\"#555555\" stroke-width=\"0.004236215800221288\" opacity=\"0.6\" d=\"M -74.03995040788514,40.70089063064273 L -74.03945262913307,40.70053315982373 L -74.03938278118848,40.70057769456128 L -74.03771124796636,40.699344040347725 L -74.03809786214774,40.6990395052442 L -74.03822954445391,40.6983685916977 L -74.03900043878028,40.69836989039101 L -74.0393403767015,40.69811551483597 L -74.04124261832222,40.699536741434855 L -74.04174768868015,40.699147863566644 L -74.03991248872623,40.6977020403984 L -74.04166051914841,40.69645297163976 L -74.04367371230778,40.69802040433007 L -74.04270395810723,40.69880060058667 L -74.04296505227546,40.69899936232474 L -74.0410986123707,40.700492943389634 L -74.04080080646241,40.70026854992651 L -74.04031250973529,40.700625749192206 L -74.04053637732214,40.70078209477503 L -74.04048062485343,40.70082061467004 L -74.04028808803947,40.700643613467136 L -74.03995040788514,40.70089063064273 z\" /><path fill-rule=\"evenodd\" fill=\"#66cc99\" stroke=\"#555555\" stroke-width=\"0.004236215800221288\" opacity=\"0.6\" d=\"M -73.99628992163414,40.70142517603708 L -73.99669768997464,40.70087697691705 L -73.9968218908586,40.70099078282786 L -73.99752763273973,40.7012288169587 L -73.9977601103362,40.701359414876706 L -73.99780162786313,40.70131939476623 L -73.99813879899455,40.701518788248364 L -73.99619227228733,40.70337714086413 L -73.99513826840686,40.70297411472284 L -73.99628992163414,40.70142517603708 z\" /><path fill-rule=\"evenodd\" fill=\"#66cc99\" stroke=\"#555555\" stroke-width=\"0.004236215800221288\" opacity=\"0.6\" d=\"M -73.99502134649177,40.703147869246735 L -73.99544564312069,40.70327530547177 L -73.99529346700933,40.703554065897976 L -73.99480038274864,40.70329195864457 L -73.99502134649177,40.703147869246735 z\" /><path fill-rule=\"evenodd\" fill=\"#66cc99\" stroke=\"#555555\" stroke-width=\"0.004236215800221288\" opacity=\"0.6\" d=\"M -73.99476934191567,40.703952894953545 L -73.99488239968474,40.703788025837426 L -73.99502925916447,40.703808200868004 L -73.99488204726408,40.70400865389516 L -73.99476934191567,40.703952894953545 z\" /><path fill-rule=\"evenodd\" fill=\"#66cc99\" stroke=\"#555555\" stroke-width=\"0.004236215800221288\" opacity=\"0.6\" d=\"M -73.98237340572007,40.70554335043762 L -73.98245898641551,40.70554241497239 L -73.98242287179863,40.70582205595455 L -73.9810239061828,40.705898913893535 L -73.98101733900947,40.705797506467746 L -73.98230205183879,40.70573697939965 L -73.98232944216603,40.70555203366402 L -73.98237340572007,40.70554335043762 z\" /><path fill-rule=\"evenodd\" fill=\"#66cc99\" stroke=\"#555555\" stroke-width=\"0.004236215800221288\" opacity=\"0.6\" d=\"M -73.96715101172607,40.718316125932425 L -73.96656241897496,40.71801586680623 L -73.96659690332669,40.71796798139022 L -73.96730741474416,40.718313066681574 L -73.96718243631241,40.71848305630157 L -73.96706867689133,40.718439036293866 L -73.96715101172607,40.718316125932425 z\" /><path fill-rule=\"evenodd\" fill=\"#66cc99\" stroke=\"#555555\" stroke-width=\"0.004236215800221288\" opacity=\"0.6\" d=\"M -73.96636503305282,40.719056330784156 L -73.96585847175152,40.71877322884904 L -73.96662993360907,40.71913242786089 L -73.96654344630548,40.71922294246947 L -73.96631897740721,40.719108420008304 L -73.96636503305282,40.719056330784156 z\" /><path fill-rule=\"evenodd\" fill=\"#66cc99\" stroke=\"#555555\" stroke-width=\"0.004236215800221288\" opacity=\"0.6\" d=\"M -73.96503278394155,40.720377069475106 L -73.96511736823689,40.72031633935888 L -73.96567655698857,40.72067896054036 L -73.96559823311401,40.72074445840249 L -73.96503278394155,40.720377069475106 z\" /><path fill-rule=\"evenodd\" fill=\"#66cc99\" stroke=\"#555555\" stroke-width=\"0.004236215800221288\" opacity=\"0.6\" d=\"M -73.96483433609437,40.72079554693817 L -73.96436107956328,40.72047723987714 L -73.96439735661652,40.72044183442651 L -73.96486440927384,40.720775541860654 L -73.96492581691784,40.720720284447054 L -73.96503100130579,40.72079084137113 L -73.96485304211545,40.7209528048596 L -73.96475287190957,40.72087748384244 L -73.96483433609437,40.72079554693817 z\" /><path fill-rule=\"evenodd\" fill=\"#66cc99\" stroke=\"#555555\" stroke-width=\"0.004236215800221288\" opacity=\"0.6\" d=\"M -73.9640261752461,40.72088089256614 L -73.96406591310317,40.72079991096259 L -73.9643750430115,40.720992550768585 L -73.96430846303332,40.72105566948836 L -73.9640261752461,40.72088089256614 z\" /><path fill-rule=\"evenodd\" fill=\"#66cc99\" stroke=\"#555555\" stroke-width=\"0.004236215800221288\" opacity=\"0.6\" d=\"M -73.96424069706518,40.72061223049399 L -73.9642746249727,40.7205757675939 L -73.96495059736691,40.72142418160434 L -73.9648428486345,40.7214641760946 L -73.96420193098605,40.7206538937544 L -73.96424069706518,40.72061223049399 z\" /><path fill-rule=\"evenodd\" fill=\"#66cc99\" stroke=\"#555555\" stroke-width=\"0.004236215800221288\" opacity=\"0.6\" d=\"M -73.96236596889439,40.72420906161423 L -73.96200744865075,40.723991901607974 L -73.96207271943885,40.72388030040294 L -73.96246790011057,40.72413157960126 L -73.96244340911427,40.724199785481346 L -73.96236596889439,40.72420906161423 z\" /><path fill-rule=\"evenodd\" fill=\"#66cc99\" stroke=\"#555555\" stroke-width=\"0.004236215800221288\" opacity=\"0.6\" d=\"M -73.96128450788402,40.73015906170162 L -73.9612826200821,40.73006102501029 L -73.96140472395216,40.73006105276657 L -73.96140171917759,40.730111026113384 L -73.96168670659041,40.73008186930368 L -73.96191028747243,40.72996258061538 L -73.96195920452797,40.729859668448015 L -73.96202496266523,40.72988542223775 L -73.96197794944985,40.729944018749755 L -73.96221474459279,40.729916935776714 L -73.96241964278757,40.72980120811407 L -73.96248546579243,40.729711167615015 L -73.96254933952301,40.729744068349106 L -73.9624778771383,40.72983696605559 L -73.96226735368352,40.72993124823946 L -73.96225228876577,40.72998556698192 L -73.96220156915895,40.7299540992371 L -73.96194409928032,40.72998689437473 L -73.9617072421664,40.730121195294785 L -73.96128450788402,40.73015906170162 z\" /><path fill-rule=\"evenodd\" fill=\"#66cc99\" stroke=\"#555555\" stroke-width=\"0.004236215800221288\" opacity=\"0.6\" d=\"M -73.96197039369788,40.73157711168541 L -73.96171289480729,40.731566114347665 L -73.96167446772442,40.73148125405532 L -73.96320076537545,40.731417401127274 L -73.96319829672976,40.73135068741031 L -73.96355911991348,40.73133555339157 L -73.96355164152945,40.73126312024704 L -73.9636593923288,40.731249811482066 L -73.96369938139036,40.731436620059796 L -73.96358410965732,40.73145755028224 L -73.96356661657303,40.731371771152276 L -73.96328095722922,40.73139646010772 L -73.96329343161838,40.73149557932848 L -73.96197039369788,40.73157711168541 z\" /><path fill-rule=\"evenodd\" fill=\"#66cc99\" stroke=\"#555555\" stroke-width=\"0.004236215800221288\" opacity=\"0.6\" d=\"M -73.96051732602348,40.744105341081195 L -73.96056856858495,40.74402966608282 L -73.96067204645489,40.74405121585615 L -73.96064863700752,40.74413031711146 L -73.96051732602348,40.744105341081195 z\" /><path fill-rule=\"evenodd\" fill=\"#66cc99\" stroke=\"#555555\" stroke-width=\"0.004236215800221288\" opacity=\"0.6\" d=\"M -73.96421230395677,40.74660431847666 L -73.96427364752437,40.746541845055006 L -73.96433729322393,40.74654572659317 L -73.96444522752624,40.746410425763166 L -73.96458318426947,40.74645440067332 L -73.96458702399427,40.746515898544594 L -73.96447543657699,40.74664083319782 L -73.9641598028843,40.74686554735954 L -73.96412514486175,40.74684576060534 L -73.96421230395677,40.74660431847666 z\" /><path fill-rule=\"evenodd\" fill=\"#66cc99\" stroke=\"#555555\" stroke-width=\"0.004236215800221288\" opacity=\"0.6\" d=\"M -73.95763576836282,40.74840634746494 L -73.95749344070785,40.74833646476315 L -73.95751889321009,40.74830361959225 L -73.9576668047197,40.74837347901887 L -73.9577265433446,40.74829406189572 L -73.9578395394205,40.74833800337522 L -73.9576883184342,40.74853502687165 L -73.95757650467837,40.74848852537832 L -73.95763576836282,40.74840634746494 z\" /><path fill-rule=\"evenodd\" fill=\"#66cc99\" stroke=\"#555555\" stroke-width=\"0.004236215800221288\" opacity=\"0.6\" d=\"M -73.93556797115848,40.77191877803646 L -73.93565635283767,40.77175639643503 L -73.9355216306528,40.771716294060845 L -73.93556621751405,40.77162911588904 L -73.93585195294797,40.77171600149008 L -73.93580987642521,40.77179936862178 L -73.93569833888495,40.77176690312395 L -73.93560853449772,40.771931277684494 L -73.93556797115848,40.77191877803646 z\" /><path fill-rule=\"evenodd\" fill=\"#66cc99\" stroke=\"#555555\" stroke-width=\"0.004236215800221288\" opacity=\"0.6\" d=\"M -73.94180032729426,40.76904692662469 L -73.94285528620705,40.76830349440931 L -73.94381427322762,40.76722091204988 L -73.9448402665221,40.76582362839081 L -73.94662141408685,40.76386277208094 L -73.94943175563205,40.76054861736145 L -73.95033358814476,40.75985675555357 L -73.95126005908772,40.758810116371734 L -73.95177822025997,40.758402549876976 L -73.9520923302263,40.75799314034484 L -73.95217663423699,40.75783133643996 L -73.9522114634206,40.75758363983291 L -73.95254079336877,40.75709531453726 L -73.95322009963134,40.75642684232026 L -73.95507326928161,40.75479868255479 L -73.95519503183567,40.75477452347619 L -73.95692404304644,40.75296115989116 L -73.95791452493187,40.752109854525315 L -73.95860755756425,40.75161332398692 L -73.95903248609429,40.751386423273765 L -73.95902757442488,40.751297369850946 L -73.95955875930795,40.75081459776195 L -73.96039170572536,40.75025618611728 L -73.96090586323119,40.749801982309144 L -73.96103586780751,40.74974292522728 L -73.96116476794676,40.749771011597545 L -73.96132845481047,40.74960095762449 L -73.96153855464473,40.749723119840475 L -73.96138656171422,40.749880502835886 L -73.96143797786425,40.75000591607584 L -73.96134951969928,40.75009418874126 L -73.96111060141877,40.750600469900704 L -73.96068557958185,40.75120193696792 L -73.96001132395902,40.75183151733506 L -73.95950079995097,40.75295638219572 L -73.9590161662748,40.75359505995738 L -73.95892671120951,40.753562492361404 L -73.95845836805675,40.753949236504866 L -73.95565513164131,40.7570951057258 L -73.95550425524475,40.757333456072544 L -73.95366241810677,40.75947973461607 L -73.95332321617923,40.75974596468739 L -73.95339140733955,40.7597967623577 L -73.95312451504947,40.76005275842953 L -73.95297788216074,40.75996210787687 L -73.9520863226655,40.76086215440482 L -73.9516250497398,40.76167886360575 L -73.95093734928088,40.76257049523781 L -73.95073068782703,40.762758225433764 L -73.94997191750257,40.76364603031704 L -73.94920376022777,40.764269643832755 L -73.94908628791565,40.76426402727494 L -73.94770109012802,40.76602239732514 L -73.94655273893079,40.767368205566605 L -73.94591458905606,40.76821393901867 L -73.94585112333094,40.768247750235524 L -73.9458445142382,40.768321228251395 L -73.94570357268658,40.76832793431147 L -73.94548114289289,40.7686247794378 L -73.9456272109345,40.76869295317886 L -73.94556302048748,40.7688017760271 L -73.94540491850024,40.768732173038565 L -73.94524510341354,40.768773268310376 L -73.94515704221519,40.76911831775166 L -73.94472353220667,40.769734058884 L -73.94472478497455,40.76978627153483 L -73.94400423956336,40.77029398215081 L -73.94320414114229,40.77099239974862 L -73.94257830301011,40.771701856718465 L -73.94212674646828,40.772034700509415 L -73.94136990742406,40.772309150827695 L -73.9408870721167,40.77237251577601 L -73.94056957420625,40.772614758964124 L -73.94027460921178,40.77294743789811 L -73.94007665751654,40.77292618635795 L -73.94001157258354,40.77284236055257 L -73.94018451224514,40.77256490680416 L -73.94028207924197,40.772301406991204 L -73.94027766722355,40.77171314173949 L -73.94020021779653,40.77112830566273 L -73.94022870389077,40.77085226166436 L -73.9403553347751,40.77049657437103 L -73.94082605300254,40.769912157268145 L -73.94111778718026,40.76941440857463 L -73.94180032729426,40.76904692662469 z\" /><path fill-rule=\"evenodd\" fill=\"#66cc99\" stroke=\"#555555\" stroke-width=\"0.004236215800221288\" opacity=\"0.6\" d=\"M -73.93804640603439,40.780829544275505 L -73.9379013362394,40.78074999617256 L -73.93779448726416,40.78078125875544 L -73.93779944179563,40.78103133979666 L -73.93764631821483,40.781001215892864 L -73.93759894622623,40.78046784086145 L -73.93779269036342,40.78035790421233 L -73.93823773509402,40.780259079465345 L -73.9383962259169,40.78026243389376 L -73.93861200821945,40.78033895586895 L -73.93923746178234,40.77973339405837 L -73.939318219876,40.77971800182687 L -73.93953015793254,40.779527620260474 L -73.93958378972476,40.77957647400715 L -73.93943238100775,40.7798122002746 L -73.93949329752056,40.779873691315416 L -73.93937515379676,40.77997877184921 L -73.9393052849678,40.7799512245521 L -73.9392178962528,40.78001352022144 L -73.93872802926595,40.78051074370461 L -73.93883951845037,40.78059924979985 L -73.93874423089275,40.78104387604225 L -73.93830097951646,40.781362084365 L -73.93808213268714,40.78141843777721 L -73.93796757721645,40.781289334060254 L -73.93804948921756,40.78105580604247 L -73.93804640603439,40.780829544275505 z\" /><path fill-rule=\"evenodd\" fill=\"#66cc99\" stroke=\"#555555\" stroke-width=\"0.004236215800221288\" opacity=\"0.6\" d=\"M -73.9213375241928,40.800852107502166 L -73.92103317645142,40.800265281858046 L -73.9203146552123,40.79937545928999 L -73.91899496843428,40.79877184320446 L -73.91662985247802,40.797858139437096 L -73.91545470966419,40.79706346603097 L -73.91443827233314,40.79566551786385 L -73.91380428276814,40.7945118464559 L -73.91378385370594,40.793836285482065 L -73.91514134426109,40.79201248299487 L -73.91535698910364,40.79184304950771 L -73.91552117846285,40.79178325024936 L -73.91630574681612,40.79111748083683 L -73.9161708792398,40.79101429337375 L -73.9168654058489,40.790362063464165 L -73.9171062231295,40.790468616736774 L -73.91812330871126,40.79004023993423 L -73.91856299774986,40.78969533382591 L -73.91859001366792,40.78947410390863 L -73.91850876959093,40.789425089769395 L -73.92189248128902,40.78570326964315 L -73.92199539273022,40.7857560783125 L -73.92219098057298,40.7855106715738 L -73.92285203280153,40.78355569341766 L -73.92306473139385,40.78334288477429 L -73.92401145782648,40.78266068982501 L -73.92412113996792,40.78252307401083 L -73.92424754901673,40.78249433912652 L -73.92448052280425,40.782320490645816 L -73.92488394771706,40.78222258277358 L -73.92538939088001,40.782274144398855 L -73.92571808678534,40.78217655794456 L -73.92732422574863,40.781090629324254 L -73.92810118987339,40.78092032004213 L -73.92849269561364,40.781008353480836 L -73.9306381969117,40.78226141304896 L -73.93105352807888,40.78239659356657 L -73.93267080610443,40.782693639624796 L -73.93502345134512,40.783006382028816 L -73.93540566284273,40.78339449926807 L -73.93581299798616,40.783710081537535 L -73.93598226006591,40.78394236810638 L -73.93607064617002,40.78421721562025 L -73.93605332741521,40.78451236815351 L -73.93591823840065,40.784806879963405 L -73.93571265997697,40.785680489492535 L -73.93269606086271,40.78917822416744 L -73.93240145513691,40.78972029017014 L -73.9322407328486,40.789694849737494 L -73.93147595329808,40.79047915925791 L -73.93084178739281,40.79099143000156 L -73.9307294050381,40.790955114430815 L -73.92972400781915,40.79136617834302 L -73.9287194892678,40.79094353251242 L -73.9285945984799,40.790966924303866 L -73.9280727357566,40.79082339128302 L -73.92692258257136,40.79078869300408 L -73.92641834042986,40.79069337638712 L -73.92610410186641,40.790731607619904 L -73.9260623804895,40.790827848514674 L -73.92608911503012,40.791091780405246 L -73.92604793689041,40.79126508269461 L -73.92615293373655,40.79154720955432 L -73.9261594224972,40.79171538949724 L -73.92656766339974,40.79185813478178 L -73.92651312185698,40.79189688476326 L -73.92614555696494,40.791847325906176 L -73.92592763081379,40.79187554738943 L -73.9255872987962,40.79182083090694 L -73.92560756026246,40.79189590746636 L -73.92616939779452,40.7918992232049 L -73.92642805950204,40.79195649054445 L -73.92673798846978,40.791928422791784 L -73.92670074590066,40.79183262165673 L -73.92650678778527,40.79177285015723 L -73.92636742573431,40.79166138934012 L -73.92633032267321,40.79150347605386 L -73.92634451567677,40.79124728911949 L -73.92648803030961,40.7910223243008 L -73.92670272262282,40.790968158767605 L -73.92711487726518,40.79101502446055 L -73.9274385682008,40.790960857245636 L -73.92786889241084,40.79095483863441 L -73.92789374498597,40.791091111420904 L -73.9271356372808,40.791929306603116 L -73.92780141472397,40.79199747926233 L -73.92826720296155,40.79232852394818 L -73.92834291139305,40.79291805769677 L -73.9283227160924,40.7931019891402 L -73.92735332146681,40.79446189460991 L -73.92693614720181,40.79549706217131 L -73.92688967827914,40.796252011862755 L -73.92695192356013,40.796708432284326 L -73.92711806944754,40.79720386173811 L -73.9271851477837,40.79734989678024 L -73.92767122620867,40.797217014266245 L -73.92770694127069,40.797298663882124 L -73.92720299704214,40.797386747799386 L -73.92727720268904,40.7974074531486 L -73.92743922185319,40.79771053821601 L -73.92747588603496,40.798122899664904 L -73.92726293291275,40.798918645122015 L -73.92688261754358,40.79994076850321 L -73.92669572629558,40.80014697715245 L -73.92724770789282,40.80039295736896 L -73.92711464230642,40.80056375622953 L -73.9270669662849,40.80054301212579 L -73.92716933022487,40.800405853696134 L -73.92666565480394,40.80018271403577 L -73.9265535165366,40.80031517292142 L -73.92674263892997,40.80040349897277 L -73.92653846390036,40.800333898307905 L -73.92650250275526,40.800374917306925 L -73.92668470621146,40.800454757255814 L -73.92655241808481,40.800604825092265 L -73.9268690867946,40.80078367679924 L -73.92699531303133,40.800636176104284 L -73.92704640297909,40.800651743031274 L -73.92688606022001,40.8008406483689 L -73.92650954867304,40.800657031524544 L -73.92577551811746,40.80173060099629 L -73.9254929349305,40.80195616865066 L -73.92527521020125,40.801998522743325 L -73.92436044107566,40.80198555341894 L -73.92263378594897,40.80186873814105 L -73.92191092229572,40.80150266625353 L -73.9213375241928,40.800852107502166 z\" /><path fill-rule=\"evenodd\" fill=\"#66cc99\" stroke=\"#555555\" stroke-width=\"0.004236215800221288\" opacity=\"0.6\" d=\"M -73.92640556921116,40.87762147653734 L -73.92629680992586,40.87756502787567 L -73.92629548797332,40.87748846859299 L -73.92642113927452,40.87736696612844 L -73.9264578490096,40.87725818900875 L -73.92638108662776,40.87714768966769 L -73.92619292264023,40.877064419491305 L -73.9255529224978,40.87710258902118 L -73.92517576034098,40.87725516263566 L -73.92508215701338,40.87739761061557 L -73.92502681080506,40.877371962297325 L -73.9245703699118,40.87742891263328 L -73.92381973555429,40.877261811710845 L -73.92354823367552,40.877301379737034 L -73.92329476733926,40.87726443545978 L -73.92292375203768,40.87703438615694 L -73.92280311153733,40.87701337289032 L -73.92281246559956,40.8769790825586 L -73.92259596880969,40.876921233689544 L -73.92259148720349,40.87686583293415 L -73.92239768169317,40.87678022314121 L -73.9223811545444,40.876365824504916 L -73.92244468222157,40.8756918357596 L -73.92259328610066,40.87532383207473 L -73.92266803994812,40.87498199137408 L -73.9226138302986,40.87440727212495 L -73.9224756824331,40.87407700168074 L -73.92217677279505,40.873675065051195 L -73.9217623597181,40.873337308137344 L -73.9212554107876,40.873082448834815 L -73.92091406868407,40.873007505808296 L -73.92055602106612,40.87299877396309 L -73.9201340570572,40.873192834478274 L -73.9199579782898,40.873409713506604 L -73.9199446246653,40.87357803854078 L -73.91979301672356,40.8736065126604 L -73.91979277649074,40.87364631105558 L -73.91995774794785,40.87367916324076 L -73.91998543966982,40.873844433308435 L -73.920213821777,40.873943955909205 L -73.92062699165687,40.874234811128744 L -73.92080255630357,40.87419405886668 L -73.92066084429204,40.874278743471486 L -73.92070010598985,40.87439193360942 L -73.9209155100289,40.874798175242695 L -73.92118186508976,40.87513784085063 L -73.9209691304401,40.87541852197353 L -73.92080609644003,40.875477492972685 L -73.91887525897306,40.87467899589004 L -73.91884880921111,40.874617976384876 L -73.91888377880676,40.87455689971469 L -73.91908892442862,40.87435003347325 L -73.91918930667285,40.874141094329666 L -73.91927438317983,40.873651880904596 L -73.91892851230503,40.873316510215716 L -73.91878759190432,40.87334712040864 L -73.9187132918374,40.87330453086856 L -73.91872032178811,40.87324642952307 L -73.9186034886986,40.873286016747734 L -73.91849995662199,40.873191715603824 L -73.91839143131281,40.87320881468856 L -73.91841698758448,40.87326985328334 L -73.91861259668218,40.87337081066083 L -73.91861247219546,40.87347251468283 L -73.91846904628137,40.873571462815065 L -73.9184119825552,40.87355108219987 L -73.91841071224552,40.873636866050425 L -73.9180589342757,40.87384986798401 L -73.9179290291799,40.87397889320502 L -73.9175772988473,40.8745486785472 L -73.91749921000545,40.874520078540165 L -73.91789032098384,40.87396247775168 L -73.91787144917505,40.873904995288655 L -73.91750587170904,40.87416881195699 L -73.91708950038674,40.87430145932436 L -73.91705554600382,40.8743457502328 L -73.91643573932143,40.874509698733355 L -73.91568463084471,40.87452761810509 L -73.91522402146056,40.874486621868144 L -73.91358513705511,40.87402538028845 L -73.91309558920298,40.87384574901547 L -73.91261073308618,40.873757315620495 L -73.91142596184433,40.873181766652394 L -73.91117450708145,40.87298469583899 L -73.91096169269252,40.87261701014659 L -73.91064877277677,40.87229624946576 L -73.91054082062277,40.87205832757491 L -73.91042644048507,40.87148543806203 L -73.91043363570449,40.87138081638425 L -73.91054357762047,40.87128624754065 L -73.91072355879827,40.87094883664459 L -73.9106779365017,40.87087278982884 L -73.91075680633539,40.87057472689974 L -73.91074831413553,40.87026464712148 L -73.91087677451355,40.86973696991116 L -73.9108533419753,40.86964860774658 L -73.9109239562781,40.86957956676648 L -73.91092491224234,40.86943659135413 L -73.91105771592373,40.86940865229202 L -73.91134621371631,40.86952428990723 L -73.91147448899112,40.86945475763832 L -73.91146347606924,40.869377382230155 L -73.91103057950258,40.86915540299598 L -73.91107553160974,40.86904322624033 L -73.91114869895938,40.86888021524036 L -73.91132817758825,40.86880243953576 L -73.91132553554417,40.86867589550757 L -73.91151485871009,40.8682812392571 L -73.91171163037997,40.86810028506052 L -73.91180556034624,40.86781047911386 L -73.91191159865878,40.86770020567245 L -73.91184774646815,40.867672520472475 L -73.9127317391952,40.866605212711306 L -73.91254775130282,40.86651494300431 L -73.9139186313324,40.864745584403586 L -73.91431200712508,40.86462502269582 L -73.91492387927869,40.864580378919136 L -73.9145403762602,40.864412351623365 L -73.91441113392617,40.864173627375536 L -73.91508583854333,40.8644481434173 L -73.9154318971828,40.86441830355366 L -73.91545342726475,40.86433373708637 L -73.91563236347605,40.86430947317944 L -73.91566444392173,40.86435015331548 L -73.9158991164586,40.86430803758248 L -73.9159313804982,40.86420396508691 L -73.9158714806572,40.86412909053303 L -73.91558377690818,40.8640706510481 L -73.9153598196428,40.864077290127746 L -73.91519574800094,40.863945224735865 L -73.91517556429707,40.86368043375092 L -73.91536190015128,40.863547232567136 L -73.91547682444254,40.86334610729674 L -73.9154549655414,40.86320845729238 L -73.91534506689362,40.863164542777405 L -73.91538673051143,40.86308438420069 L -73.91552015328243,40.86291007496547 L -73.91567199779993,40.86290242787803 L -73.91610517927772,40.86248814480862 L -73.91679534822488,40.861977601267235 L -73.91705129801854,40.861892622976505 L -73.91729467741682,40.86167941823063 L -73.91750401182637,40.86136332486963 L -73.91782702380148,40.86104278280526 L -73.91782136420322,40.86094890179109 L -73.9179219058387,40.86082542617208 L -73.91788387387612,40.860802221270625 L -73.91843439251785,40.86022153339527 L -73.91836074527978,40.860195809044086 L -73.91839311217645,40.860080469421916 L -73.91861094928483,40.8598631103016 L -73.91862051432193,40.859782064284815 L -73.91869488994594,40.85973492157373 L -73.91877796600036,40.85954675131652 L -73.91943853541449,40.85885542134399 L -73.91952342324122,40.858783633211964 L -73.9203980513709,40.85916150233046 L -73.92046134307469,40.85910326112519 L -73.91984679689206,40.858843882069536 L -73.91977424610863,40.858794772291134 L -73.92047868273164,40.85910409209883 L -73.92043350742901,40.85917235515501 L -73.92065316209782,40.85926326599645 L -73.92127091296314,40.86018804281669 L -73.92136406183823,40.86021146544206 L -73.92159014848228,40.86007280002688 L -73.92173654090283,40.85967246028849 L -73.92164878482419,40.85955093398916 L -73.92183337804897,40.85955506534808 L -73.92172807855678,40.859394815447835 L -73.92184589125206,40.85938288171891 L -73.92179318314092,40.859352814615036 L -73.92185654400586,40.85929078717133 L -73.92186633783652,40.85918134014976 L -73.92181807326544,40.85911523813002 L -73.92157640358266,40.859055001953564 L -73.92130672674394,40.85889931286584 L -73.92138847158147,40.85889670296219 L -73.92125580136796,40.85884655352703 L -73.9212568347568,40.858715082986954 L -73.92107155243096,40.858553444528184 L -73.92112177944222,40.858445356850766 L -73.92106819230465,40.858417288031646 L -73.9210876764655,40.85829984124802 L -73.92094165735575,40.85828441491405 L -73.92091459857788,40.85821896663768 L -73.92114396589061,40.85755122405761 L -73.9213047520937,40.85742065143315 L -73.9215555046349,40.857321750596235 L -73.92159242598987,40.85726341560263 L -73.92155857155751,40.857088830629124 L -73.92188651896566,40.856984611232534 L -73.9220449221591,40.856854159584174 L -73.92207464948137,40.856779491241035 L -73.92215747202285,40.8567662474764 L -73.9221097526086,40.85672027116323 L -73.92216714728863,40.85666348247119 L -73.92237695742354,40.85658356962483 L -73.92234459374129,40.85568233581486 L -73.92206335132524,40.85605391178443 L -73.92169841904696,40.85667230185494 L -73.92151894059089,40.856601170623186 L -73.92175965629761,40.85630468180847 L -73.92182325044611,40.85632912586351 L -73.9221580751638,40.85588877209424 L -73.92227873064483,40.85565498884374 L -73.92341584183623,40.85422580636216 L -73.9244406513995,40.852840472704386 L -73.92971850477537,40.84523177826375 L -73.93015203635434,40.84444930594291 L -73.93089465201425,40.8425383401419 L -73.93390952876399,40.83713285480002 L -73.93428447793849,40.83638384364893 L -73.93446697910174,40.83595775749971 L -73.93444877564322,40.835911434503785 L -73.93457054558492,40.83585622846801 L -73.93455055397727,40.83576949201229 L -73.93465224388608,40.83571713328785 L -73.9346751091444,40.83562667780456 L -73.93475278250986,40.835559940712564 L -73.93478684030045,40.835377932347924 L -73.93486985067806,40.835332715131045 L -73.9349153357865,40.83523082193877 L -73.9351038425559,40.833657656917836 L -73.93515659173335,40.83268240673983 L -73.93493515655047,40.83060244471324 L -73.9348308720848,40.82980843705177 L -73.93475944294428,40.82970012100016 L -73.93467597101817,40.829313402210495 L -73.93466228987833,40.829180759946 L -73.9347076940248,40.82915830979219 L -73.93465447618152,40.829097576961054 L -73.9345976397154,40.82820843167848 L -73.93452175638055,40.827907800091346 L -73.93442396339051,40.82704289397213 L -73.93448291058759,40.82703709277875 L -73.9341465766699,40.823029032050414 L -73.93397241531086,40.819729574765624 L -73.93383009163675,40.819719743429644 L -73.93378997399208,40.81715137370164 L -73.93382900884609,40.81558536018747 L -73.93394608825346,40.815587624739145 L -73.93399543936422,40.81471925787889 L -73.93396620950341,40.814565211251434 L -73.93401476726979,40.81448375262478 L -73.93385652638817,40.81448147441918 L -73.93386510261902,40.81415315795561 L -73.93403843917879,40.812340880070956 L -73.93428227801395,40.81082305050862 L -73.93433864584739,40.80956221383135 L -73.93412073484298,40.8086564519774 L -73.93356119311481,40.80760067738665 L -73.93308471749714,40.80702691470204 L -73.93115949987327,40.80496694026245 L -73.93030876458724,40.80378601587066 L -73.92997373618591,40.80319646797409 L -73.93004460904999,40.80310611177071 L -73.92978668000154,40.80266074871747 L -73.929453663335,40.80190736883599 L -73.92920817595964,40.80114752061126 L -73.9290349024031,40.80108090385186 L -73.92890152344117,40.799855215165266 L -73.92903640179625,40.79676259410125 L -73.92927936741171,40.7958531395206 L -73.92987485778265,40.795035156225744 L -73.92980955349988,40.794983166296696 L -73.92983254042525,40.79494906114079 L -73.929916361206,40.79494911213701 L -73.93006881035538,40.79470082860544 L -73.93010771028146,40.7947129910637 L -73.93019664392844,40.7945932248548 L -73.93348489644649,40.792774171332496 L -73.93517182451616,40.79160473956748 L -73.93526809778403,40.791528025800396 L -73.93519039296174,40.79147116012907 L -73.93546762088405,40.7912636520575 L -73.9355389669594,40.79131869365976 L -73.93583106788908,40.79109470487022 L -73.93708104382303,40.789366395709955 L -73.93612689279686,40.788926867985396 L -73.93624303325052,40.78879577415203 L -73.93714965461105,40.78916844905946 L -73.93781722692913,40.78768846868085 L -73.93811570089727,40.78718476275638 L -73.9398261969646,40.78525655241547 L -73.94243451137065,40.783917830322345 L -73.94323985739751,40.78332785169434 L -73.94355143839512,40.78290350798574 L -73.94364823539011,40.78265616133327 L -73.94388068102414,40.78153204386692 L -73.94387075988708,40.781273026571576 L -73.94360047475412,40.78015909946618 L -73.94321386265223,40.779317588659985 L -73.94300423950467,40.779639495474164 L -73.94278066641971,40.77950615406815 L -73.94271600545089,40.77954416947611 L -73.94262799584376,40.779323118968634 L -73.9427123747622,40.779214856939795 L -73.94253556320854,40.77909095606245 L -73.94289340818793,40.778614093246105 L -73.94265530676857,40.778124965573824 L -73.94245741056957,40.77740747334794 L -73.9422805004479,40.7773474382286 L -73.94231968904049,40.77745251876448 L -73.94236333715754,40.777447010924156 L -73.9424554569809,40.77774786483619 L -73.94233541821139,40.777768816876666 L -73.94224111393387,40.777470174115656 L -73.94228549380644,40.77746024282678 L -73.94225579604492,40.77731646027734 L -73.94211982454031,40.777255566411725 L -73.94218537013923,40.77716380876225 L -73.9422936833316,40.777242936750376 L -73.94243403895516,40.777300461988794 L -73.9423378939154,40.77724890117764 L -73.94238467141903,40.777171097604565 L -73.94218434190194,40.77707641576132 L -73.94207418803877,40.77691784697707 L -73.94200266722274,40.776185317382705 L -73.94208160457377,40.77595701631705 L -73.9424010094905,40.77572692752613 L -73.9425876964068,40.77521895652805 L -73.94293043781397,40.77467626803581 L -73.9436643181476,40.77384076467938 L -73.94487889596707,40.77256956200726 L -73.94640418919069,40.77126904561923 L -73.94866416477885,40.76885762439943 L -73.94937332131504,40.76788219105435 L -73.95006979303062,40.7670250883833 L -73.95441826078606,40.762184104951054 L -73.95845501743894,40.75858090219749 L -73.95918103219992,40.75785611105221 L -73.96065638180474,40.75592314955019 L -73.96162927534917,40.755152384259105 L -73.96219381838414,40.75450431515325 L -73.96223125165591,40.75452213042186 L -73.96316074049744,40.753412207328125 L -73.96532405586477,40.75104771827202 L -73.96817376101073,40.74766675374175 L -73.96836519324148,40.747433494620104 L -73.96823171715788,40.7473684764892 L -73.96894301109302,40.7465183356965 L -73.96899981595465,40.74650193477237 L -73.9698756140306,40.74544478913761 L -73.96997377026275,40.7454957474306 L -73.9707883477664,40.74440621769032 L -73.97094062960419,40.744471444025386 L -73.97111438123977,40.74420436093245 L -73.97070317531664,40.743990495411325 L -73.97076123524693,40.743942108144225 L -73.97117346753143,40.7441075355108 L -73.97135752941868,40.74383845535943 L -73.97120546301967,40.7437715103013 L -73.97188888913044,40.7427248203555 L -73.97174059715847,40.74266357950892 L -73.97195955856255,40.742337921543665 L -73.97228992099217,40.74072103903176 L -73.97216477368657,40.74067572212913 L -73.97223504317165,40.74041340340196 L -73.97219641647808,40.740402578750285 L -73.97221685422328,40.74030762506154 L -73.97227001334156,40.740308574345676 L -73.97231030439093,40.740018512674816 L -73.97243888981417,40.740021749973224 L -73.97265743803038,40.739222754276966 L -73.97259038224658,40.736769655344816 L -73.97248994174741,40.73580328010761 L -73.97286939178467,40.73577086128556 L -73.97441385816532,40.73641439385896 L -73.97445975070463,40.73629401971832 L -73.97402692104305,40.73612576724549 L -73.97404679254456,40.73609992993463 L -73.97446647047286,40.7362784568299 L -73.97450376013228,40.73606458844403 L -73.97414062018372,40.735955657167324 L -73.97450488285963,40.7360422805367 L -73.97451459772599,40.735894598411235 L -73.97450793938161,40.73579694577236 L -73.97448854079045,40.73587568074894 L -73.97445077717819,40.735869129966694 L -73.97446233335455,40.73583114456821 L -73.97424982468374,40.735797182019994 L -73.97425866775502,40.73576626816384 L -73.9744704050787,40.73579787225513 L -73.97446537767371,40.73566688606369 L -73.9741461652345,40.735671622012916 L -73.97305698712047,40.73517745341554 L -73.97280661710461,40.73552391852113 L -73.97293031926458,40.73560761439667 L -73.97276308380353,40.73550508747356 L -73.97299695202484,40.73518650689109 L -73.97283745943461,40.735199716704415 L -73.97294520758682,40.73506517007111 L -73.97299560236567,40.73512793848568 L -73.97297083635605,40.735157216971274 L -73.97303684713691,40.7351279481501 L -73.9732989504614,40.735242355077084 L -73.97329627362966,40.73504085664251 L -73.97354472883961,40.73494432610145 L -73.97444065082591,40.73531677190054 L -73.97395905029711,40.73342116553846 L -73.97386631865598,40.73331097608678 L -73.97385730036494,40.73321630363855 L -73.97380976846561,40.733248999372925 L -73.97378376867152,40.733199934826935 L -73.9736762757606,40.73320593388803 L -73.97386810776207,40.733065687195605 L -73.97341321730858,40.73128241642864 L -73.9730060597538,40.730823131910476 L -73.97196340301248,40.73000037721747 L -73.97162729998558,40.72955788414599 L -73.97147994907206,40.729249577698404 L -73.97141235109775,40.72887985602162 L -73.97142718443529,40.72848582638753 L -73.97155553514953,40.72770310859809 L -73.97157278760145,40.72764591976768 L -73.97165160075588,40.72764321253462 L -73.97168514866583,40.727405886636525 L -73.97153686592743,40.72739296510078 L -73.97149039092832,40.72735009810991 L -73.97176755410217,40.7258333034546 L -73.97181650587731,40.72581496675248 L -73.97208400057288,40.72446790554567 L -73.97311210769035,40.72015873927444 L -73.97351345120518,40.71877484470659 L -73.97406236070515,40.717204566737685 L -73.97490060916697,40.715134167787184 L -73.97604981455508,40.71260419377787 L -73.97642872514528,40.71190903250366 L -73.97671221539667,40.71153576517838 L -73.9772221356257,40.7110687312283 L -73.97799674790384,40.710561017391605 L -73.97825557749195,40.71049790955784 L -73.98033652490459,40.710359201217265 L -73.98033090124429,40.71028693831353 L -73.98128647552558,40.710218347881636 L -73.98124579569945,40.70982621460123 L -73.98839064023267,40.70912694916265 L -73.98849727173871,40.709176305795744 L -73.9886365807185,40.70991206151628 L -73.98879717785803,40.709966607472225 L -73.99374012862228,40.70924612043532 L -73.99414063200345,40.709233267399924 L -73.99517577369834,40.70903429381029 L -73.99728287195578,40.7087316198429 L -73.99808351186999,40.708509615367134 L -73.99880846276643,40.708200134992666 L -73.99952324941067,40.70776262865813 L -73.99949062474623,40.70772184522498 L -73.9995383965945,40.70769347002565 L -73.99960948039251,40.70775997317629 L -73.9999485594979,40.707591496370966 L -73.99997222648798,40.70750639882204 L -74.00023380525761,40.70734714248683 L -74.0011868526283,40.70685982577176 L -74.00113130577202,40.706799050684516 L -74.00123213691967,40.70674033693098 L -74.00098276691733,40.70641671299293 L -74.00140666691954,40.706179388020644 L -74.0005829704798,40.7054339336489 L -74.00145437418847,40.704873303432066 L -74.00206142563809,40.70541700564076 L -74.0021581834855,40.705357119118524 L -74.00256965059467,40.70552357952351 L -74.00268512768794,40.70544924811866 L -74.00236285311746,40.705158966692586 L -74.00241573476919,40.705129311282505 L -74.00197070397948,40.7047378684872 L -74.002171849419,40.70460659646368 L -74.00233344621164,40.70474813530699 L -74.00243071075865,40.70467785800435 L -74.00248790148639,40.70473376109163 L -74.00238670740679,40.70479566367449 L -74.00332307270787,40.70562859522006 L -74.00383327532258,40.705303243026385 L -74.00366217837694,40.70514975973916 L -74.00358390952114,40.705192649147996 L -74.00355259950756,40.705166440834184 L -74.00363086901315,40.70512355144647 L -74.00262896407828,40.70422295278143 L -74.002866897815,40.704075225511566 L -74.00405666439265,40.70514736343892 L -74.00602048621096,40.70387490010186 L -74.00614106753552,40.703980973435414 L -74.0065959191387,40.70368590194925 L -74.0054838408244,40.70271432213405 L -74.00552682615239,40.70268528761711 L -74.00542728826248,40.70266543619403 L -74.00530412596079,40.70255986563302 L -74.00549427805105,40.70243138195556 L -74.00561361797627,40.70253024203234 L -74.00553546138177,40.70264552110683 L -74.00567522249858,40.70258407270014 L -74.00678502191052,40.70356812790527 L -74.007519052838,40.703121820237115 L -74.00769798694184,40.70284927904936 L -74.00911037361753,40.701983871013596 L -74.00929072600611,40.70193007182197 L -74.00869964313567,40.70113986754221 L -74.0077554915064,40.70154800167179 L -74.0075913620422,40.7013280810481 L -74.00853611510774,40.70091969574505 L -74.008349275591,40.7006693483882 L -74.00862036163876,40.70055216421584 L -74.00958483017612,40.701837386065804 L -74.01118088303541,40.7014513922537 L -74.01110775373041,40.70127576447365 L -74.01128983905525,40.70124998224425 L -74.0112097577877,40.701044583273756 L -74.01112868539609,40.70106489745045 L -74.01107837974551,40.700957120315074 L -74.01109337389371,40.70085125657556 L -74.01092482717033,40.70056679303635 L -74.01094712848688,40.700537743035746 L -74.01078537980491,40.70023251447074 L -74.01081530667376,40.700200444603745 L -74.01115033556839,40.70089840010093 L -74.01135836291354,40.70085195863633 L -74.0112981643226,40.70059888503188 L -74.0113340941042,40.700568353682264 L -74.0113817187564,40.700570257117825 L -74.01150291143712,40.70081505897421 L -74.01172926817476,40.70077011805966 L -74.01161019835878,40.70049300642146 L -74.01163147918649,40.7004582182481 L -74.0117260583568,40.70047860442187 L -74.01185378549589,40.70073892145015 L -74.01208668214693,40.70068130873918 L -74.01185672556994,40.7001071034084 L -74.01196196116918,40.70003754559545 L -74.01208842091683,40.70008658368945 L -74.01239160032284,40.70062052809402 L -74.01259392327508,40.70057083347242 L -74.01251511280124,40.70015049211081 L -74.01261382087365,40.70010826581107 L -74.01283454933409,40.70035287473447 L -74.01290881793956,40.7005236116935 L -74.01310747847371,40.700507452180645 L -74.0130118926586,40.69981825663123 L -74.01311303826314,40.69977416588525 L -74.01327349483086,40.70049687022777 L -74.01348560832739,40.700478222908394 L -74.01348311536113,40.700263388116284 L -74.01353285018102,40.700108161423245 L -74.01358669315087,40.70007959034501 L -74.01367479314794,40.700125821450825 L -74.01353047796475,40.70031110034647 L -74.01356131236537,40.70031009758511 L -74.0135314747603,40.70038201618361 L -74.01356297111606,40.70038001320642 L -74.013522959189,40.70046041540698 L -74.01358070018833,40.70045691449295 L -74.01358541798506,40.700501912756216 L -74.01355283229525,40.70050335816964 L -74.01357712822566,40.70064368147604 L -74.01351039592653,40.700650371152065 L -74.01355826959487,40.700939870830524 L -74.01395152756511,40.700990982459956 L -74.01422063195506,40.700111491868306 L -74.01430981586157,40.70013410151561 L -74.014152387873,40.700577865783515 L -74.01428920741134,40.70064414476506 L -74.01458425440427,40.70030846895508 L -74.01463294333469,40.700197430412395 L -74.01467119992019,40.700210401699685 L -74.01432384363015,40.70066130412711 L -74.01464323234912,40.70081730432509 L -74.01506818269304,40.70031825755493 L -74.01509832270126,40.70033426552343 L -74.01503579735079,40.70042083101057 L -74.014673656285,40.70083460953097 L -74.0150211366168,40.70099250401337 L -74.01514231812101,40.700842892354245 L -74.01579351711152,40.70134690580749 L -74.01651515260784,40.70201729867141 L -74.01714508062659,40.70270534997616 L -74.0174938116277,40.703154843460084 L -74.01766881307273,40.70359131346763 L -74.01787839340639,40.7035385080372 L -74.01789088495379,40.70362520827422 L -74.01767132020267,40.70360642738379 L -74.01765461989739,40.70400968256977 L -74.01757035640019,40.70418388098656 L -74.01779454520306,40.70423489810137 L -74.01785585682941,40.70407884761561 L -74.01775054986868,40.70405488289348 L -74.01781758697946,40.70393792249655 L -74.01780821746956,40.70403196447961 L -74.01791229326221,40.704054497150985 L -74.01795473982622,40.703975785608584 L -74.01784441106724,40.7042420399379 L -74.01844742686767,40.70416230497785 L -74.01866784676697,40.704435278054675 L -74.0175164637148,40.70458062465244 L -74.01748090483301,40.70466726085783 L -74.01802418707257,40.704645750346394 L -74.01811302905885,40.704553602333725 L -74.01888747947997,40.70472914280423 L -74.01934254624489,40.70609367302966 L -74.01912275963412,40.70697581433742 L -74.01906617140145,40.70701377062146 L -74.01895359463371,40.70699676946549 L -74.0187964493679,40.707127819847564 L -74.01863058372699,40.707139715269285 L -74.01854718475342,40.70710777026421 L -74.01876194037433,40.70707578586688 L -74.01884889814508,40.70697031235022 L -74.01864794474125,40.70701781957841 L -74.01856452356978,40.706906440109236 L -74.0185351326967,40.70691832201406 L -74.01819029259647,40.707821626109904 L -74.01865557049648,40.70792394888326 L -74.01883195883924,40.70799916729172 L -74.01885500911968,40.708047534447395 L -74.01811057789178,40.71102962821442 L -74.01777014254505,40.71283457478911 L -74.01772021563546,40.71284473093362 L -74.01772148946128,40.71278414511305 L -74.01780037888393,40.712345124158524 L -74.01662424425291,40.71215731899531 L -74.01654463812528,40.712456037930956 L -74.01661840078305,40.71275615002967 L -74.01654112171731,40.71295556481935 L -74.01639169485816,40.713099997950714 L -74.01632006627581,40.71340798247826 L -74.01754443334657,40.713611222664234 L -74.01767041664053,40.71306920796509 L -74.01772496219296,40.71307018162271 L -74.01671018605823,40.71862417605798 L -74.01662996338192,40.71866536845022 L -74.01500060682412,40.718449236054994 L -74.0149451554934,40.71854353507714 L -74.01321322719193,40.71831571989578 L -74.01306805492318,40.7189221938255 L -74.01290892764027,40.71973485220903 L -74.01345505633182,40.7198017074262 L -74.01341376512872,40.720019482014195 L -74.01557364096601,40.72024329446479 L -74.01571378469986,40.72027067476562 L -74.01571300965792,40.72030343624445 L -74.01637848291469,40.72037660832828 L -74.0163057334285,40.720727020540686 L -74.01299980679079,40.72033309075003 L -74.01289730270861,40.720868045473225 L -74.01569471973286,40.72120642487527 L -74.01562245781948,40.721543453673725 L -74.01316066673286,40.72125396319458 L -74.01311663311996,40.72147373453072 L -74.01363523640495,40.72151656113437 L -74.01361558335005,40.72158618255941 L -74.0131123731525,40.72150992079825 L -74.0131037691494,40.72155459547117 L -74.01253875807262,40.721503176576356 L -74.01165326569942,40.72587176185136 L -74.01195833074844,40.72597759972089 L -74.01231588417473,40.72603384328536 L -74.01516324118423,40.72631971193679 L -74.01520426531143,40.72636194937957 L -74.01512356549462,40.72679394256454 L -74.01154201897604,40.726447346927074 L -74.01138323604756,40.72822927236716 L -74.01439069932388,40.72846304752011 L -74.01408693559918,40.730663173040305 L -74.01403796924798,40.73069421884388 L -74.01116195696476,40.73045067634904 L -74.01094118226757,40.7330077637719 L -74.01400220214607,40.73306800179544 L -74.01399957240966,40.73333227751771 L -74.01090389883285,40.733297617139556 L -74.0108984071244,40.73335120737597 L -74.01079577998756,40.73337543233555 L -74.01073424451566,40.73344258793936 L -74.01075758221931,40.733543538658786 L -74.01086654686934,40.73360273801681 L -74.01083284563221,40.73400709451357 L -74.01201792010474,40.734063744456314 L -74.01200124222402,40.73433840166875 L -74.01081359479109,40.73428344364758 L -74.0106429201788,40.73604869770487 L -74.01073180968531,40.736204167147676 L -74.01065421033896,40.73634774524588 L -74.01061910077432,40.73634539072178 L -74.0104765981442,40.73806394059505 L -74.0110870663595,40.73809275008128 L -74.01106791934328,40.73830409617404 L -74.01113915602562,40.73838986281303 L -74.01045432864609,40.738364506228145 L -74.01039303134554,40.73917429605917 L -74.01138798406559,40.739216056088615 L -74.01158045502316,40.73926453611201 L -74.01158715816634,40.739478870334786 L -74.01163351895192,40.739506486066105 L -74.01162792311777,40.73956247410615 L -74.01155518156285,40.7395567262273 L -74.0114607395534,40.7405842147525 L -74.01215741913089,40.74060599813125 L -74.01215372624051,40.7406742566207 L -74.01265742489994,40.74069665223178 L -74.0126592820849,40.74074763849743 L -74.00963145571754,40.74064536737425 L -74.00949154621281,40.74074270943977 L -74.00951844195933,40.74080572291691 L -74.00941140266131,40.74115409331285 L -74.0095813182218,40.74117496028479 L -74.00957692791619,40.74121065665437 L -74.01216232909218,40.74149188968263 L -74.01211745872139,40.74175851621158 L -74.00951947145009,40.741490302198585 L -74.00944784072519,40.74189159122016 L -74.00927792756075,40.74187861085614 L -74.009091568462,40.74288614957493 L -74.00962015348921,40.74295124889232 L -74.00958464345703,40.743263520483055 L -74.0121194002866,40.743516612182546 L -74.01214813183593,40.74355930154751 L -74.0120900828903,40.74389763764885 L -74.01202085006399,40.74393977020883 L -74.00951201767367,40.74367609376027 L -74.00943800870873,40.74397125597563 L -74.00890032962842,40.743917927096 L -74.00872986359421,40.74488153782964 L -74.00961227924414,40.74499790315053 L -74.00955832929749,40.745288825298694 L -74.00991660813456,40.74532725500707 L -74.00999822601715,40.744955059302086 L -74.0098721108548,40.74491650212574 L -74.01016790535392,40.744942329709566 L -74.01003848384612,40.74496345807816 L -74.0099739502192,40.7453231351092 L -74.01046920011868,40.745386766028986 L -74.01055044755898,40.74501305771002 L -74.01041937209395,40.74497682467362 L -74.01076419780692,40.74500503202078 L -74.01058579200931,40.74502044656155 L -74.01053106537704,40.74538205038946 L -74.01110359804885,40.74544767024394 L -74.01117183119825,40.74507825828334 L -74.01104459150831,40.74504621240201 L -74.01138769974182,40.745073112682604 L -74.01123038057239,40.74507583116526 L -74.0111541917691,40.745446378083905 L -74.01173958552815,40.74551991819018 L -74.01179527645735,40.74515466698498 L -74.01167067583806,40.74511397784239 L -74.01183642872417,40.745125963678724 L -74.0117827582809,40.7456015722554 L -74.01167885505596,40.745979461815956 L -74.01055524902252,40.745871104925456 L -74.01055133475727,40.745902883999676 L -74.00946389855972,40.74575014365943 L -74.0093636273423,40.74633560197722 L -74.01159123434022,40.74660150547595 L -74.01153307246702,40.74696682694798 L -74.01148373087554,40.74699058876525 L -74.00924314658675,40.74676279075371 L -74.00913736259926,40.74735976280298 L -74.00956047962374,40.74740279960452 L -74.00955155415365,40.74733934176788 L -74.00996384996873,40.74737780301252 L -74.00990158912964,40.7474384843489 L -74.01135675337726,40.74759241834679 L -74.01140673935527,40.747630550570626 L -74.01134693158467,40.74797620549259 L -74.0113035299375,40.74801457190888 L -74.00905847901343,40.74778564533281 L -74.00894606502322,40.74841189316871 L -74.00941511636567,40.748429586917254 L -74.0095188236012,40.74847354043593 L -74.01121561813416,40.74867799224354 L -74.01114914281891,40.74902574726487 L -74.01110891182995,40.74904987642216 L -74.0099481793803,40.74893198800568 L -74.00951808686516,40.75010700478142 L -74.00925340917924,40.74998520622449 L -74.00910453215725,40.75037106973032 L -74.01067737532622,40.75102267497947 L -74.01056463476439,40.7513214621013 L -74.00900098259454,40.75064818378257 L -74.00870618650585,40.75142680500331 L -74.00873137829981,40.75146589496972 L -74.00853256925024,40.75188360930431 L -74.00914082120002,40.752097594099034 L -74.00865115936804,40.75193951211305 L -74.00910757975159,40.75213971211182 L -74.00905774009662,40.752214351243175 L -74.00892887650475,40.75214400187017 L -74.00858095760466,40.7520438824116 L -74.0093408924528,40.75235560954554 L -74.008478955728,40.75201857191988 L -74.00842636447226,40.75215785023924 L -74.0099905581975,40.75281618714907 L -74.00992010631799,40.75291212601697 L -74.00997058797022,40.752933564153146 L -74.00991916275493,40.75300359145921 L -74.00978913116427,40.75294837008768 L -74.00988774868318,40.752814077653284 L -74.00879210090847,40.7523521383795 L -74.00868792219572,40.75249399862839 L -74.00835352838843,40.75235073934231 L -74.00761949611858,40.75428184227666 L -74.0077440483022,40.754336802434274 L -74.00759618989146,40.75453055073416 L -74.00747157990926,40.75447702042384 L -74.00728499944323,40.75473556820313 L -74.00741362036906,40.75478930266942 L -74.00727181174769,40.75498559453522 L -74.00714468360972,40.75493248117341 L -74.00541885841011,40.757323140851746 L -74.00521187705773,40.7572319985399 L -74.00480392560185,40.757809843164694 L -74.00527894797891,40.758028554928245 L -74.0050310513664,40.75835701647313 L -74.0069642874931,40.75916005756161 L -74.00700358904015,40.75923187034106 L -74.00650687640183,40.75989203231718 L -74.00450483093914,40.759084996552694 L -74.00420629125391,40.75950170768838 L -74.00390742032769,40.75937569218349 L -74.00380657835007,40.75951073146599 L -74.00424697128062,40.75969921417139 L -74.00414863814689,40.759835914170765 L -74.00431889425076,40.75991068576342 L -74.00426869650668,40.759959279013316 L -74.00413171622799,40.75986164239601 L -74.00411162007795,40.7598930073072 L -74.00366891453541,40.75970596957658 L -74.00357251040076,40.75984655897313 L -74.00392854933564,40.760003019720415 L -74.00313338991401,40.761078345096294 L -74.00278691552613,40.76092896970333 L -74.00233528130057,40.761543727001616 L -74.00455641560922,40.76252426502506 L -74.00444951527277,40.762664567199984 L -74.00439976203518,40.76267135909881 L -74.0022008207327,40.76172843222647 L -74.00153309066981,40.76264459812759 L -74.00375735037694,40.76358224164056 L -74.00361214794175,40.76377704390973 L -74.001386036986,40.76285009500188 L -74.00097308022016,40.76342027172565 L -74.00314976988992,40.76433288818462 L -74.00294809515725,40.76461683643389 L -74.00306161234066,40.76466578265342 L -74.00316194577044,40.76461261045461 L -74.00322275585363,40.76463803767021 L -74.00314652966799,40.764736281383676 L -74.0030889801569,40.764744381986766 L -73.99992712367728,40.76340652847935 L -73.99962263458187,40.76355908121045 L -73.99915098087908,40.764205259582695 L -74.00228802371483,40.765561544297775 L -74.00202454330335,40.76589326657038 L -73.99888473174988,40.764569377048495 L -73.99857638530538,40.76499860727076 L -73.99868637477219,40.765137394267754 L -73.99868870694561,40.76520857044983 L -73.99843830371466,40.76531621383388 L -73.9982709030835,40.76555223341325 L -74.00154217871203,40.76694470253266 L -74.0015618057548,40.766996499368275 L -74.00139437159497,40.76723004773301 L -74.00131469636004,40.76725112004994 L -73.99806675905354,40.76587188113568 L -73.99737808447964,40.766823386379535 L -74.00062837395305,40.768203111058696 L -74.00064950530418,40.768245236105564 L -74.00045489336716,40.76850419517743 L -74.00038586489076,40.768504195429294 L -73.99715588949212,40.76712869617279 L -73.9964571540504,40.768098815795625 L -73.99973590247853,40.76950617733153 L -73.99955518930786,40.769750807740046 L -73.99947253734024,40.76976421496914 L -73.99707176039311,40.76873264357685 L -73.99702628821073,40.76879551562383 L -73.99715035477146,40.7688473877134 L -73.99701071413826,40.76902879065363 L -73.9968931131237,40.76897962881943 L -73.99657126439577,40.769424568273834 L -73.99902682832902,40.77046327298206 L -73.99876206914315,40.770825056709214 L -73.99631327022085,40.76979883633641 L -73.99588004351688,40.77040057901225 L -73.99601693196199,40.77045484888618 L -73.99590077425034,40.77061312350094 L -73.99576733283615,40.77055459645644 L -73.99542474436302,40.77103161516796 L -73.99575648212901,40.77116066846579 L -73.9957085906995,40.771225812532926 L -73.99579774020454,40.77128256276406 L -73.99600175749052,40.77130746533056 L -73.99589990100937,40.771450298582096 L -73.99585437252811,40.77149918074846 L -73.99579117748779,40.7714755188204 L -73.99582805886243,40.77142166722239 L -73.99572993314408,40.77137881879372 L -73.99575123412824,40.77135428277978 L -73.99530566365357,40.7711960049095 L -73.99512395556886,40.77145073826707 L -73.99493501659005,40.77146814657798 L -73.99492582120637,40.77151604240548 L -73.99500915438725,40.77160733994413 L -73.9949768849473,40.77165877492332 L -73.99707328169316,40.772542868399356 L -73.9968729144914,40.77281748122857 L -73.99477407930823,40.77192954753019 L -73.99444501293384,40.772377126588324 L -73.99622972001936,40.77312897504531 L -73.99612087994667,40.77327539109299 L -73.99434191991621,40.772524781943424 L -73.994163284563,40.772487191523865 L -73.99383108203092,40.772931787850645 L -73.99396258551457,40.77294465390892 L -73.99401262480508,40.7728828466319 L -73.99413665258861,40.77290187017426 L -73.99437655275096,40.77303955110136 L -73.99429402982382,40.77315624399181 L -73.99502327586075,40.77348119657617 L -73.99508939189286,40.773388475039134 L -73.99501396371674,40.77335803542693 L -73.99505028469918,40.77329715318986 L -73.9962406518988,40.77378979139767 L -73.99619583747098,40.77385235618407 L -73.99610846880843,40.77381631601507 L -73.99606316808179,40.773886886610065 L -73.99617945997379,40.77398695435152 L -73.99609524522621,40.77408618643762 L -73.9939369418221,40.77317951096689 L -73.99376791399207,40.773483994507764 L -73.99341175671518,40.7738026124239 L -73.99262266386542,40.774974056036925 L -73.99240383719187,40.77501814039067 L -73.99226708903541,40.77511603385854 L -73.99205908493715,40.77549759819226 L -73.9923293466088,40.77546890095852 L -73.99238604296028,40.775557180424634 L -73.99092717414969,40.77756687876296 L -73.99039616003651,40.777585065679055 L -73.98886861740003,40.779692922911416 L -73.98940905418013,40.77973770647197 L -73.98975270293793,40.77967124421157 L -73.99004010212047,40.77970767769822 L -73.99096167222436,40.77963968375176 L -73.99124281740445,40.77967136708451 L -73.99135945556941,40.7795858833374 L -73.99155105922739,40.77957482143735 L -73.99141982585964,40.779755280287034 L -73.98888614411696,40.77987889853273 L -73.98893965670626,40.779956178440415 L -73.98891926146842,40.780226094343675 L -73.98821042083165,40.78122548254207 L -73.98804128806715,40.781585961353784 L -73.98810029382462,40.781602878305286 L -73.98807644914505,40.781650935001615 L -73.98801805997222,40.78163418881045 L -73.98791968459248,40.78183347771323 L -73.98546581197026,40.78536070057545 L -73.98617270496545,40.78606845225869 L -73.98645586240198,40.7859192190814 L -73.98707234561559,40.78518963882012 L -73.98711901394256,40.7852103190041 L -73.98649778102359,40.78595120288727 L -73.98616462880626,40.786121882448334 L -73.98612842248589,40.78623900133113 L -73.98602727478912,40.78622896423673 L -73.98609763784941,40.78605822569795 L -73.98542932126942,40.78541394218464 L -73.98508113773205,40.78592193511045 L -73.98519883325449,40.78596655219777 L -73.98517050238989,40.78601333415815 L -73.98521621867364,40.786030501816406 L -73.98524962933016,40.78596313985584 L -73.98528177918674,40.78597862095007 L -73.98524003288452,40.78603585813679 L -73.98568388524217,40.786222123919686 L -73.98571752900456,40.786175994668795 L -73.98576566029752,40.78619627485863 L -73.98568287192252,40.78630978621315 L -73.98563627093043,40.78629015064927 L -73.98567072256466,40.78624291199381 L -73.98516263994699,40.786020999769754 L -73.98513163631205,40.78606029701998 L -73.98501696406495,40.78601423719566 L -73.98465507883023,40.786534741807955 L -73.98574378790103,40.78657008285474 L -73.98589227228327,40.78642652901957 L -73.98594956155658,40.786487113966515 L -73.98581237352651,40.7866168653571 L -73.9846194285841,40.78658601634983 L -73.980537679464,40.79245681262499 L -73.97628527884254,40.79843523541007 L -73.97578169321191,40.7991562567803 L -73.97576219486481,40.79926017354929 L -73.97372060455763,40.802167815280235 L -73.97320518045738,40.80283005827629 L -73.97205095521868,40.804530376010035 L -73.97181849483543,40.8047175432045 L -73.9716111339144,40.80509618747434 L -73.97110765852283,40.80579014017928 L -73.96885218645302,40.80875198661713 L -73.968557477712,40.80907289432357 L -73.96842473507036,40.80939406033301 L -73.96762038824613,40.81058485039434 L -73.96740185312369,40.811022155397104 L -73.96510784267431,40.814275476532295 L -73.96414082888299,40.81577165745391 L -73.9634039510228,40.81668419794027 L -73.96203105795962,40.818086331481744 L -73.95999892229345,40.82038294480229 L -73.95981462674526,40.82029787520395 L -73.95913061580629,40.821168953774745 L -73.95926255403742,40.821235655358585 L -73.95930263598677,40.82118989752305 L -73.95942624349648,40.82125238173795 L -73.95914685715192,40.82157132855097 L -73.95903294155774,40.82151374622849 L -73.95923467193995,40.82127782527041 L -73.9590896024009,40.821206247055926 L -73.95881892233997,40.82151852484675 L -73.9589417294171,40.821569364009555 L -73.958745236605,40.821805511973615 L -73.95900018289892,40.822409728374346 L -73.95911304024106,40.822454964645544 L -73.95922976213465,40.82228691013231 L -73.95990999444398,40.822571119821994 L -73.9596033246028,40.822994686783325 L -73.95892614718302,40.822711755441325 L -73.95904953331708,40.822541335368236 L -73.95886745433307,40.822450239228054 L -73.95864585147658,40.821904369631746 L -73.95852731524258,40.82184375665212 L -73.95820019354012,40.822283136918095 L -73.95813063305532,40.82253109146093 L -73.95793904909121,40.82277435354728 L -73.95822838183035,40.822887867100874 L -73.95814312769203,40.82302072227144 L -73.95948269766957,40.823578652665624 L -73.95955575493863,40.82369379776878 L -73.95725896977147,40.827117309873074 L -73.95694866420469,40.827000553935 L -73.9563178451031,40.827944215388555 L -73.95620054528383,40.8279012265975 L -73.9562239436024,40.8278700873914 L -73.95503912978396,40.82741343191187 L -73.954697366195,40.8279183855142 L -73.95454188062128,40.827861476365506 L -73.95359128626792,40.829097720648726 L -73.95218597296554,40.83127711791911 L -73.95119183012169,40.83263915178242 L -73.950865127052,40.83343412062761 L -73.95056874248017,40.8337885185295 L -73.9504179493977,40.83408579839553 L -73.95021218560015,40.83430311995834 L -73.94974257886045,40.835628087824865 L -73.94968634744758,40.836109863324936 L -73.94962137643168,40.836232103601 L -73.94954600729373,40.836604371501785 L -73.94945701919954,40.83670561947372 L -73.94928285089011,40.83674078656326 L -73.94949739936226,40.83681498148947 L -73.94954210504446,40.83687963242823 L -73.94892891168685,40.838643426286076 L -73.94842860791512,40.83986085465321 L -73.94823352622095,40.84011759626999 L -73.94738322154222,40.84194082630445 L -73.9471678822236,40.84215909904336 L -73.94693502862766,40.842619198509325 L -73.94645858066572,40.843254384265975 L -73.94612416421772,40.84389249655713 L -73.94607880557088,40.844597670328326 L -73.94616086907159,40.84512582705782 L -73.94622271166769,40.84525916634127 L -73.94617174983877,40.84539289158064 L -73.94627664957972,40.845690659918404 L -73.94646620992474,40.845881260909486 L -73.94647950512866,40.84591977807308 L -73.9464454448152,40.845921488093005 L -73.94651730200577,40.84599518440372 L -73.94634839459356,40.846156448606806 L -73.94635078049936,40.84624033128926 L -73.94647353057917,40.84652861816344 L -73.94664058210431,40.84668489453905 L -73.94671767879176,40.84682475824715 L -73.94682445342644,40.84713426206979 L -73.9468093526662,40.847288446637464 L -73.94669858704917,40.84749739387238 L -73.9466405820579,40.84793929215048 L -73.94661949998888,40.848278425911936 L -73.94667853765395,40.848837459092984 L -73.94663550012669,40.848912425059694 L -73.94673313406388,40.8492674972145 L -73.94685525004355,40.84942768019964 L -73.9468547984757,40.84953947126497 L -73.94699578658114,40.849955924292225 L -73.94695814474186,40.8499852594492 L -73.94702782494721,40.85004183181244 L -73.94695342915082,40.85009773522208 L -73.94701781699507,40.850126995982684 L -73.94704980259193,40.85022334922836 L -73.94696441759594,40.85046552581819 L -73.9465022945861,40.8509756661113 L -73.94637201017785,40.85096981801796 L -73.94632077412027,40.85092325667692 L -73.94635218637764,40.85086996465726 L -73.94627501496664,40.85084097767555 L -73.94617304480114,40.850957954988246 L -73.94620078322082,40.851031488105356 L -73.94615819227633,40.85104728646894 L -73.94611976648,40.85096875414158 L -73.94608190501069,40.85098071488103 L -73.94614159383454,40.85109369997018 L -73.94611744105153,40.85117258301969 L -73.94576726165661,40.851169465154584 L -73.9457280636197,40.85122777318985 L -73.94565283626412,40.851211098341196 L -73.94544903734403,40.8514276592095 L -73.94525311095308,40.85149188685126 L -73.9452664099904,40.85157102905374 L -73.94515355659357,40.85158648460704 L -73.94497798395632,40.85173164800292 L -73.94469380703813,40.85182409376919 L -73.94466721178104,40.85192122650932 L -73.94450381945983,40.851957079452596 L -73.94450515512598,40.85188989851205 L -73.94442232659368,40.85190470473123 L -73.94432518482476,40.85182257643861 L -73.9442107380319,40.85192965572931 L -73.94419660781348,40.85201534181584 L -73.94401323950726,40.85199984366438 L -73.9439599164944,40.85211884132046 L -73.94388153574954,40.85217237720744 L -73.94347978545626,40.85228188294709 L -73.9430264437118,40.85262617787097 L -73.94247365925733,40.85317127831178 L -73.94186996426673,40.8538677394428 L -73.94099928999186,40.855358618938595 L -73.94095704472414,40.85552033439451 L -73.94085539855494,40.85562183077844 L -73.9407462171037,40.85584744692037 L -73.94069419380095,40.85585306606017 L -73.9404883126927,40.856204628822674 L -73.9402934749712,40.856641770657596 L -73.9399488067714,40.8570666142561 L -73.93968482410261,40.85728932103599 L -73.93911094164396,40.85804091122572 L -73.93891471443509,40.85840693742321 L -73.93843728791872,40.859073362121144 L -73.93830957434292,40.85938052360812 L -73.9375294417256,40.86009664128202 L -73.93758716318418,40.860149540326596 L -73.93758054206499,40.8602032066512 L -73.93713577511515,40.86078363669961 L -73.93704223142183,40.86105753297891 L -73.93681096972902,40.861258023749826 L -73.93681045449254,40.86136346605994 L -73.93647561664896,40.86192659117072 L -73.93559460797825,40.86296505185206 L -73.93443446851109,40.86450373173379 L -73.93435568513524,40.86473290706838 L -73.93401664426698,40.86503554829161 L -73.93401648524471,40.86519581766668 L -73.93395001711579,40.865346746209845 L -73.93378916436356,40.865428634268504 L -73.93357158007582,40.86576675094427 L -73.93357396122035,40.8658412955387 L -73.933436350697,40.86598658199531 L -73.93340182700804,40.86613564683989 L -73.93332317557568,40.86623809501417 L -73.93325688879918,40.866241784580986 L -73.93313150185674,40.86642621378956 L -73.93266332721463,40.867237066436985 L -73.93290171891769,40.86729304389968 L -73.93283958205063,40.8674152769114 L -73.93259794852806,40.867311349670395 L -73.93242538215341,40.86756824842365 L -73.93226769826255,40.86856231897237 L -73.93249214298582,40.868677519662256 L -73.93265083512807,40.86846503348188 L -73.93252354560038,40.86872207835891 L -73.93230597278854,40.86862923954234 L -73.93225031754949,40.86863950937264 L -73.93225427749157,40.868683398855495 L -73.9323138544823,40.868923720343716 L -73.9325689548274,40.868979403716494 L -73.93256795169879,40.86904439147383 L -73.93250469803147,40.869129558665186 L -73.93229327689868,40.86919950194224 L -73.93218903826079,40.86936697638908 L -73.93246883069908,40.86947609938698 L -73.93235370807277,40.86975525529659 L -73.93226581636975,40.86973477164005 L -73.93235934466003,40.86950736321936 L -73.9321333660305,40.86941597544099 L -73.9320534384771,40.86960075074436 L -73.93209566102911,40.86975965114523 L -73.93219855115137,40.86984487074345 L -73.93220600531866,40.870096445104444 L -73.9319137713681,40.87112949372273 L -73.93146821139365,40.871797716206544 L -73.93137655898947,40.87210862736062 L -73.931062541996,40.87266680652871 L -73.93084511434458,40.87288717030783 L -73.92997686743148,40.874338962330384 L -73.92986215062565,40.87441844152513 L -73.92917968255969,40.87555554896637 L -73.92901345809736,40.875738660592674 L -73.9281462360357,40.876522528943944 L -73.9279659464347,40.876617685376516 L -73.92753082127489,40.876710534812986 L -73.92689940502446,40.87721663393206 L -73.92653096278372,40.87758369178248 L -73.92640556921116,40.87762147653734 z\" /><path fill-rule=\"evenodd\" fill=\"#66cc99\" stroke=\"#555555\" stroke-width=\"0.004236215800221288\" opacity=\"0.6\" d=\"M -73.92359742020388,40.878898712992644 L -73.92363695289222,40.87881535593209 L -73.92367919311681,40.878826074498626 L -73.92362973950414,40.878963943243285 L -73.92359172553134,40.87895215933268 L -73.92359742020388,40.878898712992644 z\" /><path fill-rule=\"evenodd\" fill=\"#66cc99\" stroke=\"#555555\" stroke-width=\"0.004236215800221288\" opacity=\"0.6\" d=\"M -73.90665099539478,40.8757525041926 L -73.90691694520311,40.87505586276135 L -73.90708792684956,40.874325983406166 L -73.90746489794311,40.87354735423639 L -73.90774270784561,40.872845952111575 L -73.90846367912539,40.872620791704556 L -73.9087204639138,40.87222866558932 L -73.90893235241587,40.87215734797062 L -73.90927114033464,40.87266299598009 L -73.90971690006448,40.87320461141706 L -73.910355139436,40.87377785530868 L -73.91092118009641,40.874146396040096 L -73.91148428295614,40.87441792110014 L -73.9119466300746,40.87457702125157 L -73.91578515638106,40.87571694506481 L -73.91484624156381,40.87666671027648 L -73.9120583003024,40.87811932004863 L -73.91148913190445,40.87901885880953 L -73.91033193566423,40.87903804730722 L -73.90949832117468,40.87877673218171 L -73.90765281705261,40.87742802285939 L -73.90703748936642,40.87689516121064 L -73.90682822856839,40.87663155188877 L -73.90665099539478,40.8757525041926 z\" /></g></g></svg>"
      ],
      "text/plain": [
       "<shapely.geometry.multipolygon.MultiPolygon at 0x23f18945808>"
      ]
     },
     "execution_count": 125,
     "metadata": {},
     "output_type": "execute_result"
    }
   ],
   "source": [
    "shape_1_simple"
   ]
  },
  {
   "cell_type": "code",
   "execution_count": null,
   "metadata": {},
   "outputs": [],
   "source": []
  }
 ],
 "metadata": {
  "kernelspec": {
   "display_name": "Python 3",
   "language": "python",
   "name": "python3"
  },
  "language_info": {
   "codemirror_mode": {
    "name": "ipython",
    "version": 3
   },
   "file_extension": ".py",
   "mimetype": "text/x-python",
   "name": "python",
   "nbconvert_exporter": "python",
   "pygments_lexer": "ipython3",
   "version": "3.7.4"
  }
 },
 "nbformat": 4,
 "nbformat_minor": 2
}
