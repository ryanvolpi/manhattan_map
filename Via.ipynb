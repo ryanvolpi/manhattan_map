{
 "cells": [
  {
   "cell_type": "code",
   "execution_count": 2,
   "metadata": {},
   "outputs": [
    {
     "data": {
      "text/plain": [
       "16"
      ]
     },
     "execution_count": 2,
     "metadata": {},
     "output_type": "execute_result"
    }
   ],
   "source": []
  },
  {
   "cell_type": "code",
   "execution_count": 1,
   "metadata": {},
   "outputs": [],
   "source": []
  },
  {
   "cell_type": "code",
   "execution_count": null,
   "metadata": {},
   "outputs": [],
   "source": [
    "pool.map(solve, [1,2,3,4,5,6,7,8,9,10])"
   ]
  },
  {
   "cell_type": "code",
   "execution_count": null,
   "metadata": {},
   "outputs": [],
   "source": [
    "import pyblaze.multiprocessing as xmp\n",
    "\n",
    "def parallel(texts):\n",
    "    tokenizer = xmp.Vectorizer(tokenize, num_workers=4)\n",
    "    return tokenizer.process(texts)"
   ]
  },
  {
   "cell_type": "code",
   "execution_count": 72,
   "metadata": {},
   "outputs": [],
   "source": [
    "import pandas as pd\n",
    "import os\n",
    "from datetime import datetime, timedelta\n",
    "import pickle\n",
    "from dask import dataframe\n",
    "#import dask\n",
    "#from dask.distributed import Client\n",
    "#client = Client(n_workers=1, threads_per_worker=4, processes=False, memory_limit='6GB')\n",
    "#client"
   ]
  },
  {
   "cell_type": "code",
   "execution_count": 65,
   "metadata": {},
   "outputs": [],
   "source": [
    "df = pd.read_csv(os.path.join('data','yellow_tripdata_2016-06.csv'), parse_dates=['tpep_dropoff_datetime','tpep_pickup_datetime'])"
   ]
  },
  {
   "cell_type": "code",
   "execution_count": 80,
   "metadata": {},
   "outputs": [
    {
     "data": {
      "text/plain": [
       "0.000000     30520\n",
       "40.774120      780\n",
       "40.774109      739\n",
       "40.774158      734\n",
       "40.774139      699\n",
       "             ...  \n",
       "40.837753        1\n",
       "40.851990        1\n",
       "40.879028        1\n",
       "40.635666        1\n",
       "40.651424        1\n",
       "Name: pickup_latitude, Length: 49063, dtype: int64"
      ]
     },
     "execution_count": 80,
     "metadata": {},
     "output_type": "execute_result"
    }
   ],
   "source": [
    "df['pickup_latitude'].value_counts()"
   ]
  },
  {
   "cell_type": "code",
   "execution_count": 66,
   "metadata": {},
   "outputs": [
    {
     "name": "stdout",
     "output_type": "stream",
     "text": [
      "Num rows in df reduced from 11135470 to 2624066 \n"
     ]
    }
   ],
   "source": []
  },
  {
   "cell_type": "code",
   "execution_count": 67,
   "metadata": {},
   "outputs": [
    {
     "data": {
      "text/html": [
       "<div>\n",
       "<style scoped>\n",
       "    .dataframe tbody tr th:only-of-type {\n",
       "        vertical-align: middle;\n",
       "    }\n",
       "\n",
       "    .dataframe tbody tr th {\n",
       "        vertical-align: top;\n",
       "    }\n",
       "\n",
       "    .dataframe thead th {\n",
       "        text-align: right;\n",
       "    }\n",
       "</style>\n",
       "<table border=\"1\" class=\"dataframe\">\n",
       "  <thead>\n",
       "    <tr style=\"text-align: right;\">\n",
       "      <th></th>\n",
       "      <th>VendorID</th>\n",
       "      <th>tpep_pickup_datetime</th>\n",
       "      <th>tpep_dropoff_datetime</th>\n",
       "      <th>passenger_count</th>\n",
       "      <th>trip_distance</th>\n",
       "      <th>pickup_longitude</th>\n",
       "      <th>pickup_latitude</th>\n",
       "      <th>RatecodeID</th>\n",
       "      <th>store_and_fwd_flag</th>\n",
       "      <th>dropoff_longitude</th>\n",
       "      <th>dropoff_latitude</th>\n",
       "      <th>payment_type</th>\n",
       "      <th>fare_amount</th>\n",
       "      <th>extra</th>\n",
       "      <th>mta_tax</th>\n",
       "      <th>tip_amount</th>\n",
       "      <th>tolls_amount</th>\n",
       "      <th>improvement_surcharge</th>\n",
       "      <th>total_amount</th>\n",
       "      <th>duration_minutes</th>\n",
       "    </tr>\n",
       "  </thead>\n",
       "  <tbody>\n",
       "    <tr>\n",
       "      <th>3029890</th>\n",
       "      <td>1</td>\n",
       "      <td>2016-06-06 18:51:36</td>\n",
       "      <td>2016-06-06 19:09:14</td>\n",
       "      <td>1</td>\n",
       "      <td>2.90</td>\n",
       "      <td>-74.002792</td>\n",
       "      <td>40.760544</td>\n",
       "      <td>1</td>\n",
       "      <td>N</td>\n",
       "      <td>-74.003464</td>\n",
       "      <td>40.723938</td>\n",
       "      <td>1</td>\n",
       "      <td>14.5</td>\n",
       "      <td>1.0</td>\n",
       "      <td>0.5</td>\n",
       "      <td>3.25</td>\n",
       "      <td>0.0</td>\n",
       "      <td>0.3</td>\n",
       "      <td>19.55</td>\n",
       "      <td>17.633333</td>\n",
       "    </tr>\n",
       "    <tr>\n",
       "      <th>2178836</th>\n",
       "      <td>2</td>\n",
       "      <td>2016-06-10 12:37:19</td>\n",
       "      <td>2016-06-10 12:53:55</td>\n",
       "      <td>1</td>\n",
       "      <td>1.07</td>\n",
       "      <td>-73.965576</td>\n",
       "      <td>40.771500</td>\n",
       "      <td>1</td>\n",
       "      <td>N</td>\n",
       "      <td>-73.955780</td>\n",
       "      <td>40.784916</td>\n",
       "      <td>2</td>\n",
       "      <td>10.5</td>\n",
       "      <td>0.0</td>\n",
       "      <td>0.5</td>\n",
       "      <td>0.00</td>\n",
       "      <td>0.0</td>\n",
       "      <td>0.3</td>\n",
       "      <td>11.30</td>\n",
       "      <td>16.600000</td>\n",
       "    </tr>\n",
       "    <tr>\n",
       "      <th>3808832</th>\n",
       "      <td>1</td>\n",
       "      <td>2016-06-08 15:49:04</td>\n",
       "      <td>2016-06-08 15:54:34</td>\n",
       "      <td>1</td>\n",
       "      <td>1.30</td>\n",
       "      <td>-73.953918</td>\n",
       "      <td>40.778458</td>\n",
       "      <td>1</td>\n",
       "      <td>N</td>\n",
       "      <td>-73.942307</td>\n",
       "      <td>40.789738</td>\n",
       "      <td>1</td>\n",
       "      <td>6.5</td>\n",
       "      <td>1.0</td>\n",
       "      <td>0.5</td>\n",
       "      <td>1.70</td>\n",
       "      <td>0.0</td>\n",
       "      <td>0.3</td>\n",
       "      <td>10.00</td>\n",
       "      <td>5.500000</td>\n",
       "    </tr>\n",
       "  </tbody>\n",
       "</table>\n",
       "</div>"
      ],
      "text/plain": [
       "         VendorID tpep_pickup_datetime tpep_dropoff_datetime  passenger_count  \\\n",
       "3029890         1  2016-06-06 18:51:36   2016-06-06 19:09:14                1   \n",
       "2178836         2  2016-06-10 12:37:19   2016-06-10 12:53:55                1   \n",
       "3808832         1  2016-06-08 15:49:04   2016-06-08 15:54:34                1   \n",
       "\n",
       "         trip_distance  pickup_longitude  pickup_latitude  RatecodeID  \\\n",
       "3029890           2.90        -74.002792        40.760544           1   \n",
       "2178836           1.07        -73.965576        40.771500           1   \n",
       "3808832           1.30        -73.953918        40.778458           1   \n",
       "\n",
       "        store_and_fwd_flag  dropoff_longitude  dropoff_latitude  payment_type  \\\n",
       "3029890                  N         -74.003464         40.723938             1   \n",
       "2178836                  N         -73.955780         40.784916             2   \n",
       "3808832                  N         -73.942307         40.789738             1   \n",
       "\n",
       "         fare_amount  extra  mta_tax  tip_amount  tolls_amount  \\\n",
       "3029890         14.5    1.0      0.5        3.25           0.0   \n",
       "2178836         10.5    0.0      0.5        0.00           0.0   \n",
       "3808832          6.5    1.0      0.5        1.70           0.0   \n",
       "\n",
       "         improvement_surcharge  total_amount  duration_minutes  \n",
       "3029890                    0.3         19.55         17.633333  \n",
       "2178836                    0.3         11.30         16.600000  \n",
       "3808832                    0.3         10.00          5.500000  "
      ]
     },
     "execution_count": 67,
     "metadata": {},
     "output_type": "execute_result"
    }
   ],
   "source": [
    "df['duration_minutes'] = (df['tpep_dropoff_datetime']-df['tpep_pickup_datetime']).apply(lambda x: x.total_seconds()/60)\n",
    "df = df.sort_values(['tpep_pickup_datetime'])\n",
    "df['passenger_count'].fillna(2, inplace=True)\n",
    "df.sample(3)"
   ]
  },
  {
   "cell_type": "code",
   "execution_count": 73,
   "metadata": {},
   "outputs": [
    {
     "data": {
      "text/html": [
       "<div>\n",
       "<style scoped>\n",
       "    .dataframe tbody tr th:only-of-type {\n",
       "        vertical-align: middle;\n",
       "    }\n",
       "\n",
       "    .dataframe tbody tr th {\n",
       "        vertical-align: top;\n",
       "    }\n",
       "\n",
       "    .dataframe thead th {\n",
       "        text-align: right;\n",
       "    }\n",
       "</style>\n",
       "<table border=\"1\" class=\"dataframe\">\n",
       "  <thead>\n",
       "    <tr style=\"text-align: right;\">\n",
       "      <th></th>\n",
       "      <th>Shape_Leng</th>\n",
       "      <th>Shape_Area</th>\n",
       "      <th>zone</th>\n",
       "      <th>LocationID</th>\n",
       "      <th>borough</th>\n",
       "      <th>lon</th>\n",
       "      <th>lat</th>\n",
       "    </tr>\n",
       "    <tr>\n",
       "      <th>OBJECTID</th>\n",
       "      <th></th>\n",
       "      <th></th>\n",
       "      <th></th>\n",
       "      <th></th>\n",
       "      <th></th>\n",
       "      <th></th>\n",
       "      <th></th>\n",
       "    </tr>\n",
       "  </thead>\n",
       "  <tbody>\n",
       "    <tr>\n",
       "      <th>1</th>\n",
       "      <td>0.116357</td>\n",
       "      <td>0.000782</td>\n",
       "      <td>Newark Airport</td>\n",
       "      <td>1</td>\n",
       "      <td>EWR</td>\n",
       "      <td>9.359968e+05</td>\n",
       "      <td>191376.749531</td>\n",
       "    </tr>\n",
       "    <tr>\n",
       "      <th>2</th>\n",
       "      <td>0.433470</td>\n",
       "      <td>0.004866</td>\n",
       "      <td>Jamaica Bay</td>\n",
       "      <td>2</td>\n",
       "      <td>Queens</td>\n",
       "      <td>1.031086e+06</td>\n",
       "      <td>164018.754403</td>\n",
       "    </tr>\n",
       "    <tr>\n",
       "      <th>3</th>\n",
       "      <td>0.084341</td>\n",
       "      <td>0.000314</td>\n",
       "      <td>Allerton/Pelham Gardens</td>\n",
       "      <td>3</td>\n",
       "      <td>Bronx</td>\n",
       "      <td>1.026453e+06</td>\n",
       "      <td>254265.478659</td>\n",
       "    </tr>\n",
       "  </tbody>\n",
       "</table>\n",
       "</div>"
      ],
      "text/plain": [
       "          Shape_Leng  Shape_Area                     zone  LocationID borough  \\\n",
       "OBJECTID                                                                        \n",
       "1           0.116357    0.000782           Newark Airport           1     EWR   \n",
       "2           0.433470    0.004866              Jamaica Bay           2  Queens   \n",
       "3           0.084341    0.000314  Allerton/Pelham Gardens           3   Bronx   \n",
       "\n",
       "                   lon            lat  \n",
       "OBJECTID                               \n",
       "1         9.359968e+05  191376.749531  \n",
       "2         1.031086e+06  164018.754403  \n",
       "3         1.026453e+06  254265.478659  "
      ]
     },
     "execution_count": 73,
     "metadata": {},
     "output_type": "execute_result"
    }
   ],
   "source": [
    "# angle df\n",
    "angle_matrix = pd.read_csv('data/angle_matrix.csv', index_col='OBJECTID')\n",
    "angle_matrix.columns = angle_matrix.columns.astype(int)\n",
    "def apply_calculate_angle(row):\n",
    "    try:\n",
    "        return angle_matrix.loc[row['PULocationID'],row['DOLocationID']]\n",
    "    except:\n",
    "        return float(\"NaN\")\n",
    "# location df\n",
    "location_df = pd.read_csv('data/location_df.csv', index_col='OBJECTID')\n",
    "location_df.head(3)"
   ]
  },
  {
   "cell_type": "code",
   "execution_count": 74,
   "metadata": {},
   "outputs": [],
   "source": [
    "# Filter\n",
    "#Drop 0 or neg length trips\n",
    "#Drop 0 or neg length duration \n",
    "df = df[df['duration_minutes']>0]\n",
    "df = df[df['trip_distance']>0]\n",
    "#df['trip_distance_round'] = df['trip_distance'].round(2)\n",
    "\n",
    "df['hour'] = df['tpep_pickup_datetime'].dt.strftime('%Y-%m-%d-%H')\n",
    "df['direction'] = df.apply(apply_calculate_angle,axis=1)"
   ]
  },
  {
   "cell_type": "code",
   "execution_count": 8,
   "metadata": {},
   "outputs": [],
   "source": []
  },
  {
   "cell_type": "markdown",
   "metadata": {},
   "source": [
    "# Try Algorithm"
   ]
  },
  {
   "cell_type": "code",
   "execution_count": 44,
   "metadata": {},
   "outputs": [],
   "source": [
    "from functools import partial\n",
    "def angle_diff(a1, a2):\n",
    "    d_a = a1-a2\n",
    "    if d_a>180:\n",
    "        d_a -= 360\n",
    "    elif d_a<-180:\n",
    "        d_a += 360\n",
    "    return abs(d_a)"
   ]
  },
  {
   "cell_type": "code",
   "execution_count": 50,
   "metadata": {},
   "outputs": [],
   "source": [
    "def algorithm_A(_df, max_wait_mins=7, max_occupancy=6):\n",
    "    agg_rides = []\n",
    "    if len(_df.shape) == 1:\n",
    "        return 0\n",
    "    try:\n",
    "        df = _df.sort_values(by='tpep_pickup_datetime').copy()\n",
    "        #n_matches = 0\n",
    "        n_matches_list = []\n",
    "        while df.shape[0]>1:\n",
    "            agg_ride_dict = {f'ride_id_{i}':float(\"NaN\") for i in range(max_occupancy)}\n",
    "            i = df.index[0]\n",
    "            agg_ride_dict['ride_id_0'] = i\n",
    "            row = df.loc[i,:]\n",
    "            initial_passengers = row['passenger_count']\n",
    "            df.drop(index=i, inplace=True)\n",
    "            t0 = row['tpep_pickup_datetime']\n",
    "            delta_t = (df['tpep_pickup_datetime']-t0).dt.total_seconds()\n",
    "            matches = df[delta_t<(60*max_wait_mins)]\n",
    "            matches['cumulative_passengers'] = matches['passenger_count'].cumsum()\n",
    "            matches = matches[matches['cumulative_passengers']<=(max_occupancy-initial_passengers)]\n",
    "            #n_matches += matches.shape[0]\n",
    "            for i, idx in enumerate(matches.index):\n",
    "                agg_ride_dict[f'ride_id_{i+1}'] = idx\n",
    "            #n_matches_list.append(matches.shape[0])\n",
    "            df.drop(index=matches.index.values, inplace=True)\n",
    "            agg_rides.append(agg_ride_dict)\n",
    "    except Exception as e:\n",
    "        print(_df)\n",
    "        raise e\n",
    "    return pd.DataFrame(agg_rides)#n_matches_list\n",
    "\n",
    "def algorithm_B(_df, max_wait_mins=7, max_occupancy=6):\n",
    "    # same pickup location\n",
    "    agg_rides = []\n",
    "    if len(_df.shape) == 1:\n",
    "        return 0\n",
    "    try:\n",
    "        df = _df.sort_values(by='tpep_pickup_datetime').copy()\n",
    "        #n_matches = 0\n",
    "        n_matches_list = []\n",
    "        while df.shape[0]>1:\n",
    "            agg_ride_dict = {f'ride_id_{i}':float(\"NaN\") for i in range(max_occupancy)}\n",
    "            i = df.index[0]\n",
    "            agg_ride_dict['ride_id_0'] = i\n",
    "            row = df.loc[i,:]\n",
    "            df.drop(index=i, inplace=True)\n",
    "            # check capacity\n",
    "            initial_passengers = row['passenger_count']\n",
    "            if initial_passengers==max_occupancy:\n",
    "                continue\n",
    "            # Filter by pickup time\n",
    "            t0 = row['tpep_pickup_datetime']\n",
    "            delta_t = (df['tpep_pickup_datetime']-t0).dt.total_seconds()\n",
    "            matches = df[delta_t<(60*max_wait_mins)]\n",
    "            if matches.shape[0]==0:\n",
    "                continue\n",
    "            # Filter by angle\n",
    "            angle_diff_from_a = partial(angle_diff, a2=row['direction'])\n",
    "            angle_diffs = matches['direction'].apply(angle_diff_from_a)\n",
    "            #print(angle_diffs)\n",
    "            matches = matches[angle_diffs<45]\n",
    "            if matches.shape[0]==0:\n",
    "                continue\n",
    "            # Combine until full\n",
    "            matches['cumulative_passengers'] = matches['passenger_count'].cumsum()\n",
    "            matches = matches[matches['cumulative_passengers']<=(max_occupancy-initial_passengers)]\n",
    "            #n_matches += matches.shape[0]\n",
    "            for i, idx in enumerate(matches.index):\n",
    "                agg_ride_dict[f'ride_id_{i+1}'] = idx\n",
    "            #n_matches_list.append(matches.shape[0])\n",
    "            df.drop(index=matches.index.values, inplace=True)\n",
    "            agg_rides.append(agg_ride_dict)\n",
    "    except Exception as e:\n",
    "        #print(_df)\n",
    "        raise e\n",
    "    return pd.DataFrame(agg_rides)#n_matches_list\n"
   ]
  },
  {
   "cell_type": "code",
   "execution_count": 75,
   "metadata": {},
   "outputs": [],
   "source": [
    "df_sample = df.iloc[-100000:,:]\n",
    "ddf_sample = dataframe.from_pandas(df_sample, npartitions=32)"
   ]
  },
  {
   "cell_type": "code",
   "execution_count": 77,
   "metadata": {},
   "outputs": [
    {
     "data": {
      "text/html": [
       "<div>\n",
       "<style scoped>\n",
       "    .dataframe tbody tr th:only-of-type {\n",
       "        vertical-align: middle;\n",
       "    }\n",
       "\n",
       "    .dataframe tbody tr th {\n",
       "        vertical-align: top;\n",
       "    }\n",
       "\n",
       "    .dataframe thead th {\n",
       "        text-align: right;\n",
       "    }\n",
       "</style>\n",
       "<table border=\"1\" class=\"dataframe\">\n",
       "  <thead>\n",
       "    <tr style=\"text-align: right;\">\n",
       "      <th></th>\n",
       "      <th>VendorID</th>\n",
       "      <th>tpep_pickup_datetime</th>\n",
       "      <th>tpep_dropoff_datetime</th>\n",
       "      <th>passenger_count</th>\n",
       "      <th>trip_distance</th>\n",
       "      <th>pickup_longitude</th>\n",
       "      <th>pickup_latitude</th>\n",
       "      <th>RatecodeID</th>\n",
       "      <th>store_and_fwd_flag</th>\n",
       "      <th>dropoff_longitude</th>\n",
       "      <th>...</th>\n",
       "      <th>fare_amount</th>\n",
       "      <th>extra</th>\n",
       "      <th>mta_tax</th>\n",
       "      <th>tip_amount</th>\n",
       "      <th>tolls_amount</th>\n",
       "      <th>improvement_surcharge</th>\n",
       "      <th>total_amount</th>\n",
       "      <th>duration_minutes</th>\n",
       "      <th>hour</th>\n",
       "      <th>direction</th>\n",
       "    </tr>\n",
       "  </thead>\n",
       "  <tbody>\n",
       "    <tr>\n",
       "      <th>2128992</th>\n",
       "      <td>1</td>\n",
       "      <td>2016-06-06 00:00:00</td>\n",
       "      <td>2016-06-06 00:16:57</td>\n",
       "      <td>1</td>\n",
       "      <td>6.60</td>\n",
       "      <td>-73.946548</td>\n",
       "      <td>40.785099</td>\n",
       "      <td>1</td>\n",
       "      <td>N</td>\n",
       "      <td>-73.923866</td>\n",
       "      <td>...</td>\n",
       "      <td>20.0</td>\n",
       "      <td>0.5</td>\n",
       "      <td>0.5</td>\n",
       "      <td>0.00</td>\n",
       "      <td>0.0</td>\n",
       "      <td>0.3</td>\n",
       "      <td>21.30</td>\n",
       "      <td>16.950000</td>\n",
       "      <td>2016-06-06-00</td>\n",
       "      <td>NaN</td>\n",
       "    </tr>\n",
       "    <tr>\n",
       "      <th>2765158</th>\n",
       "      <td>2</td>\n",
       "      <td>2016-06-06 00:00:00</td>\n",
       "      <td>2016-06-06 18:07:49</td>\n",
       "      <td>1</td>\n",
       "      <td>2.02</td>\n",
       "      <td>-73.978745</td>\n",
       "      <td>40.750641</td>\n",
       "      <td>1</td>\n",
       "      <td>N</td>\n",
       "      <td>-73.997108</td>\n",
       "      <td>...</td>\n",
       "      <td>10.0</td>\n",
       "      <td>1.3</td>\n",
       "      <td>0.5</td>\n",
       "      <td>1.25</td>\n",
       "      <td>0.0</td>\n",
       "      <td>0.3</td>\n",
       "      <td>13.35</td>\n",
       "      <td>1087.816667</td>\n",
       "      <td>2016-06-06-00</td>\n",
       "      <td>NaN</td>\n",
       "    </tr>\n",
       "    <tr>\n",
       "      <th>2765159</th>\n",
       "      <td>2</td>\n",
       "      <td>2016-06-06 00:00:01</td>\n",
       "      <td>2016-06-06 00:04:05</td>\n",
       "      <td>2</td>\n",
       "      <td>1.37</td>\n",
       "      <td>-73.980690</td>\n",
       "      <td>40.742210</td>\n",
       "      <td>1</td>\n",
       "      <td>N</td>\n",
       "      <td>-73.967842</td>\n",
       "      <td>...</td>\n",
       "      <td>6.0</td>\n",
       "      <td>0.5</td>\n",
       "      <td>0.5</td>\n",
       "      <td>1.82</td>\n",
       "      <td>0.0</td>\n",
       "      <td>0.3</td>\n",
       "      <td>9.12</td>\n",
       "      <td>4.066667</td>\n",
       "      <td>2016-06-06-00</td>\n",
       "      <td>NaN</td>\n",
       "    </tr>\n",
       "    <tr>\n",
       "      <th>2128993</th>\n",
       "      <td>1</td>\n",
       "      <td>2016-06-06 00:00:02</td>\n",
       "      <td>2016-06-06 00:03:36</td>\n",
       "      <td>1</td>\n",
       "      <td>0.90</td>\n",
       "      <td>-73.986794</td>\n",
       "      <td>40.756310</td>\n",
       "      <td>1</td>\n",
       "      <td>N</td>\n",
       "      <td>-73.976067</td>\n",
       "      <td>...</td>\n",
       "      <td>5.0</td>\n",
       "      <td>0.5</td>\n",
       "      <td>0.5</td>\n",
       "      <td>0.00</td>\n",
       "      <td>0.0</td>\n",
       "      <td>0.3</td>\n",
       "      <td>6.30</td>\n",
       "      <td>3.566667</td>\n",
       "      <td>2016-06-06-00</td>\n",
       "      <td>NaN</td>\n",
       "    </tr>\n",
       "    <tr>\n",
       "      <th>2128995</th>\n",
       "      <td>2</td>\n",
       "      <td>2016-06-06 00:00:03</td>\n",
       "      <td>2016-06-06 00:00:35</td>\n",
       "      <td>1</td>\n",
       "      <td>0.02</td>\n",
       "      <td>-74.004211</td>\n",
       "      <td>40.742249</td>\n",
       "      <td>1</td>\n",
       "      <td>N</td>\n",
       "      <td>-74.001801</td>\n",
       "      <td>...</td>\n",
       "      <td>2.5</td>\n",
       "      <td>0.5</td>\n",
       "      <td>0.5</td>\n",
       "      <td>0.00</td>\n",
       "      <td>0.0</td>\n",
       "      <td>0.3</td>\n",
       "      <td>3.80</td>\n",
       "      <td>0.533333</td>\n",
       "      <td>2016-06-06-00</td>\n",
       "      <td>NaN</td>\n",
       "    </tr>\n",
       "    <tr>\n",
       "      <th>...</th>\n",
       "      <td>...</td>\n",
       "      <td>...</td>\n",
       "      <td>...</td>\n",
       "      <td>...</td>\n",
       "      <td>...</td>\n",
       "      <td>...</td>\n",
       "      <td>...</td>\n",
       "      <td>...</td>\n",
       "      <td>...</td>\n",
       "      <td>...</td>\n",
       "      <td>...</td>\n",
       "      <td>...</td>\n",
       "      <td>...</td>\n",
       "      <td>...</td>\n",
       "      <td>...</td>\n",
       "      <td>...</td>\n",
       "      <td>...</td>\n",
       "      <td>...</td>\n",
       "      <td>...</td>\n",
       "      <td>...</td>\n",
       "      <td>...</td>\n",
       "    </tr>\n",
       "    <tr>\n",
       "      <th>4563552</th>\n",
       "      <td>2</td>\n",
       "      <td>2016-06-12 23:57:11</td>\n",
       "      <td>2016-06-12 23:59:13</td>\n",
       "      <td>3</td>\n",
       "      <td>0.26</td>\n",
       "      <td>-73.962296</td>\n",
       "      <td>40.795040</td>\n",
       "      <td>1</td>\n",
       "      <td>N</td>\n",
       "      <td>-73.962173</td>\n",
       "      <td>...</td>\n",
       "      <td>3.5</td>\n",
       "      <td>0.5</td>\n",
       "      <td>0.5</td>\n",
       "      <td>0.00</td>\n",
       "      <td>0.0</td>\n",
       "      <td>0.3</td>\n",
       "      <td>4.80</td>\n",
       "      <td>2.033333</td>\n",
       "      <td>2016-06-12-23</td>\n",
       "      <td>NaN</td>\n",
       "    </tr>\n",
       "    <tr>\n",
       "      <th>4563559</th>\n",
       "      <td>1</td>\n",
       "      <td>2016-06-12 23:57:15</td>\n",
       "      <td>2016-06-12 23:58:16</td>\n",
       "      <td>1</td>\n",
       "      <td>0.40</td>\n",
       "      <td>-73.986290</td>\n",
       "      <td>40.755920</td>\n",
       "      <td>1</td>\n",
       "      <td>N</td>\n",
       "      <td>-73.990410</td>\n",
       "      <td>...</td>\n",
       "      <td>3.5</td>\n",
       "      <td>0.5</td>\n",
       "      <td>0.5</td>\n",
       "      <td>0.00</td>\n",
       "      <td>0.0</td>\n",
       "      <td>0.3</td>\n",
       "      <td>4.80</td>\n",
       "      <td>1.016667</td>\n",
       "      <td>2016-06-12-23</td>\n",
       "      <td>NaN</td>\n",
       "    </tr>\n",
       "    <tr>\n",
       "      <th>4563699</th>\n",
       "      <td>2</td>\n",
       "      <td>2016-06-12 23:57:26</td>\n",
       "      <td>2016-06-12 23:59:35</td>\n",
       "      <td>1</td>\n",
       "      <td>0.41</td>\n",
       "      <td>-73.953918</td>\n",
       "      <td>40.771111</td>\n",
       "      <td>1</td>\n",
       "      <td>N</td>\n",
       "      <td>-73.956787</td>\n",
       "      <td>...</td>\n",
       "      <td>3.5</td>\n",
       "      <td>0.5</td>\n",
       "      <td>0.5</td>\n",
       "      <td>0.00</td>\n",
       "      <td>0.0</td>\n",
       "      <td>0.3</td>\n",
       "      <td>4.80</td>\n",
       "      <td>2.150000</td>\n",
       "      <td>2016-06-12-23</td>\n",
       "      <td>NaN</td>\n",
       "    </tr>\n",
       "    <tr>\n",
       "      <th>4564019</th>\n",
       "      <td>1</td>\n",
       "      <td>2016-06-12 23:57:57</td>\n",
       "      <td>2016-06-12 23:59:12</td>\n",
       "      <td>1</td>\n",
       "      <td>0.20</td>\n",
       "      <td>-73.983192</td>\n",
       "      <td>40.759499</td>\n",
       "      <td>1</td>\n",
       "      <td>N</td>\n",
       "      <td>-73.980507</td>\n",
       "      <td>...</td>\n",
       "      <td>3.0</td>\n",
       "      <td>0.5</td>\n",
       "      <td>0.5</td>\n",
       "      <td>0.00</td>\n",
       "      <td>0.0</td>\n",
       "      <td>0.3</td>\n",
       "      <td>4.30</td>\n",
       "      <td>1.250000</td>\n",
       "      <td>2016-06-12-23</td>\n",
       "      <td>NaN</td>\n",
       "    </tr>\n",
       "    <tr>\n",
       "      <th>4564307</th>\n",
       "      <td>2</td>\n",
       "      <td>2016-06-12 23:58:21</td>\n",
       "      <td>2016-06-12 23:59:36</td>\n",
       "      <td>1</td>\n",
       "      <td>0.01</td>\n",
       "      <td>-73.865868</td>\n",
       "      <td>40.770981</td>\n",
       "      <td>1</td>\n",
       "      <td>N</td>\n",
       "      <td>-73.865883</td>\n",
       "      <td>...</td>\n",
       "      <td>3.0</td>\n",
       "      <td>0.5</td>\n",
       "      <td>0.5</td>\n",
       "      <td>0.00</td>\n",
       "      <td>0.0</td>\n",
       "      <td>0.3</td>\n",
       "      <td>4.30</td>\n",
       "      <td>1.250000</td>\n",
       "      <td>2016-06-12-23</td>\n",
       "      <td>NaN</td>\n",
       "    </tr>\n",
       "  </tbody>\n",
       "</table>\n",
       "<p>2607021 rows × 22 columns</p>\n",
       "</div>"
      ],
      "text/plain": [
       "         VendorID tpep_pickup_datetime tpep_dropoff_datetime  passenger_count  \\\n",
       "2128992         1  2016-06-06 00:00:00   2016-06-06 00:16:57                1   \n",
       "2765158         2  2016-06-06 00:00:00   2016-06-06 18:07:49                1   \n",
       "2765159         2  2016-06-06 00:00:01   2016-06-06 00:04:05                2   \n",
       "2128993         1  2016-06-06 00:00:02   2016-06-06 00:03:36                1   \n",
       "2128995         2  2016-06-06 00:00:03   2016-06-06 00:00:35                1   \n",
       "...           ...                  ...                   ...              ...   \n",
       "4563552         2  2016-06-12 23:57:11   2016-06-12 23:59:13                3   \n",
       "4563559         1  2016-06-12 23:57:15   2016-06-12 23:58:16                1   \n",
       "4563699         2  2016-06-12 23:57:26   2016-06-12 23:59:35                1   \n",
       "4564019         1  2016-06-12 23:57:57   2016-06-12 23:59:12                1   \n",
       "4564307         2  2016-06-12 23:58:21   2016-06-12 23:59:36                1   \n",
       "\n",
       "         trip_distance  pickup_longitude  pickup_latitude  RatecodeID  \\\n",
       "2128992           6.60        -73.946548        40.785099           1   \n",
       "2765158           2.02        -73.978745        40.750641           1   \n",
       "2765159           1.37        -73.980690        40.742210           1   \n",
       "2128993           0.90        -73.986794        40.756310           1   \n",
       "2128995           0.02        -74.004211        40.742249           1   \n",
       "...                ...               ...              ...         ...   \n",
       "4563552           0.26        -73.962296        40.795040           1   \n",
       "4563559           0.40        -73.986290        40.755920           1   \n",
       "4563699           0.41        -73.953918        40.771111           1   \n",
       "4564019           0.20        -73.983192        40.759499           1   \n",
       "4564307           0.01        -73.865868        40.770981           1   \n",
       "\n",
       "        store_and_fwd_flag  dropoff_longitude  ...  fare_amount  extra  \\\n",
       "2128992                  N         -73.923866  ...         20.0    0.5   \n",
       "2765158                  N         -73.997108  ...         10.0    1.3   \n",
       "2765159                  N         -73.967842  ...          6.0    0.5   \n",
       "2128993                  N         -73.976067  ...          5.0    0.5   \n",
       "2128995                  N         -74.001801  ...          2.5    0.5   \n",
       "...                    ...                ...  ...          ...    ...   \n",
       "4563552                  N         -73.962173  ...          3.5    0.5   \n",
       "4563559                  N         -73.990410  ...          3.5    0.5   \n",
       "4563699                  N         -73.956787  ...          3.5    0.5   \n",
       "4564019                  N         -73.980507  ...          3.0    0.5   \n",
       "4564307                  N         -73.865883  ...          3.0    0.5   \n",
       "\n",
       "         mta_tax  tip_amount  tolls_amount  improvement_surcharge  \\\n",
       "2128992      0.5        0.00           0.0                    0.3   \n",
       "2765158      0.5        1.25           0.0                    0.3   \n",
       "2765159      0.5        1.82           0.0                    0.3   \n",
       "2128993      0.5        0.00           0.0                    0.3   \n",
       "2128995      0.5        0.00           0.0                    0.3   \n",
       "...          ...         ...           ...                    ...   \n",
       "4563552      0.5        0.00           0.0                    0.3   \n",
       "4563559      0.5        0.00           0.0                    0.3   \n",
       "4563699      0.5        0.00           0.0                    0.3   \n",
       "4564019      0.5        0.00           0.0                    0.3   \n",
       "4564307      0.5        0.00           0.0                    0.3   \n",
       "\n",
       "         total_amount  duration_minutes           hour  direction  \n",
       "2128992         21.30         16.950000  2016-06-06-00        NaN  \n",
       "2765158         13.35       1087.816667  2016-06-06-00        NaN  \n",
       "2765159          9.12          4.066667  2016-06-06-00        NaN  \n",
       "2128993          6.30          3.566667  2016-06-06-00        NaN  \n",
       "2128995          3.80          0.533333  2016-06-06-00        NaN  \n",
       "...               ...               ...            ...        ...  \n",
       "4563552          4.80          2.033333  2016-06-12-23        NaN  \n",
       "4563559          4.80          1.016667  2016-06-12-23        NaN  \n",
       "4563699          4.80          2.150000  2016-06-12-23        NaN  \n",
       "4564019          4.30          1.250000  2016-06-12-23        NaN  \n",
       "4564307          4.30          1.250000  2016-06-12-23        NaN  \n",
       "\n",
       "[2607021 rows x 22 columns]"
      ]
     },
     "execution_count": 77,
     "metadata": {},
     "output_type": "execute_result"
    }
   ],
   "source": [
    "df."
   ]
  },
  {
   "cell_type": "code",
   "execution_count": 76,
   "metadata": {},
   "outputs": [
    {
     "ename": "KeyError",
     "evalue": "'PULocationID'",
     "output_type": "error",
     "traceback": [
      "\u001b[1;31m---------------------------------------------------------------------------\u001b[0m",
      "\u001b[1;31mKeyError\u001b[0m                                  Traceback (most recent call last)",
      "\u001b[1;32m<ipython-input-76-47acfbb70cd9>\u001b[0m in \u001b[0;36m<module>\u001b[1;34m\u001b[0m\n\u001b[0;32m      2\u001b[0m \u001b[1;33m\u001b[0m\u001b[0m\n\u001b[0;32m      3\u001b[0m \u001b[0mt0\u001b[0m \u001b[1;33m=\u001b[0m \u001b[0mtime\u001b[0m\u001b[1;33m.\u001b[0m\u001b[0mtime\u001b[0m\u001b[1;33m(\u001b[0m\u001b[1;33m)\u001b[0m\u001b[1;33m\u001b[0m\u001b[1;33m\u001b[0m\u001b[0m\n\u001b[1;32m----> 4\u001b[1;33m \u001b[0mresult_0\u001b[0m \u001b[1;33m=\u001b[0m \u001b[0mdf_sample\u001b[0m\u001b[1;33m.\u001b[0m\u001b[0mgroupby\u001b[0m\u001b[1;33m(\u001b[0m\u001b[1;33m[\u001b[0m\u001b[1;34m'PULocationID'\u001b[0m\u001b[1;33m,\u001b[0m\u001b[1;34m'DOLocationID'\u001b[0m\u001b[1;33m]\u001b[0m\u001b[1;33m)\u001b[0m\u001b[1;33m.\u001b[0m\u001b[0mapply\u001b[0m\u001b[1;33m(\u001b[0m\u001b[0malgorithm_A\u001b[0m\u001b[1;33m)\u001b[0m\u001b[1;33m\u001b[0m\u001b[1;33m\u001b[0m\u001b[0m\n\u001b[0m\u001b[0;32m      5\u001b[0m \u001b[0mprint\u001b[0m\u001b[1;33m(\u001b[0m\u001b[1;34mf\"complete in {time.time()-t0} seconds using pandas\"\u001b[0m\u001b[1;33m)\u001b[0m\u001b[1;33m\u001b[0m\u001b[1;33m\u001b[0m\u001b[0m\n\u001b[0;32m      6\u001b[0m \u001b[1;33m\u001b[0m\u001b[0m\n",
      "\u001b[1;32mC:\\Util\\Anaconda3\\lib\\site-packages\\pandas\\core\\frame.py\u001b[0m in \u001b[0;36mgroupby\u001b[1;34m(self, by, axis, level, as_index, sort, group_keys, squeeze, observed, dropna)\u001b[0m\n\u001b[0;32m   7639\u001b[0m             \u001b[0msqueeze\u001b[0m\u001b[1;33m=\u001b[0m\u001b[0msqueeze\u001b[0m\u001b[1;33m,\u001b[0m  \u001b[1;31m# type: ignore[arg-type]\u001b[0m\u001b[1;33m\u001b[0m\u001b[1;33m\u001b[0m\u001b[0m\n\u001b[0;32m   7640\u001b[0m             \u001b[0mobserved\u001b[0m\u001b[1;33m=\u001b[0m\u001b[0mobserved\u001b[0m\u001b[1;33m,\u001b[0m\u001b[1;33m\u001b[0m\u001b[1;33m\u001b[0m\u001b[0m\n\u001b[1;32m-> 7641\u001b[1;33m             \u001b[0mdropna\u001b[0m\u001b[1;33m=\u001b[0m\u001b[0mdropna\u001b[0m\u001b[1;33m,\u001b[0m\u001b[1;33m\u001b[0m\u001b[1;33m\u001b[0m\u001b[0m\n\u001b[0m\u001b[0;32m   7642\u001b[0m         )\n\u001b[0;32m   7643\u001b[0m \u001b[1;33m\u001b[0m\u001b[0m\n",
      "\u001b[1;32mC:\\Util\\Anaconda3\\lib\\site-packages\\pandas\\core\\groupby\\groupby.py\u001b[0m in \u001b[0;36m__init__\u001b[1;34m(self, obj, keys, axis, level, grouper, exclusions, selection, as_index, sort, group_keys, squeeze, observed, mutated, dropna)\u001b[0m\n\u001b[0;32m    895\u001b[0m                 \u001b[0mobserved\u001b[0m\u001b[1;33m=\u001b[0m\u001b[0mobserved\u001b[0m\u001b[1;33m,\u001b[0m\u001b[1;33m\u001b[0m\u001b[1;33m\u001b[0m\u001b[0m\n\u001b[0;32m    896\u001b[0m                 \u001b[0mmutated\u001b[0m\u001b[1;33m=\u001b[0m\u001b[0mself\u001b[0m\u001b[1;33m.\u001b[0m\u001b[0mmutated\u001b[0m\u001b[1;33m,\u001b[0m\u001b[1;33m\u001b[0m\u001b[1;33m\u001b[0m\u001b[0m\n\u001b[1;32m--> 897\u001b[1;33m                 \u001b[0mdropna\u001b[0m\u001b[1;33m=\u001b[0m\u001b[0mself\u001b[0m\u001b[1;33m.\u001b[0m\u001b[0mdropna\u001b[0m\u001b[1;33m,\u001b[0m\u001b[1;33m\u001b[0m\u001b[1;33m\u001b[0m\u001b[0m\n\u001b[0m\u001b[0;32m    898\u001b[0m             )\n\u001b[0;32m    899\u001b[0m \u001b[1;33m\u001b[0m\u001b[0m\n",
      "\u001b[1;32mC:\\Util\\Anaconda3\\lib\\site-packages\\pandas\\core\\groupby\\grouper.py\u001b[0m in \u001b[0;36mget_grouper\u001b[1;34m(obj, key, axis, level, sort, observed, mutated, validate, dropna)\u001b[0m\n\u001b[0;32m    860\u001b[0m                 \u001b[0min_axis\u001b[0m\u001b[1;33m,\u001b[0m \u001b[0mlevel\u001b[0m\u001b[1;33m,\u001b[0m \u001b[0mgpr\u001b[0m \u001b[1;33m=\u001b[0m \u001b[1;32mFalse\u001b[0m\u001b[1;33m,\u001b[0m \u001b[0mgpr\u001b[0m\u001b[1;33m,\u001b[0m \u001b[1;32mNone\u001b[0m\u001b[1;33m\u001b[0m\u001b[1;33m\u001b[0m\u001b[0m\n\u001b[0;32m    861\u001b[0m             \u001b[1;32melse\u001b[0m\u001b[1;33m:\u001b[0m\u001b[1;33m\u001b[0m\u001b[1;33m\u001b[0m\u001b[0m\n\u001b[1;32m--> 862\u001b[1;33m                 \u001b[1;32mraise\u001b[0m \u001b[0mKeyError\u001b[0m\u001b[1;33m(\u001b[0m\u001b[0mgpr\u001b[0m\u001b[1;33m)\u001b[0m\u001b[1;33m\u001b[0m\u001b[1;33m\u001b[0m\u001b[0m\n\u001b[0m\u001b[0;32m    863\u001b[0m         \u001b[1;32melif\u001b[0m \u001b[0misinstance\u001b[0m\u001b[1;33m(\u001b[0m\u001b[0mgpr\u001b[0m\u001b[1;33m,\u001b[0m \u001b[0mGrouper\u001b[0m\u001b[1;33m)\u001b[0m \u001b[1;32mand\u001b[0m \u001b[0mgpr\u001b[0m\u001b[1;33m.\u001b[0m\u001b[0mkey\u001b[0m \u001b[1;32mis\u001b[0m \u001b[1;32mnot\u001b[0m \u001b[1;32mNone\u001b[0m\u001b[1;33m:\u001b[0m\u001b[1;33m\u001b[0m\u001b[1;33m\u001b[0m\u001b[0m\n\u001b[0;32m    864\u001b[0m             \u001b[1;31m# Add key to exclusions\u001b[0m\u001b[1;33m\u001b[0m\u001b[1;33m\u001b[0m\u001b[1;33m\u001b[0m\u001b[0m\n",
      "\u001b[1;31mKeyError\u001b[0m: 'PULocationID'"
     ]
    }
   ],
   "source": [
    "import time\n",
    "t0 = time.time()\n",
    "result_0 = ddf_sample.groupby(['PULocationID','DOLocationID']).apply(algorithm_A).compute()\n",
    "print(f\"complete in {time.time()-t0} seconds using dask\")\n",
    "\n",
    "t0 = time.time()\n",
    "result_0 = df_sample.groupby(['PULocationID','DOLocationID']).apply(algorithm_A)\n",
    "print(f\"complete in {time.time()-t0} seconds using pandas\")"
   ]
  },
  {
   "cell_type": "code",
   "execution_count": 52,
   "metadata": {},
   "outputs": [
    {
     "name": "stdout",
     "output_type": "stream",
     "text": [
      "Algorithm B complete in 14.153134107589722 seconds without grouping\n"
     ]
    }
   ],
   "source": [
    "import numpy as np\n",
    "import time\n",
    "t0 = time.time()\n",
    "result_B = df_sample.groupby(['PULocationID']).apply(algorithm_B)\n",
    "print(f\"Algorithm B complete in {time.time()-t0} seconds without grouping\")"
   ]
  },
  {
   "cell_type": "code",
   "execution_count": 53,
   "metadata": {},
   "outputs": [
    {
     "data": {
      "text/html": [
       "<div>\n",
       "<style scoped>\n",
       "    .dataframe tbody tr th:only-of-type {\n",
       "        vertical-align: middle;\n",
       "    }\n",
       "\n",
       "    .dataframe tbody tr th {\n",
       "        vertical-align: top;\n",
       "    }\n",
       "\n",
       "    .dataframe thead th {\n",
       "        text-align: right;\n",
       "    }\n",
       "</style>\n",
       "<table border=\"1\" class=\"dataframe\">\n",
       "  <thead>\n",
       "    <tr style=\"text-align: right;\">\n",
       "      <th></th>\n",
       "      <th></th>\n",
       "      <th>ride_id_0</th>\n",
       "      <th>ride_id_1</th>\n",
       "      <th>ride_id_2</th>\n",
       "      <th>ride_id_3</th>\n",
       "      <th>ride_id_4</th>\n",
       "      <th>ride_id_5</th>\n",
       "      <th>ride_id_6</th>\n",
       "      <th>ride_id_7</th>\n",
       "    </tr>\n",
       "    <tr>\n",
       "      <th>PULocationID</th>\n",
       "      <th></th>\n",
       "      <th></th>\n",
       "      <th></th>\n",
       "      <th></th>\n",
       "      <th></th>\n",
       "      <th></th>\n",
       "      <th></th>\n",
       "      <th></th>\n",
       "      <th></th>\n",
       "    </tr>\n",
       "  </thead>\n",
       "  <tbody>\n",
       "    <tr>\n",
       "      <th rowspan=\"3\" valign=\"top\">13</th>\n",
       "      <th>0</th>\n",
       "      <td>1261220.0</td>\n",
       "      <td>1260528.0</td>\n",
       "      <td>1260823.0</td>\n",
       "      <td>1262371.0</td>\n",
       "      <td>NaN</td>\n",
       "      <td>NaN</td>\n",
       "      <td>NaN</td>\n",
       "      <td>NaN</td>\n",
       "    </tr>\n",
       "    <tr>\n",
       "      <th>1</th>\n",
       "      <td>1263004.0</td>\n",
       "      <td>1261191.0</td>\n",
       "      <td>1261073.0</td>\n",
       "      <td>1261074.0</td>\n",
       "      <td>NaN</td>\n",
       "      <td>NaN</td>\n",
       "      <td>NaN</td>\n",
       "      <td>NaN</td>\n",
       "    </tr>\n",
       "    <tr>\n",
       "      <th>2</th>\n",
       "      <td>1357209.0</td>\n",
       "      <td>1264454.0</td>\n",
       "      <td>NaN</td>\n",
       "      <td>NaN</td>\n",
       "      <td>NaN</td>\n",
       "      <td>NaN</td>\n",
       "      <td>NaN</td>\n",
       "      <td>NaN</td>\n",
       "    </tr>\n",
       "  </tbody>\n",
       "</table>\n",
       "</div>"
      ],
      "text/plain": [
       "                ride_id_0  ride_id_1  ride_id_2  ride_id_3  ride_id_4  \\\n",
       "PULocationID                                                            \n",
       "13           0  1261220.0  1260528.0  1260823.0  1262371.0        NaN   \n",
       "             1  1263004.0  1261191.0  1261073.0  1261074.0        NaN   \n",
       "             2  1357209.0  1264454.0        NaN        NaN        NaN   \n",
       "\n",
       "                ride_id_5  ride_id_6  ride_id_7  \n",
       "PULocationID                                     \n",
       "13           0        NaN        NaN        NaN  \n",
       "             1        NaN        NaN        NaN  \n",
       "             2        NaN        NaN        NaN  "
      ]
     },
     "execution_count": 53,
     "metadata": {},
     "output_type": "execute_result"
    }
   ],
   "source": [
    "result_B.head(3)"
   ]
  },
  {
   "cell_type": "code",
   "execution_count": 54,
   "metadata": {},
   "outputs": [
    {
     "data": {
      "image/png": "[encoded data removed]",
      "text/plain": [
       "<Figure size 432x288 with 1 Axes>"
      ]
     },
     "metadata": {
      "needs_background": "light"
     },
     "output_type": "display_data"
    }
   ],
   "source": [
    "from matplotlib import pyplot as plt\n",
    "def plot_rides(ride_ids):\n",
    "    pu_locations = df.loc[ride_ids,'PULocationID']\n",
    "    do_locations = df.loc[ride_ids,'DOLocationID']\n",
    "    pu_lats = [location_df.loc[l,'lat'] for l in pu_locations]\n",
    "    pu_lons = [location_df.loc[l,'lon'] for l in pu_locations]\n",
    "    do_lats = [location_df.loc[l,'lat'] for l in do_locations]\n",
    "    do_lons = [location_df.loc[l,'lon'] for l in do_locations]\n",
    "    for pu_lat, pu_lon, do_lat, do_lon in zip(pu_lats, pu_lons, do_lats, do_lons):\n",
    "        plt.arrow(pu_lon, pu_lat, dx=do_lon-pu_lon, dy=do_lat-pu_lat, width=10,head_width=200)\n",
    "    plt.show()\n",
    "plot_rides([1261220,1260528,1260823,1262371])  "
   ]
  },
  {
   "cell_type": "code",
   "execution_count": 93,
   "metadata": {},
   "outputs": [
    {
     "name": "stdout",
     "output_type": "stream",
     "text": [
      "complete in 277.2395770549774 seconds without grouping\n"
     ]
    }
   ],
   "source": []
  },
  {
   "cell_type": "code",
   "execution_count": 94,
   "metadata": {},
   "outputs": [
    {
     "name": "stdout",
     "output_type": "stream",
     "text": [
      "complete in 200.70719504356384 seconds with grouping\n"
     ]
    }
   ],
   "source": [
    "t0 = time.time()\n",
    "result_0 = df_sample.groupby(['PULocationID','DOLocationID','hour']).apply(algorithm)\n",
    "print(f\"complete in {time.time()-t0} seconds with grouping\")"
   ]
  },
  {
   "cell_type": "code",
   "execution_count": 11,
   "metadata": {},
   "outputs": [],
   "source": [
    "#dd = dask.dataframe.from_pandas(df_sample)\n",
    "#t0 = time.time()\n",
    "#result_2 = dd.groupby(['PULocationID','DOLocationID']).apply(algorithm)\n",
    "#print(f\"complete in {time.time()-t0} seconds via prallelization\")"
   ]
  },
  {
   "cell_type": "code",
   "execution_count": 167,
   "metadata": {},
   "outputs": [
    {
     "data": {
      "image/png": "[encoded data removed]",
      "text/plain": [
       "<Figure size 432x288 with 1 Axes>"
      ]
     },
     "metadata": {
      "needs_background": "light"
     },
     "output_type": "display_data"
    }
   ],
   "source": [
    "plt.title(\"Distribution of taxi rides per hour\")\n",
    "plt.hist(df['hour'].value_counts().values)\n",
    "plt.show()"
   ]
  },
  {
   "cell_type": "markdown",
   "metadata": {},
   "source": [
    "# Figure out load/unload delays"
   ]
  },
  {
   "cell_type": "code",
   "execution_count": 129,
   "metadata": {},
   "outputs": [],
   "source": [
    "median_time = df[df['trip_distance_round']<20].groupby(['trip_distance_round'])['duration_minutes'].apply(np.median)"
   ]
  },
  {
   "cell_type": "code",
   "execution_count": 130,
   "metadata": {},
   "outputs": [
    {
     "data": {
      "text/plain": [
       "[<matplotlib.lines.Line2D at 0x21e41744148>]"
      ]
     },
     "execution_count": 130,
     "metadata": {},
     "output_type": "execute_result"
    },
    {
     "data": {
      "image/png": "[encoded data removed]",
      "text/plain": [
       "<Figure size 432x288 with 1 Axes>"
      ]
     },
     "metadata": {
      "needs_background": "light"
     },
     "output_type": "display_data"
    }
   ],
   "source": [
    "plt.plot(median_time)"
   ]
  },
  {
   "cell_type": "code",
   "execution_count": 128,
   "metadata": {},
   "outputs": [
    {
     "data": {
      "text/plain": [
       "trip_distance_round\n",
       "0.00     6.483333\n",
       "0.01     0.233333\n",
       "0.02     0.300000\n",
       "0.03     0.441667\n",
       "0.04     0.500000\n",
       "          ...    \n",
       "1.95    10.091667\n",
       "1.96    10.116667\n",
       "1.97    10.083333\n",
       "1.98    10.216667\n",
       "1.99    10.183333\n",
       "Name: duration_minutes, Length: 200, dtype: float64"
      ]
     },
     "execution_count": 128,
     "metadata": {},
     "output_type": "execute_result"
    }
   ],
   "source": [
    "median_time"
   ]
  },
  {
   "cell_type": "code",
   "execution_count": 113,
   "metadata": {},
   "outputs": [
    {
     "name": "stderr",
     "output_type": "stream",
     "text": [
      "C:\\Util\\Anaconda3\\lib\\site-packages\\seaborn\\_decorators.py:43: FutureWarning: Pass the following variables as keyword args: x, y. From version 0.12, the only valid positional argument will be `data`, and passing other arguments without an explicit keyword will result in an error or misinterpretation.\n",
      "  FutureWarning\n"
     ]
    },
    {
     "data": {
      "text/plain": [
       "(0.0, 120.0)"
      ]
     },
     "execution_count": 113,
     "metadata": {},
     "output_type": "execute_result"
    },
    {
     "name": "stderr",
     "output_type": "stream",
     "text": [
      "C:\\Users\\volpir\\AppData\\Roaming\\Python\\Python37\\site-packages\\IPython\\core\\pylabtools.py:132: UserWarning: Creating legend with loc=\"best\" can be slow with large amounts of data.\n",
      "  fig.canvas.print_figure(bytes_io, **kw)\n"
     ]
    },
    {
     "data": {
      "image/png": "[encoded data removed]",
      "text/plain": [
       "<Figure size 432x288 with 1 Axes>"
      ]
     },
     "metadata": {
      "needs_background": "light"
     },
     "output_type": "display_data"
    }
   ],
   "source": [
    "import seaborn as sns\n",
    "sns.scatterplot(df['trip_distance'],df['duration_minutes'],size=1)\n",
    "plt.xlim(0,20)\n",
    "plt.ylim(0,120)"
   ]
  },
  {
   "cell_type": "code",
   "execution_count": 106,
   "metadata": {},
   "outputs": [
    {
     "data": {
      "text/plain": [
       "0           2.10\n",
       "1           0.20\n",
       "2          14.70\n",
       "3          10.60\n",
       "4           4.94\n",
       "           ...  \n",
       "1369760     8.80\n",
       "1369761     5.86\n",
       "1369762     4.45\n",
       "1369763    10.04\n",
       "1369764     4.93\n",
       "Name: trip_distance, Length: 1369765, dtype: float64"
      ]
     },
     "execution_count": 106,
     "metadata": {},
     "output_type": "execute_result"
    }
   ],
   "source": [
    "df['trip_distance']"
   ]
  },
  {
   "cell_type": "code",
   "execution_count": 11,
   "metadata": {},
   "outputs": [
    {
     "data": {
      "text/plain": [
       "258"
      ]
     },
     "execution_count": 11,
     "metadata": {},
     "output_type": "execute_result"
    }
   ],
   "source": [
    "len(df['PULocationID'].unique())"
   ]
  },
  {
   "cell_type": "markdown",
   "metadata": {},
   "source": [
    "#### 1. Propose a metric and/or algorithm to assess the potential efficiency of aggregating rides from many vehicles into one, given the available data. Make realistic assumptions and any necessary simplifications and state them.\n",
    "\n",
    "The metric we want is the following: \n",
    "\n",
    "User-Miles Travelled / Vehicle Miles Traveled\n",
    "User Effective Travel Time Completed / Vehicle Travel Time\n",
    "\n",
    "We want to maximize this metric by minimizing the denominator, Vehicle Miles Traveled, while meeting all demand.\n",
    "\n",
    "Iteratively apply the following heuristic \n",
    "    Start with longest trips first \n",
    "    Look for trips that overlap\n",
    "    If consolidating a trip to a route doesn't add more than 20% to the total travel time of either trip, do it \n",
    "    \n",
    "    \n",
    "Assumptions\n",
    "- trips are requested five minutes before pickup \n",
    "- trips start/end at the centroid of the shapefile for the region in which the trip starts/ends"
   ]
  },
  {
   "cell_type": "code",
   "execution_count": 19,
   "metadata": {},
   "outputs": [],
   "source": [
    "import numpy as np\n",
    "avg_travel_time = df.select_dtypes('number').groupby(['PULocationID','DOLocationID'])['duration_minutes'].apply(np.nanmean)\n",
    "num_trips = df.select_dtypes('number').groupby(['PULocationID','DOLocationID'])['duration_minutes'].apply(lambda x: x.notna().sum())"
   ]
  },
  {
   "cell_type": "code",
   "execution_count": 32,
   "metadata": {},
   "outputs": [],
   "source": [
    "avg_travel_time_matrix = pd.pivot_table(pd.DataFrame(avg_travel_time), index='PULocationID', columns='DOLocationID', values='duration_minutes')\n",
    "num_trips_matrix = pd.pivot_table(pd.DataFrame(num_trips), index='PULocationID', columns='DOLocationID', values='duration_minutes')"
   ]
  },
  {
   "cell_type": "code",
   "execution_count": 38,
   "metadata": {},
   "outputs": [],
   "source": [
    "# Fill missing trip distance with reverse distance\n",
    "avg_travel_time_matrix[avg_travel_time_matrix.isna()] = avg_travel_time_matrix.T[avg_travel_time_matrix.isna()]"
   ]
  },
  {
   "cell_type": "code",
   "execution_count": null,
   "metadata": {},
   "outputs": [],
   "source": [
    "from cipy.sparse.csgraph import shortest_path\n",
    "\n",
    "shortest_path(csgraph, method='auto', directed=True)#, return_predecessors=False, unweighted=False, overwrite=False, indices=None)"
   ]
  },
  {
   "cell_type": "code",
   "execution_count": 81,
   "metadata": {},
   "outputs": [
    {
     "ename": "NameError",
     "evalue": "name 'avg_travel_time_matrix' is not defined",
     "output_type": "error",
     "traceback": [
      "\u001b[1;31m---------------------------------------------------------------------------\u001b[0m",
      "\u001b[1;31mNameError\u001b[0m                                 Traceback (most recent call last)",
      "\u001b[1;32m<ipython-input-81-6d882da4afa3>\u001b[0m in \u001b[0;36m<module>\u001b[1;34m\u001b[0m\n\u001b[0;32m     24\u001b[0m     \u001b[1;32mreturn\u001b[0m \u001b[0mranked_distances\u001b[0m\u001b[1;33m[\u001b[0m\u001b[1;36m0\u001b[0m\u001b[1;33m]\u001b[0m\u001b[1;33m,\u001b[0m \u001b[0mranked_routes\u001b[0m\u001b[1;33m[\u001b[0m\u001b[1;36m0\u001b[0m\u001b[1;33m]\u001b[0m\u001b[1;33m\u001b[0m\u001b[1;33m\u001b[0m\u001b[0m\n\u001b[0;32m     25\u001b[0m \u001b[1;33m\u001b[0m\u001b[0m\n\u001b[1;32m---> 26\u001b[1;33m \u001b[0mcalculate_distance\u001b[0m\u001b[1;33m(\u001b[0m\u001b[1;36m256\u001b[0m\u001b[1;33m,\u001b[0m \u001b[1;36m261\u001b[0m\u001b[1;33m)\u001b[0m\u001b[1;33m\u001b[0m\u001b[1;33m\u001b[0m\u001b[0m\n\u001b[0m",
      "\u001b[1;32m<ipython-input-81-6d882da4afa3>\u001b[0m in \u001b[0;36mcalculate_distance\u001b[1;34m(a, b)\u001b[0m\n\u001b[0;32m      1\u001b[0m \u001b[1;32mdef\u001b[0m \u001b[0mcalculate_distance\u001b[0m\u001b[1;33m(\u001b[0m\u001b[0ma\u001b[0m\u001b[1;33m,\u001b[0m \u001b[0mb\u001b[0m\u001b[1;33m)\u001b[0m\u001b[1;33m:\u001b[0m \u001b[1;31m#256, 261\u001b[0m\u001b[1;33m\u001b[0m\u001b[1;33m\u001b[0m\u001b[0m\n\u001b[1;32m----> 2\u001b[1;33m     \u001b[1;32mreturn\u001b[0m \u001b[0mavg_travel_time_matrix\u001b[0m\u001b[1;33m.\u001b[0m\u001b[0mloc\u001b[0m\u001b[1;33m[\u001b[0m\u001b[0ma\u001b[0m\u001b[1;33m,\u001b[0m\u001b[0mb\u001b[0m\u001b[1;33m]\u001b[0m\u001b[1;33m\u001b[0m\u001b[1;33m\u001b[0m\u001b[0m\n\u001b[0m\u001b[0;32m      3\u001b[0m \u001b[1;31m#def calculate_distances(**tups):\u001b[0m\u001b[1;33m\u001b[0m\u001b[1;33m\u001b[0m\u001b[1;33m\u001b[0m\u001b[0m\n\u001b[0;32m      4\u001b[0m \u001b[1;31m#    dist = sum([calculate_distance(tup) for tup in tups])\u001b[0m\u001b[1;33m\u001b[0m\u001b[1;33m\u001b[0m\u001b[1;33m\u001b[0m\u001b[0m\n\u001b[0;32m      5\u001b[0m \u001b[1;32mdef\u001b[0m \u001b[0mcalculate_route\u001b[0m\u001b[1;33m(\u001b[0m\u001b[0mstops\u001b[0m\u001b[1;33m)\u001b[0m\u001b[1;33m:\u001b[0m\u001b[1;33m\u001b[0m\u001b[1;33m\u001b[0m\u001b[0m\n",
      "\u001b[1;31mNameError\u001b[0m: name 'avg_travel_time_matrix' is not defined"
     ]
    }
   ],
   "source": [
    "def calculate_distance(a, b): #256, 261\n",
    "    return avg_travel_time_matrix.loc[a,b]\n",
    "#def calculate_distances(**tups):\n",
    "#    dist = sum([calculate_distance(tup) for tup in tups])\n",
    "def calculate_route(stops):\n",
    "    dist = 0\n",
    "    for i in range(len(stops)-1):\n",
    "        #print(f\"Dist from {stop[i]} to {stop[i+1]} = {calculate_distance(stop[i], stop[i+1])}\")\n",
    "        dist += calculate_distance(stops[i], stops[i+1])\n",
    "    return dist\n",
    "\n",
    "def shortest_path(pu_1, pu_2, do_1, do_2):\n",
    "    route_options = [\n",
    "        [pu_1, pu_2, do_1, do_2],\n",
    "        [pu_1, pu_2, do_2, do_1],\n",
    "        [pu_2, pu_1, do_1, do_2],\n",
    "        [pu_2, pu_1, do_2, do_1],\n",
    "    ]\n",
    "    \n",
    "    route_distances = [calculate_route(route) for route in route_options]\n",
    "    \n",
    "    ranked_distances, ranked_routes = zip(*sorted(zip(route_distances, route_options)))\n",
    "    \n",
    "    return ranked_distances[0], ranked_routes[0]\n",
    "\n",
    "calculate_distance(256, 261)"
   ]
  },
  {
   "cell_type": "code",
   "execution_count": 54,
   "metadata": {},
   "outputs": [],
   "source": [
    "def angle_dist(a, b):\n",
    "    return ((a-b) + 180) % 360 - 180"
   ]
  },
  {
   "cell_type": "code",
   "execution_count": 61,
   "metadata": {},
   "outputs": [],
   "source": [
    "angle"
   ]
  },
  {
   "cell_type": "code",
   "execution_count": 64,
   "metadata": {},
   "outputs": [],
   "source": []
  },
  {
   "cell_type": "code",
   "execution_count": 65,
   "metadata": {},
   "outputs": [
    {
     "data": {
      "text/html": [
       "<div>\n",
       "<style scoped>\n",
       "    .dataframe tbody tr th:only-of-type {\n",
       "        vertical-align: middle;\n",
       "    }\n",
       "\n",
       "    .dataframe tbody tr th {\n",
       "        vertical-align: top;\n",
       "    }\n",
       "\n",
       "    .dataframe thead th {\n",
       "        text-align: right;\n",
       "    }\n",
       "</style>\n",
       "<table border=\"1\" class=\"dataframe\">\n",
       "  <thead>\n",
       "    <tr style=\"text-align: right;\">\n",
       "      <th></th>\n",
       "      <th>OBJECTID</th>\n",
       "      <th>1</th>\n",
       "      <th>2</th>\n",
       "      <th>3</th>\n",
       "      <th>4</th>\n",
       "      <th>5</th>\n",
       "      <th>6</th>\n",
       "      <th>7</th>\n",
       "      <th>8</th>\n",
       "      <th>9</th>\n",
       "      <th>...</th>\n",
       "      <th>254</th>\n",
       "      <th>255</th>\n",
       "      <th>256</th>\n",
       "      <th>257</th>\n",
       "      <th>258</th>\n",
       "      <th>259</th>\n",
       "      <th>260</th>\n",
       "      <th>261</th>\n",
       "      <th>262</th>\n",
       "      <th>263</th>\n",
       "    </tr>\n",
       "  </thead>\n",
       "  <tbody>\n",
       "    <tr>\n",
       "      <th>0</th>\n",
       "      <td>1</td>\n",
       "      <td>0.000000</td>\n",
       "      <td>-1.290653</td>\n",
       "      <td>-2.178322</td>\n",
       "      <td>-1.779702</td>\n",
       "      <td>0.081198</td>\n",
       "      <td>-0.703655</td>\n",
       "      <td>-1.915881</td>\n",
       "      <td>-1.996751</td>\n",
       "      <td>-1.769916</td>\n",
       "      <td>...</td>\n",
       "      <td>-2.242176</td>\n",
       "      <td>-1.732262</td>\n",
       "      <td>-1.686417</td>\n",
       "      <td>-1.319239</td>\n",
       "      <td>-1.557793</td>\n",
       "      <td>-2.270933</td>\n",
       "      <td>-1.822161</td>\n",
       "      <td>-1.710078</td>\n",
       "      <td>-2.022497</td>\n",
       "      <td>-2.043701</td>\n",
       "    </tr>\n",
       "    <tr>\n",
       "      <th>1</th>\n",
       "      <td>2</td>\n",
       "      <td>1.850940</td>\n",
       "      <td>0.000000</td>\n",
       "      <td>3.090300</td>\n",
       "      <td>2.337168</td>\n",
       "      <td>1.339774</td>\n",
       "      <td>1.480877</td>\n",
       "      <td>2.705036</td>\n",
       "      <td>2.732638</td>\n",
       "      <td>-2.902792</td>\n",
       "      <td>...</td>\n",
       "      <td>3.060765</td>\n",
       "      <td>2.385399</td>\n",
       "      <td>2.335235</td>\n",
       "      <td>1.888371</td>\n",
       "      <td>2.886468</td>\n",
       "      <td>3.083285</td>\n",
       "      <td>2.718981</td>\n",
       "      <td>2.158601</td>\n",
       "      <td>2.636825</td>\n",
       "      <td>2.628077</td>\n",
       "    </tr>\n",
       "    <tr>\n",
       "      <th>2</th>\n",
       "      <td>3</td>\n",
       "      <td>0.963270</td>\n",
       "      <td>-0.051293</td>\n",
       "      <td>0.000000</td>\n",
       "      <td>0.609478</td>\n",
       "      <td>0.694363</td>\n",
       "      <td>0.573153</td>\n",
       "      <td>0.488531</td>\n",
       "      <td>0.588329</td>\n",
       "      <td>-0.381170</td>\n",
       "      <td>...</td>\n",
       "      <td>2.680429</td>\n",
       "      <td>0.519888</td>\n",
       "      <td>0.506814</td>\n",
       "      <td>0.439031</td>\n",
       "      <td>0.034385</td>\n",
       "      <td>3.031570</td>\n",
       "      <td>0.354848</td>\n",
       "      <td>0.680196</td>\n",
       "      <td>0.703423</td>\n",
       "      <td>0.741602</td>\n",
       "    </tr>\n",
       "    <tr>\n",
       "      <th>3</th>\n",
       "      <td>4</td>\n",
       "      <td>1.361890</td>\n",
       "      <td>-0.804424</td>\n",
       "      <td>-2.532115</td>\n",
       "      <td>0.000000</td>\n",
       "      <td>0.756360</td>\n",
       "      <td>0.529518</td>\n",
       "      <td>-2.285310</td>\n",
       "      <td>-2.500166</td>\n",
       "      <td>-1.759664</td>\n",
       "      <td>...</td>\n",
       "      <td>-2.627369</td>\n",
       "      <td>-1.250019</td>\n",
       "      <td>-0.790060</td>\n",
       "      <td>0.010745</td>\n",
       "      <td>-1.208776</td>\n",
       "      <td>-2.644198</td>\n",
       "      <td>-1.935526</td>\n",
       "      <td>1.081289</td>\n",
       "      <td>-2.724256</td>\n",
       "      <td>-2.797482</td>\n",
       "    </tr>\n",
       "    <tr>\n",
       "      <th>4</th>\n",
       "      <td>5</td>\n",
       "      <td>-3.060394</td>\n",
       "      <td>-1.801819</td>\n",
       "      <td>-2.447230</td>\n",
       "      <td>-2.385233</td>\n",
       "      <td>0.000000</td>\n",
       "      <td>-2.061036</td>\n",
       "      <td>-2.365570</td>\n",
       "      <td>-2.411127</td>\n",
       "      <td>-2.147508</td>\n",
       "      <td>...</td>\n",
       "      <td>-2.490844</td>\n",
       "      <td>-2.326484</td>\n",
       "      <td>-2.307473</td>\n",
       "      <td>-2.131472</td>\n",
       "      <td>-2.063104</td>\n",
       "      <td>-2.503683</td>\n",
       "      <td>-2.298276</td>\n",
       "      <td>-2.433467</td>\n",
       "      <td>-2.450867</td>\n",
       "      <td>-2.466209</td>\n",
       "    </tr>\n",
       "    <tr>\n",
       "      <th>...</th>\n",
       "      <td>...</td>\n",
       "      <td>...</td>\n",
       "      <td>...</td>\n",
       "      <td>...</td>\n",
       "      <td>...</td>\n",
       "      <td>...</td>\n",
       "      <td>...</td>\n",
       "      <td>...</td>\n",
       "      <td>...</td>\n",
       "      <td>...</td>\n",
       "      <td>...</td>\n",
       "      <td>...</td>\n",
       "      <td>...</td>\n",
       "      <td>...</td>\n",
       "      <td>...</td>\n",
       "      <td>...</td>\n",
       "      <td>...</td>\n",
       "      <td>...</td>\n",
       "      <td>...</td>\n",
       "      <td>...</td>\n",
       "      <td>...</td>\n",
       "    </tr>\n",
       "    <tr>\n",
       "      <th>258</th>\n",
       "      <td>259</td>\n",
       "      <td>0.870660</td>\n",
       "      <td>-0.058308</td>\n",
       "      <td>-0.110023</td>\n",
       "      <td>0.497395</td>\n",
       "      <td>0.637910</td>\n",
       "      <td>0.510853</td>\n",
       "      <td>0.358052</td>\n",
       "      <td>0.422316</td>\n",
       "      <td>-0.322904</td>\n",
       "      <td>...</td>\n",
       "      <td>0.311602</td>\n",
       "      <td>0.418642</td>\n",
       "      <td>0.411313</td>\n",
       "      <td>0.372033</td>\n",
       "      <td>0.011234</td>\n",
       "      <td>0.000000</td>\n",
       "      <td>0.259869</td>\n",
       "      <td>0.573662</td>\n",
       "      <td>0.529673</td>\n",
       "      <td>0.560809</td>\n",
       "    </tr>\n",
       "    <tr>\n",
       "      <th>259</th>\n",
       "      <td>260</td>\n",
       "      <td>1.319432</td>\n",
       "      <td>-0.422612</td>\n",
       "      <td>-2.786745</td>\n",
       "      <td>1.206067</td>\n",
       "      <td>0.843317</td>\n",
       "      <td>0.718946</td>\n",
       "      <td>2.607668</td>\n",
       "      <td>2.784755</td>\n",
       "      <td>-1.647950</td>\n",
       "      <td>...</td>\n",
       "      <td>-2.887740</td>\n",
       "      <td>0.990803</td>\n",
       "      <td>0.884410</td>\n",
       "      <td>0.541197</td>\n",
       "      <td>-0.607190</td>\n",
       "      <td>-2.881724</td>\n",
       "      <td>0.000000</td>\n",
       "      <td>1.162316</td>\n",
       "      <td>2.373483</td>\n",
       "      <td>2.363286</td>\n",
       "    </tr>\n",
       "    <tr>\n",
       "      <th>260</th>\n",
       "      <td>261</td>\n",
       "      <td>1.431515</td>\n",
       "      <td>-0.982991</td>\n",
       "      <td>-2.461397</td>\n",
       "      <td>-2.060304</td>\n",
       "      <td>0.708126</td>\n",
       "      <td>0.390585</td>\n",
       "      <td>-2.206610</td>\n",
       "      <td>-2.363938</td>\n",
       "      <td>-1.811906</td>\n",
       "      <td>...</td>\n",
       "      <td>-2.547365</td>\n",
       "      <td>-1.795544</td>\n",
       "      <td>-1.614000</td>\n",
       "      <td>-0.447907</td>\n",
       "      <td>-1.402577</td>\n",
       "      <td>-2.567931</td>\n",
       "      <td>-1.979277</td>\n",
       "      <td>0.000000</td>\n",
       "      <td>-2.493616</td>\n",
       "      <td>-2.546406</td>\n",
       "    </tr>\n",
       "    <tr>\n",
       "      <th>261</th>\n",
       "      <td>262</td>\n",
       "      <td>1.119096</td>\n",
       "      <td>-0.504767</td>\n",
       "      <td>-2.438170</td>\n",
       "      <td>0.417337</td>\n",
       "      <td>0.690726</td>\n",
       "      <td>0.497529</td>\n",
       "      <td>-0.955317</td>\n",
       "      <td>-1.717976</td>\n",
       "      <td>-1.368657</td>\n",
       "      <td>...</td>\n",
       "      <td>-2.583290</td>\n",
       "      <td>0.143653</td>\n",
       "      <td>0.154804</td>\n",
       "      <td>0.192895</td>\n",
       "      <td>-0.670673</td>\n",
       "      <td>-2.611919</td>\n",
       "      <td>-0.768110</td>\n",
       "      <td>0.647977</td>\n",
       "      <td>0.000000</td>\n",
       "      <td>2.262014</td>\n",
       "    </tr>\n",
       "    <tr>\n",
       "      <th>262</th>\n",
       "      <td>263</td>\n",
       "      <td>1.097892</td>\n",
       "      <td>-0.513515</td>\n",
       "      <td>-2.399990</td>\n",
       "      <td>0.344111</td>\n",
       "      <td>0.675384</td>\n",
       "      <td>0.475813</td>\n",
       "      <td>-0.943891</td>\n",
       "      <td>-1.561758</td>\n",
       "      <td>-1.352231</td>\n",
       "      <td>...</td>\n",
       "      <td>-2.548012</td>\n",
       "      <td>0.080574</td>\n",
       "      <td>0.098813</td>\n",
       "      <td>0.162127</td>\n",
       "      <td>-0.678643</td>\n",
       "      <td>-2.580784</td>\n",
       "      <td>-0.778307</td>\n",
       "      <td>0.595186</td>\n",
       "      <td>-0.879579</td>\n",
       "      <td>0.000000</td>\n",
       "    </tr>\n",
       "  </tbody>\n",
       "</table>\n",
       "<p>263 rows × 264 columns</p>\n",
       "</div>"
      ],
      "text/plain": [
       "     OBJECTID         1         2         3         4         5         6  \\\n",
       "0           1  0.000000 -1.290653 -2.178322 -1.779702  0.081198 -0.703655   \n",
       "1           2  1.850940  0.000000  3.090300  2.337168  1.339774  1.480877   \n",
       "2           3  0.963270 -0.051293  0.000000  0.609478  0.694363  0.573153   \n",
       "3           4  1.361890 -0.804424 -2.532115  0.000000  0.756360  0.529518   \n",
       "4           5 -3.060394 -1.801819 -2.447230 -2.385233  0.000000 -2.061036   \n",
       "..        ...       ...       ...       ...       ...       ...       ...   \n",
       "258       259  0.870660 -0.058308 -0.110023  0.497395  0.637910  0.510853   \n",
       "259       260  1.319432 -0.422612 -2.786745  1.206067  0.843317  0.718946   \n",
       "260       261  1.431515 -0.982991 -2.461397 -2.060304  0.708126  0.390585   \n",
       "261       262  1.119096 -0.504767 -2.438170  0.417337  0.690726  0.497529   \n",
       "262       263  1.097892 -0.513515 -2.399990  0.344111  0.675384  0.475813   \n",
       "\n",
       "            7         8         9  ...       254       255       256  \\\n",
       "0   -1.915881 -1.996751 -1.769916  ... -2.242176 -1.732262 -1.686417   \n",
       "1    2.705036  2.732638 -2.902792  ...  3.060765  2.385399  2.335235   \n",
       "2    0.488531  0.588329 -0.381170  ...  2.680429  0.519888  0.506814   \n",
       "3   -2.285310 -2.500166 -1.759664  ... -2.627369 -1.250019 -0.790060   \n",
       "4   -2.365570 -2.411127 -2.147508  ... -2.490844 -2.326484 -2.307473   \n",
       "..        ...       ...       ...  ...       ...       ...       ...   \n",
       "258  0.358052  0.422316 -0.322904  ...  0.311602  0.418642  0.411313   \n",
       "259  2.607668  2.784755 -1.647950  ... -2.887740  0.990803  0.884410   \n",
       "260 -2.206610 -2.363938 -1.811906  ... -2.547365 -1.795544 -1.614000   \n",
       "261 -0.955317 -1.717976 -1.368657  ... -2.583290  0.143653  0.154804   \n",
       "262 -0.943891 -1.561758 -1.352231  ... -2.548012  0.080574  0.098813   \n",
       "\n",
       "          257       258       259       260       261       262       263  \n",
       "0   -1.319239 -1.557793 -2.270933 -1.822161 -1.710078 -2.022497 -2.043701  \n",
       "1    1.888371  2.886468  3.083285  2.718981  2.158601  2.636825  2.628077  \n",
       "2    0.439031  0.034385  3.031570  0.354848  0.680196  0.703423  0.741602  \n",
       "3    0.010745 -1.208776 -2.644198 -1.935526  1.081289 -2.724256 -2.797482  \n",
       "4   -2.131472 -2.063104 -2.503683 -2.298276 -2.433467 -2.450867 -2.466209  \n",
       "..        ...       ...       ...       ...       ...       ...       ...  \n",
       "258  0.372033  0.011234  0.000000  0.259869  0.573662  0.529673  0.560809  \n",
       "259  0.541197 -0.607190 -2.881724  0.000000  1.162316  2.373483  2.363286  \n",
       "260 -0.447907 -1.402577 -2.567931 -1.979277  0.000000 -2.493616 -2.546406  \n",
       "261  0.192895 -0.670673 -2.611919 -0.768110  0.647977  0.000000  2.262014  \n",
       "262  0.162127 -0.678643 -2.580784 -0.778307  0.595186 -0.879579  0.000000  \n",
       "\n",
       "[263 rows x 264 columns]"
      ]
     },
     "execution_count": 65,
     "metadata": {},
     "output_type": "execute_result"
    }
   ],
   "source": []
  },
  {
   "cell_type": "code",
   "execution_count": 48,
   "metadata": {},
   "outputs": [
    {
     "data": {
      "text/plain": [
       "0"
      ]
     },
     "execution_count": 48,
     "metadata": {},
     "output_type": "execute_result"
    }
   ],
   "source": [
    "calculate_route([256, 261, 262, 263])"
   ]
  },
  {
   "cell_type": "code",
   "execution_count": 53,
   "metadata": {},
   "outputs": [
    {
     "data": {
      "text/plain": [
       "20.496898432174508"
      ]
     },
     "execution_count": 53,
     "metadata": {},
     "output_type": "execute_result"
    }
   ],
   "source": [
    "calculate_distance(256, 261) + calculate_distance(262, 263)"
   ]
  },
  {
   "cell_type": "code",
   "execution_count": 52,
   "metadata": {},
   "outputs": [
    {
     "data": {
      "text/plain": [
       "(39.47132586289212, [256, 261, 263, 262])"
      ]
     },
     "execution_count": 52,
     "metadata": {},
     "output_type": "execute_result"
    }
   ],
   "source": [
    "shortest_path(256, 261, 262, 263)"
   ]
  },
  {
   "cell_type": "code",
   "execution_count": 84,
   "metadata": {},
   "outputs": [],
   "source": [
    "unique_locations = sorted(list(set(avg_travel_time_matrix.index)&set(avg_travel_time_matrix.columns)))\n",
    "avg_travel_time_matrix = avg_travel_time_matrix.loc[unique_locations,unique_locations]"
   ]
  },
  {
   "cell_type": "code",
   "execution_count": 91,
   "metadata": {},
   "outputs": [],
   "source": [
    "avg_travel_time_matrix =  avg_travel_time_matrix.fillna(0)"
   ]
  },
  {
   "cell_type": "code",
   "execution_count": 46,
   "metadata": {},
   "outputs": [
    {
     "data": {
      "text/plain": [
       "<matplotlib.colorbar.Colorbar at 0x21e064a0748>"
      ]
     },
     "execution_count": 46,
     "metadata": {},
     "output_type": "execute_result"
    },
    {
     "data": {
      "image/png": "[encoded data removed]",
      "text/plain": [
       "<Figure size 432x288 with 2 Axes>"
      ]
     },
     "metadata": {
      "needs_background": "light"
     },
     "output_type": "display_data"
    }
   ],
   "source": [
    "from matplotlib import pyplot as plt\n",
    "plt.imshow(avg_travel_time_matrix.iloc[80:90,80:90])\n",
    "plt.colorbar()"
   ]
  },
  {
   "cell_type": "code",
   "execution_count": 45,
   "metadata": {},
   "outputs": [
    {
     "data": {
      "text/plain": [
       "(0.0, 100.0)"
      ]
     },
     "execution_count": 45,
     "metadata": {},
     "output_type": "execute_result"
    },
    {
     "data": {
      "image/png": "[encoded data removed]",
      "text/plain": [
       "<Figure size 432x288 with 1 Axes>"
      ]
     },
     "metadata": {
      "needs_background": "light"
     },
     "output_type": "display_data"
    }
   ],
   "source": [
    "plt.hist(avg_travel_time_matrix.values.ravel(),bins=10000)\n",
    "plt.xlim(0,100)"
   ]
  },
  {
   "cell_type": "code",
   "execution_count": 88,
   "metadata": {},
   "outputs": [],
   "source": [
    "from sklearn.manifold import MDS\n",
    "model = MDS(n_components=2, n_init=4, max_iter=300, verbose=0, eps=0.001, n_jobs=None, random_state=None, dissimilarity='precomputed', metric=False)"
   ]
  },
  {
   "cell_type": "code",
   "execution_count": 133,
   "metadata": {},
   "outputs": [],
   "source": [
    "symmetric_avg_travel_time_matrix = (avg_travel_time_matrix.T.values + avg_travel_time_matrix.values)/2"
   ]
  },
  {
   "cell_type": "code",
   "execution_count": 136,
   "metadata": {},
   "outputs": [],
   "source": [
    "transformed = model.fit_transform(symmetric_avg_travel_time_matrix)"
   ]
  },
  {
   "cell_type": "code",
   "execution_count": 139,
   "metadata": {},
   "outputs": [
    {
     "data": {
      "text/plain": [
       "<matplotlib.collections.PathCollection at 0x21e41b2ce48>"
      ]
     },
     "execution_count": 139,
     "metadata": {},
     "output_type": "execute_result"
    },
    {
     "data": {
      "image/png": "[encoded data removed]",
      "text/plain": [
       "<Figure size 432x288 with 1 Axes>"
      ]
     },
     "metadata": {
      "needs_background": "light"
     },
     "output_type": "display_data"
    }
   ],
   "source": [
    "plt.scatter(transformed[:,0],transformed[:,1])"
   ]
  },
  {
   "cell_type": "code",
   "execution_count": 93,
   "metadata": {},
   "outputs": [
    {
     "data": {
      "text/plain": [
       "2016"
      ]
     },
     "execution_count": 93,
     "metadata": {},
     "output_type": "execute_result"
    }
   ],
   "source": [
    "7*24*12"
   ]
  },
  {
   "cell_type": "code",
   "execution_count": null,
   "metadata": {},
   "outputs": [],
   "source": [
    "# Distance matrix\n",
    "day-of-week (7)\n",
    "hour-of-day (24)\n",
    "month (12)"
   ]
  },
  {
   "cell_type": "code",
   "execution_count": null,
   "metadata": {},
   "outputs": [],
   "source": [
    "# affinity = function that takes x and returns distance matrix \n",
    "# connectivity "
   ]
  },
  {
   "cell_type": "code",
   "execution_count": 141,
   "metadata": {},
   "outputs": [],
   "source": []
  },
  {
   "cell_type": "code",
   "execution_count": null,
   "metadata": {},
   "outputs": [],
   "source": []
  }
 ],
 "metadata": {
  "kernelspec": {
   "display_name": "Python 3",
   "language": "python",
   "name": "python3"
  },
  "language_info": {
   "codemirror_mode": {
    "name": "ipython",
    "version": 3
   },
   "file_extension": ".py",
   "mimetype": "text/x-python",
   "name": "python",
   "nbconvert_exporter": "python",
   "pygments_lexer": "ipython3",
   "version": "3.7.4"
  }
 },
 "nbformat": 4,
 "nbformat_minor": 2
}
