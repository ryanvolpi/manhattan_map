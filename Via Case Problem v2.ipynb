{
 "cells": [
  {
   "cell_type": "code",
   "execution_count": 2,
   "metadata": {},
   "outputs": [],
   "source": [
    "import pandas as pd\n",
    "import os\n",
    "from datetime import datetime, timedelta\n",
    "import pickle\n",
    "import numpy as np\n",
    "import time\n",
    "from multiprocessing import Pool"
   ]
  },
  {
   "cell_type": "code",
   "execution_count": 266,
   "metadata": {},
   "outputs": [],
   "source": [
    "# Functions \n",
    "def vector_angle_diff(a1, a2):\n",
    "    return np.abs(np.where(abs(a1-a2)>180, abs(a1-a2)-360, abs(a1-a2)))\n",
    "\n",
    "def vector_distance(lat1, lon1, lat2, lon2):\n",
    "    return ((lat1-lat2)**2 + (lon1-lon2)**2)**0.5\n",
    "\n",
    "def algorithm(_df, max_wait_mins=7, max_occupancy=6, angle_thresh=20, dist_thresh=0.15):\n",
    "    \"\"\"algorithm for efficiently identifying routes to combine\"\"\"\n",
    "    agg_rides = []\n",
    "    if len(_df.shape) == 1:\n",
    "        return _df\n",
    "    df = _df.copy()\n",
    "    \n",
    "    agg_ride_dict_ = {f'ride_id_{i}':float(\"NaN\") for i in range(max_occupancy)}\n",
    "    while df.shape[0]>1:\n",
    "        agg_ride_dict = agg_ride_dict_.copy()\n",
    "        i = df.index[0]\n",
    "        agg_ride_dict['ride_id_0'] = i\n",
    "        row = df.loc[i,:]\n",
    "        initial_passengers = row['passenger_count']\n",
    "        df.drop(index=i, inplace=True)\n",
    "\n",
    "        # Find rows going in similar directions\n",
    "        angle_diffs = vector_angle_diff(df['direction'], row['direction'])\n",
    "        matches = df[angle_diffs<angle_thresh]\n",
    "\n",
    "        # Find rows with aligned start points\n",
    "        fractional_distance_start = vector_distance(\n",
    "            lat1 = matches['pickup_latitude'],\n",
    "            lon1 = matches['pickup_longitude'],\n",
    "            lat2 = row['pickup_latitude'],\n",
    "            lon2 = row['pickup_longitude'],\n",
    "        ) / np.minimum(matches['euclidean_length'], row['euclidean_length'])\n",
    "        time_diff_start = matches['tpep_pickup_datetime'] - row['tpep_pickup_datetime']\n",
    "        aligned_start = (\n",
    "                time_diff_start.dt.total_seconds().between(0,max_wait_mins*60)\n",
    "                & (fractional_distance_start<dist_thresh)\n",
    "        )\n",
    "\n",
    "        # Find rows with aligned end points\n",
    "        fractional_distance_end = vector_distance(\n",
    "            lat1 = matches['dropoff_latitude'],\n",
    "            lon1 = matches['dropoff_longitude'],\n",
    "            lat2 = row['dropoff_latitude'],\n",
    "            lon2 = row['dropoff_longitude'],\n",
    "        ) / np.minimum(matches['euclidean_length'], row['euclidean_length'])\n",
    "        time_diff_end = matches['tpep_dropoff_datetime'] - row['tpep_dropoff_datetime']\n",
    "        aligned_end = (\n",
    "                time_diff_end.dt.total_seconds().between(0,max_wait_mins*60)\n",
    "                & (fractional_distance_end<dist_thresh)\n",
    "        )\n",
    "\n",
    "        matches.loc[:,'alignment'] = aligned_start.astype(int) + aligned_end.astype(int)\n",
    "        matches = matches[matches['alignment']>0]\n",
    "        matches.sort_values(by=['alignment','euclidean_length'],ascending=False, inplace=True)\n",
    "        cumulative_passengers = matches['passenger_count'].cumsum()\n",
    "        matches = matches[cumulative_passengers<=(max_occupancy-initial_passengers)]\n",
    "\n",
    "        for i, idx in enumerate(matches.index):\n",
    "            agg_ride_dict[f'ride_id_{i+1}'] = idx\n",
    "        df.drop(index=matches.index.values, inplace=True)\n",
    "        agg_rides.append(agg_ride_dict)\n",
    "    return pd.DataFrame(agg_rides)def algorithm(_df, max_wait_mins=7, max_occupancy=6, angle_thresh=20, dist_thresh=0.15):\n",
    "    agg_rides = []\n",
    "    if len(_df.shape) == 1:\n",
    "        return _df\n",
    "    df = _df.copy()\n",
    "    \n",
    "    agg_ride_dict_ = {f'ride_id_{i}':float(\"NaN\") for i in range(max_occupancy)}\n",
    "    while df.shape[0]>1:\n",
    "        agg_ride_dict = agg_ride_dict_.copy()\n",
    "        i = df.index[0]\n",
    "        agg_ride_dict['ride_id_0'] = i\n",
    "        row = df.loc[i,:]\n",
    "        initial_passengers = row['passenger_count']\n",
    "        df.drop(index=i, inplace=True)\n",
    "\n",
    "        # Find rows going in similar directions\n",
    "        angle_diffs = vector_angle_diff(df['direction'], row['direction'])\n",
    "        matches = df[angle_diffs<angle_thresh]\n",
    "\n",
    "        # Find rows with aligned start points\n",
    "        fractional_distance_start = vector_distance(\n",
    "            lat1 = matches['pickup_latitude'],\n",
    "            lon1 = matches['pickup_longitude'],\n",
    "            lat2 = row['pickup_latitude'],\n",
    "            lon2 = row['pickup_longitude'],\n",
    "        ) / np.minimum(matches['euclidean_length'], row['euclidean_length'])\n",
    "        time_diff_start = matches['tpep_pickup_datetime'] - row['tpep_pickup_datetime']\n",
    "        aligned_start = (\n",
    "                time_diff_start.dt.total_seconds().between(0,max_wait_mins*60)\n",
    "                & (fractional_distance_start<dist_thresh)\n",
    "        )\n",
    "\n",
    "        # Find rows with aligned end points\n",
    "        fractional_distance_end = vector_distance(\n",
    "            lat1 = matches['dropoff_latitude'],\n",
    "            lon1 = matches['dropoff_longitude'],\n",
    "            lat2 = row['dropoff_latitude'],\n",
    "            lon2 = row['dropoff_longitude'],\n",
    "        ) / np.minimum(matches['euclidean_length'], row['euclidean_length'])\n",
    "        time_diff_end = matches['tpep_dropoff_datetime'] - row['tpep_dropoff_datetime']\n",
    "        aligned_end = (\n",
    "                time_diff_end.dt.total_seconds().between(0,max_wait_mins*60)\n",
    "                & (fractional_distance_end<dist_thresh)\n",
    "        )\n",
    "\n",
    "        matches.loc[:,'alignment'] = aligned_start.astype(int) + aligned_end.astype(int)\n",
    "        matches = matches[matches['alignment']>0]\n",
    "        matches.sort_values(by=['alignment','euclidean_length'],ascending=False, inplace=True)\n",
    "        cumulative_passengers = matches['passenger_count'].cumsum()\n",
    "        matches = matches[cumulative_passengers<=(max_occupancy-initial_passengers)]\n",
    "\n",
    "        for i, idx in enumerate(matches.index):\n",
    "            agg_ride_dict[f'ride_id_{i+1}'] = idx\n",
    "        df.drop(index=matches.index.values, inplace=True)\n",
    "        agg_rides.append(agg_ride_dict)\n",
    "    return pd.DataFrame(agg_rides)"
   ]
  },
  {
   "cell_type": "code",
   "execution_count": 3,
   "metadata": {},
   "outputs": [],
   "source": [
    "df = pd.read_csv(\n",
    "    os.path.join('data','yellow_tripdata_2016-06.csv'), \n",
    "    parse_dates=['tpep_dropoff_datetime','tpep_pickup_datetime']\n",
    ")"
   ]
  },
  {
   "cell_type": "code",
   "execution_count": 5,
   "metadata": {},
   "outputs": [
    {
     "data": {
      "text/plain": [
       "0           Thu\n",
       "1           Thu\n",
       "2           Thu\n",
       "3           Thu\n",
       "4           Thu\n",
       "           ... \n",
       "11135465    Tue\n",
       "11135466    Tue\n",
       "11135467    Tue\n",
       "11135468    Tue\n",
       "11135469    Tue\n",
       "Name: day-of-week, Length: 11135470, dtype: object"
      ]
     },
     "execution_count": 5,
     "metadata": {},
     "output_type": "execute_result"
    }
   ],
   "source": [
    "df['day-of-week']"
   ]
  },
  {
   "cell_type": "code",
   "execution_count": 6,
   "metadata": {},
   "outputs": [],
   "source": [
    "df['time-of-day'] = df['tpep_pickup_datetime'].dt.strftime(\"%H\")\n",
    "df['day-of-week'] = df['tpep_pickup_datetime'].dt.strftime(\"%a\")"
   ]
  },
  {
   "cell_type": "code",
   "execution_count": 9,
   "metadata": {},
   "outputs": [
    {
     "data": {
      "text/plain": [
       "0           21\n",
       "1           21\n",
       "2           21\n",
       "3           21\n",
       "4           21\n",
       "            ..\n",
       "11135465    22\n",
       "11135466    22\n",
       "11135467    22\n",
       "11135468    22\n",
       "11135469    22\n",
       "Name: time-of-day, Length: 11135470, dtype: object"
      ]
     },
     "execution_count": 9,
     "metadata": {},
     "output_type": "execute_result"
    }
   ],
   "source": [
    "df['time-of-day']"
   ]
  },
  {
   "cell_type": "code",
   "execution_count": 10,
   "metadata": {},
   "outputs": [],
   "source": [
    "df_sat_afternoon = df[(df['day-of-week']=='Sat') | (df['time-of-day'].astype(int).between(11, 4))]"
   ]
  },
  {
   "cell_type": "code",
   "execution_count": 12,
   "metadata": {},
   "outputs": [],
   "source": [
    "with open('data/sat_afternoon_df.pkl','wb') as f:\n",
    "     pickle.dump(df_sat_afternoon, f)"
   ]
  },
  {
   "cell_type": "code",
   "execution_count": 15,
   "metadata": {},
   "outputs": [
    {
     "name": "stdout",
     "output_type": "stream",
     "text": [
      "\n",
      "INSTALLED VERSIONS\n",
      "------------------\n",
      "commit           : 945c9ed766a61c7d2c0a7cbb251b6edebf9cb7d5\n",
      "python           : 3.7.4.final.0\n",
      "python-bits      : 64\n",
      "OS               : Windows\n",
      "OS-release       : 10\n",
      "Version          : 10.0.19041\n",
      "machine          : AMD64\n",
      "processor        : Intel64 Family 6 Model 142 Stepping 10, GenuineIntel\n",
      "byteorder        : little\n",
      "LC_ALL           : None\n",
      "LANG             : None\n",
      "LOCALE           : None.None\n",
      "\n",
      "pandas           : 1.3.4\n",
      "numpy            : 1.20.3\n",
      "pytz             : 2021.1\n",
      "dateutil         : 2.8.2\n",
      "pip              : 21.0.1\n",
      "setuptools       : 58.0.4\n",
      "Cython           : 0.29.13\n",
      "pytest           : 5.2.1\n",
      "hypothesis       : None\n",
      "sphinx           : 2.2.0\n",
      "blosc            : None\n",
      "feather          : None\n",
      "xlsxwriter       : 1.2.1\n",
      "lxml.etree       : 4.4.1\n",
      "html5lib         : 1.0.1\n",
      "pymysql          : None\n",
      "psycopg2         : 2.8.6 (dt dec pq3 ext lo64)\n",
      "jinja2           : 2.10.3\n",
      "IPython          : 7.20.0\n",
      "pandas_datareader: None\n",
      "bs4              : 4.8.0\n",
      "bottleneck       : 1.2.1\n",
      "fsspec           : 0.5.2\n",
      "fastparquet      : None\n",
      "gcsfs            : None\n",
      "matplotlib       : 3.3.4\n",
      "numexpr          : 2.7.0\n",
      "odfpy            : None\n",
      "openpyxl         : 3.0.0\n",
      "pandas_gbq       : None\n",
      "pyarrow          : None\n",
      "pyxlsb           : None\n",
      "s3fs             : None\n",
      "scipy            : 1.7.1\n",
      "sqlalchemy       : 1.3.9\n",
      "tables           : 3.5.2\n",
      "tabulate         : None\n",
      "xarray           : None\n",
      "xlrd             : 1.2.0\n",
      "xlwt             : 1.3.0\n",
      "numba            : 0.45.1\n"
     ]
    }
   ],
   "source": [
    "pd.show_versions()"
   ]
  },
  {
   "cell_type": "code",
   "execution_count": 267,
   "metadata": {},
   "outputs": [
    {
     "name": "stdout",
     "output_type": "stream",
     "text": [
      "Num rows in df reduced from 11135470 to 2624066 \n"
     ]
    }
   ],
   "source": [
    "\n",
    "# filter to first week of June\n",
    "first_week_start = datetime(year=2016, month=6, day=6, hour=0, minute=0, second=0)\n",
    "first_week_end = datetime(year=2016, month=6, day=13, hour=0, minute=0, second=0)\n",
    "print(f\"Num rows in df reduced from {df.shape[0]} \", end=\"\")\n",
    "df = df[(df['tpep_pickup_datetime']>=first_week_start) & (df['tpep_dropoff_datetime']<first_week_end)]\n",
    "print(f\"to {df.shape[0]} \")\n",
    "\n",
    "df['duration_minutes'] = (df['tpep_dropoff_datetime']-df['tpep_pickup_datetime']).apply(lambda x: x.total_seconds()/60)\n",
    "# = ((df['pickup_longitude']-df['dropoff_longitude'])**2 + (df['pickup_latitude']-df['dropoff_latitude'])**2)**0.5\n",
    "df = df.sort_values(['tpep_pickup_datetime'])\n",
    "df['passenger_count'].fillna(2, inplace=True)\n",
    "df.sample(3)\n",
    "\n",
    "df['direction'] = np.rad2deg(\n",
    "    np.arctan2(\n",
    "        df['dropoff_latitude']-df['pickup_latitude'], \n",
    "        df['dropoff_longitude']-df['pickup_longitude']\n",
    "    )\n",
    ")\n",
    "\n",
    "df['euclidean_length'] = vector_distance(\n",
    "    lat1 = df['pickup_latitude'], \n",
    "    lon1 = df['pickup_longitude'],\n",
    "    lat2 = df['dropoff_latitude'], \n",
    "    lon2 = df['dropoff_longitude'],\n",
    ")\n",
    "\n",
    "df['day-of-week'] = df['tpep_pickup_datetime'].dt.strftime(\"%a\")"
   ]
  },
  {
   "cell_type": "markdown",
   "metadata": {},
   "source": [
    "### Apply algorithm in distributed manner"
   ]
  },
  {
   "cell_type": "code",
   "execution_count": null,
   "metadata": {},
   "outputs": [],
   "source": [
    "results = []\n",
    "with Pool(4) as p:\n",
    "    for i, result in enumerate(p.imap_unordered(algorithm, np.array_split(df, 32)), 1):\n",
    "        sys.stderr.write('\\rdone {0:%}'.format(i/32))\n",
    "        results.append(result)"
   ]
  },
  {
   "cell_type": "code",
   "execution_count": 270,
   "metadata": {},
   "outputs": [],
   "source": [
    "results_df = pd.concat(results)"
   ]
  },
  {
   "cell_type": "code",
   "execution_count": 272,
   "metadata": {},
   "outputs": [
    {
     "data": {
      "text/html": [
       "<div>\n",
       "<style scoped>\n",
       "    .dataframe tbody tr th:only-of-type {\n",
       "        vertical-align: middle;\n",
       "    }\n",
       "\n",
       "    .dataframe tbody tr th {\n",
       "        vertical-align: top;\n",
       "    }\n",
       "\n",
       "    .dataframe thead th {\n",
       "        text-align: right;\n",
       "    }\n",
       "</style>\n",
       "<table border=\"1\" class=\"dataframe\">\n",
       "  <thead>\n",
       "    <tr style=\"text-align: right;\">\n",
       "      <th></th>\n",
       "      <th>VendorID</th>\n",
       "      <th>tpep_pickup_datetime</th>\n",
       "      <th>tpep_dropoff_datetime</th>\n",
       "      <th>passenger_count</th>\n",
       "      <th>trip_distance</th>\n",
       "      <th>pickup_longitude</th>\n",
       "      <th>pickup_latitude</th>\n",
       "      <th>RatecodeID</th>\n",
       "      <th>store_and_fwd_flag</th>\n",
       "      <th>dropoff_longitude</th>\n",
       "      <th>...</th>\n",
       "      <th>fare_amount</th>\n",
       "      <th>extra</th>\n",
       "      <th>mta_tax</th>\n",
       "      <th>tip_amount</th>\n",
       "      <th>tolls_amount</th>\n",
       "      <th>improvement_surcharge</th>\n",
       "      <th>total_amount</th>\n",
       "      <th>duration_minutes</th>\n",
       "      <th>direction</th>\n",
       "      <th>euclidean_length</th>\n",
       "    </tr>\n",
       "  </thead>\n",
       "  <tbody>\n",
       "    <tr>\n",
       "      <th>2128992</th>\n",
       "      <td>1</td>\n",
       "      <td>2016-06-06</td>\n",
       "      <td>2016-06-06 00:16:57</td>\n",
       "      <td>1</td>\n",
       "      <td>6.60</td>\n",
       "      <td>-73.946548</td>\n",
       "      <td>40.785099</td>\n",
       "      <td>1</td>\n",
       "      <td>N</td>\n",
       "      <td>-73.923866</td>\n",
       "      <td>...</td>\n",
       "      <td>20.0</td>\n",
       "      <td>0.5</td>\n",
       "      <td>0.5</td>\n",
       "      <td>0.00</td>\n",
       "      <td>0.00</td>\n",
       "      <td>0.3</td>\n",
       "      <td>21.30</td>\n",
       "      <td>16.950000</td>\n",
       "      <td>44.903478</td>\n",
       "      <td>0.032024</td>\n",
       "    </tr>\n",
       "    <tr>\n",
       "      <th>2765158</th>\n",
       "      <td>2</td>\n",
       "      <td>2016-06-06</td>\n",
       "      <td>2016-06-06 18:07:49</td>\n",
       "      <td>1</td>\n",
       "      <td>2.02</td>\n",
       "      <td>-73.978745</td>\n",
       "      <td>40.750641</td>\n",
       "      <td>1</td>\n",
       "      <td>N</td>\n",
       "      <td>-73.997108</td>\n",
       "      <td>...</td>\n",
       "      <td>10.0</td>\n",
       "      <td>1.3</td>\n",
       "      <td>0.5</td>\n",
       "      <td>1.25</td>\n",
       "      <td>0.00</td>\n",
       "      <td>0.3</td>\n",
       "      <td>13.35</td>\n",
       "      <td>1087.816667</td>\n",
       "      <td>-125.620677</td>\n",
       "      <td>0.031531</td>\n",
       "    </tr>\n",
       "    <tr>\n",
       "      <th>2765157</th>\n",
       "      <td>2</td>\n",
       "      <td>2016-06-06</td>\n",
       "      <td>2016-06-06 00:00:00</td>\n",
       "      <td>1</td>\n",
       "      <td>4.27</td>\n",
       "      <td>-73.952385</td>\n",
       "      <td>40.741501</td>\n",
       "      <td>2</td>\n",
       "      <td>N</td>\n",
       "      <td>-74.004097</td>\n",
       "      <td>...</td>\n",
       "      <td>52.0</td>\n",
       "      <td>0.0</td>\n",
       "      <td>0.5</td>\n",
       "      <td>0.00</td>\n",
       "      <td>5.54</td>\n",
       "      <td>0.3</td>\n",
       "      <td>58.34</td>\n",
       "      <td>0.000000</td>\n",
       "      <td>-158.291198</td>\n",
       "      <td>0.055660</td>\n",
       "    </tr>\n",
       "  </tbody>\n",
       "</table>\n",
       "<p>3 rows × 22 columns</p>\n",
       "</div>"
      ],
      "text/plain": [
       "         VendorID tpep_pickup_datetime tpep_dropoff_datetime  passenger_count  \\\n",
       "2128992         1           2016-06-06   2016-06-06 00:16:57                1   \n",
       "2765158         2           2016-06-06   2016-06-06 18:07:49                1   \n",
       "2765157         2           2016-06-06   2016-06-06 00:00:00                1   \n",
       "\n",
       "         trip_distance  pickup_longitude  pickup_latitude  RatecodeID  \\\n",
       "2128992           6.60        -73.946548        40.785099           1   \n",
       "2765158           2.02        -73.978745        40.750641           1   \n",
       "2765157           4.27        -73.952385        40.741501           2   \n",
       "\n",
       "        store_and_fwd_flag  dropoff_longitude  ...  fare_amount  extra  \\\n",
       "2128992                  N         -73.923866  ...         20.0    0.5   \n",
       "2765158                  N         -73.997108  ...         10.0    1.3   \n",
       "2765157                  N         -74.004097  ...         52.0    0.0   \n",
       "\n",
       "         mta_tax  tip_amount  tolls_amount  improvement_surcharge  \\\n",
       "2128992      0.5        0.00          0.00                    0.3   \n",
       "2765158      0.5        1.25          0.00                    0.3   \n",
       "2765157      0.5        0.00          5.54                    0.3   \n",
       "\n",
       "         total_amount  duration_minutes   direction  euclidean_length  \n",
       "2128992         21.30         16.950000   44.903478          0.032024  \n",
       "2765158         13.35       1087.816667 -125.620677          0.031531  \n",
       "2765157         58.34          0.000000 -158.291198          0.055660  \n",
       "\n",
       "[3 rows x 22 columns]"
      ]
     },
     "execution_count": 272,
     "metadata": {},
     "output_type": "execute_result"
    }
   ],
   "source": [
    "df.head(3)"
   ]
  },
  {
   "cell_type": "code",
   "execution_count": 273,
   "metadata": {},
   "outputs": [
    {
     "data": {
      "text/html": [
       "<div>\n",
       "<style scoped>\n",
       "    .dataframe tbody tr th:only-of-type {\n",
       "        vertical-align: middle;\n",
       "    }\n",
       "\n",
       "    .dataframe tbody tr th {\n",
       "        vertical-align: top;\n",
       "    }\n",
       "\n",
       "    .dataframe thead th {\n",
       "        text-align: right;\n",
       "    }\n",
       "</style>\n",
       "<table border=\"1\" class=\"dataframe\">\n",
       "  <thead>\n",
       "    <tr style=\"text-align: right;\">\n",
       "      <th></th>\n",
       "      <th>ride_id_0</th>\n",
       "      <th>ride_id_1</th>\n",
       "      <th>ride_id_2</th>\n",
       "      <th>ride_id_3</th>\n",
       "      <th>ride_id_4</th>\n",
       "      <th>ride_id_5</th>\n",
       "    </tr>\n",
       "  </thead>\n",
       "  <tbody>\n",
       "    <tr>\n",
       "      <th>0</th>\n",
       "      <td>3021109</td>\n",
       "      <td>3022704.0</td>\n",
       "      <td>3020821.0</td>\n",
       "      <td>3024802.0</td>\n",
       "      <td>3022388.0</td>\n",
       "      <td>NaN</td>\n",
       "    </tr>\n",
       "    <tr>\n",
       "      <th>1</th>\n",
       "      <td>3021110</td>\n",
       "      <td>3020931.0</td>\n",
       "      <td>3021851.0</td>\n",
       "      <td>3021617.0</td>\n",
       "      <td>NaN</td>\n",
       "      <td>NaN</td>\n",
       "    </tr>\n",
       "    <tr>\n",
       "      <th>2</th>\n",
       "      <td>3021111</td>\n",
       "      <td>3021865.0</td>\n",
       "      <td>3021566.0</td>\n",
       "      <td>3021070.0</td>\n",
       "      <td>3022173.0</td>\n",
       "      <td>NaN</td>\n",
       "    </tr>\n",
       "  </tbody>\n",
       "</table>\n",
       "</div>"
      ],
      "text/plain": [
       "   ride_id_0  ride_id_1  ride_id_2  ride_id_3  ride_id_4  ride_id_5\n",
       "0    3021109  3022704.0  3020821.0  3024802.0  3022388.0        NaN\n",
       "1    3021110  3020931.0  3021851.0  3021617.0        NaN        NaN\n",
       "2    3021111  3021865.0  3021566.0  3021070.0  3022173.0        NaN"
      ]
     },
     "execution_count": 273,
     "metadata": {},
     "output_type": "execute_result"
    }
   ],
   "source": [
    "results_df.head(3)"
   ]
  },
  {
   "cell_type": "markdown",
   "metadata": {},
   "source": [
    "# Geography"
   ]
  },
  {
   "cell_type": "code",
   "execution_count": 269,
   "metadata": {},
   "outputs": [],
   "source": [
    "import fiona\n",
    "import shapely\n",
    "import shapely.geometry\n",
    "\n",
    "# Load shape files\n",
    "shape_dict = {}\n",
    "with fiona.open(\"data/Borough Boundaries/geo_export_86f96b0c-2916-4b73-b089-ba632d5abdd7.shp\") as fiona_collection:\n",
    "    for record in fiona_collection:  \n",
    "        name = record['properties']['boro_name']\n",
    "        shape = shapely.geometry.asShape(record['geometry'])\n",
    "        shape_dict[name] = {'shape':shape}\n",
    "\n",
    "# get bounding box of each boro\n",
    "for boro in shape_dict:\n",
    "    x0, y0, x1, y1 = shape_dict[boro]['shape'].bounds\n",
    "    shape_dict[boro]['x0'] = x0\n",
    "    shape_dict[boro]['y0'] = y0\n",
    "    shape_dict[boro]['x1'] = x1\n",
    "    shape_dict[boro]['y1'] = y1\n",
    "    shape_dict[boro]['bounds'] = shapely.geometry.box(minx, miny, maxx, maxy)\n",
    "    tol = min(x1-x0, y1-y0)/2000\n",
    "    shape_dict[boro]['shape_simp'] = shape_dict[boro]['shape'].simplify(tol)\n",
    "\n",
    "boro_names = list(shape_dict.keys())\n",
    "\n",
    "def get_potential_boros(df, shape_dict):\n",
    "    potential_boros = pd.DataFrame(index=df.index)\n",
    "    for boro in shape_dict:\n",
    "        in_boro = df['pickup_longitude'].between(shape_dict[boro]['x0'], shape_dict[boro]['x1'])\n",
    "        in_boro = in_boro & df['pickup_latitude'].between(shape_dict[boro]['y0'], shape_dict[boro]['y1'])\n",
    "        potential_boros[boro] = in_boro\n",
    "    return potential_boros\n",
    "\n",
    "def get_clear_boros(df, shape_dict):\n",
    "    # label boros that are unambiguous based on bounding box\n",
    "    potential_boros = get_potential_boros(df, shape_dict)\n",
    "    clear_boros = potential_boros[potential_boros.sum(axis=1)==1]\n",
    "    clear_boros = clear_boros.stack().reset_index()\n",
    "    clear_boros = clear_boros[clear_boros[0]==True]\n",
    "    return clear_boros"
   ]
  },
  {
   "cell_type": "code",
   "execution_count": 276,
   "metadata": {},
   "outputs": [],
   "source": [
    "def get_optimal_route(coords, plot=True):\n",
    "    \"\"\"Given a dataframe of trips, find a single,. efficient route that incorporates all trips\"\"\"\n",
    "    start_points = coords[['pickup_longitude', 'pickup_latitude']].values\n",
    "    end_points = coords[['dropoff_longitude', 'dropoff_latitude']].values\n",
    "    avg_start = start_points.mean(axis=0)\n",
    "    avg_end = end_points.mean(axis=0)\n",
    "\n",
    "    start_points -= avg_start\n",
    "    end_points -= avg_start\n",
    "    avg_end -= avg_start\n",
    "\n",
    "    start_projections = np.dot(start_points, avg_end)\n",
    "    end_projections = np.dot(end_points, avg_end)\n",
    "    \n",
    "    pu_names = ['00','10','20','30','40','50']\n",
    "    do_names = ['01','11','21','31','41','51']\n",
    "    \n",
    "    locations = pu_names[:coords.shape[0]]+do_names[:coords.shape[0]]\n",
    "    projections = np.concatenate([start_projections,end_projections])\n",
    "    \n",
    "    _, sorted_locations = zip(*sorted(zip(projections, locations)))\n",
    "    sorted_locations = list(sorted_locations)\n",
    "    route = []\n",
    "    while len(sorted_locations)>0:\n",
    "        for i in range(len(sorted_locations)):\n",
    "            loc = sorted_locations[i]\n",
    "            if loc[1]=='0':\n",
    "                route.append(loc)\n",
    "                sorted_locations.pop(i)\n",
    "                break\n",
    "            else:\n",
    "                if loc[0]+'0' in route:\n",
    "                    route.append(loc)\n",
    "                    sorted_locations.pop(i)\n",
    "                    break\n",
    "                else:\n",
    "                    continue\n",
    "    \n",
    "    if plot:\n",
    "        for idx in coords.index:\n",
    "            #print(coords.loc[idx, 'pickup_latitude'])\n",
    "            plt.arrow(\n",
    "                x=coords.loc[idx, 'pickup_latitude'], \n",
    "                y=coords.loc[idx, 'pickup_longitude'], \n",
    "                dx=coords.loc[idx, 'dropoff_latitude']-coords.loc[idx, 'pickup_latitude'], \n",
    "                dy=coords.loc[idx, 'dropoff_longitude']-coords.loc[idx, 'pickup_longitude']\n",
    "            )\n",
    "    \n",
    "    \n",
    "    first_trip = coords.iloc[int(route[0][0]),:]\n",
    "    last_stop_location = first_trip[['pickup_latitude','pickup_longitude']].values\n",
    "    total_distance = 0\n",
    "    if plot:\n",
    "        plt.scatter(first_trip['pickup_latitude'],first_trip['pickup_longitude'])\n",
    "    for stop in route[1:]:\n",
    "        trip = coords.iloc[int(stop[0]),:]\n",
    "        pu_do = 'pickup' if stop[1]=='0' else 'dropoff'\n",
    "        location = trip[[pu_do+\"_latitude\",pu_do+'_longitude']].values\n",
    "        distance = ((last_stop_location-location)**2).sum()**0.5\n",
    "        total_distance += distance\n",
    "        if plot:\n",
    "            plt.plot([last_stop_location[0],location[0]], [last_stop_location[1],location[1]], c=\"red\")\n",
    "        last_stop_location = location\n",
    "    if plot:\n",
    "        plt.show()\n",
    "    return route, total_distance"
   ]
  },
  {
   "cell_type": "code",
   "execution_count": 277,
   "metadata": {},
   "outputs": [],
   "source": [
    "def plot_rides(ride_ids):\n",
    "    pu_lats = df.loc[ride_ids,'pickup_latitude']\n",
    "    pu_lons = df.loc[ride_ids,'pickup_longitude']\n",
    "    do_lats = df.loc[ride_ids,'dropoff_latitude']\n",
    "    do_lons = df.loc[ride_ids,'dropoff_longitude']\n",
    "    for pu_lat, pu_lon, do_lat, do_lon in zip(pu_lats, pu_lons, do_lats, do_lons):\n",
    "        plt.arrow(pu_lon, pu_lat, dx=do_lon-pu_lon, dy=do_lat-pu_lat)#, width=.01,head_width=.02)\n",
    "    plt.show()"
   ]
  },
  {
   "cell_type": "code",
   "execution_count": 299,
   "metadata": {},
   "outputs": [],
   "source": [
    "merged_df = results_df.merge(df, left_on='ride_id_0', right_index=True,how='left')"
   ]
  },
  {
   "cell_type": "code",
   "execution_count": 312,
   "metadata": {},
   "outputs": [],
   "source": [
    "def calculate_efficiency(results, n_samples, df):\n",
    "    trips_in_route = results.notna().sum(axis=1)\n",
    "    vcs = trips_in_route.value_counts()\n",
    "\n",
    "    efficiency_dict = {}\n",
    "    for count in vcs.index:\n",
    "        single_trip_ids = list(results['ride_id_0'][trips_in_route==1].values)\n",
    "        if count == 1:\n",
    "            coords = df.loc[single_trip_ids,:]\n",
    "            efficiency_dict[1] = dict(\n",
    "                num_trips=vcs[count],\n",
    "                person_miles = (coords['euclidean_length']*coords['passenger_count']).sum(),\n",
    "                natural_car_miles = coords['euclidean_length'].sum(),\n",
    "                optimal_car_miles = coords['euclidean_length'].sum(),\n",
    "            )\n",
    "            continue\n",
    "        agg_df_count = results[trips_in_route==count]\n",
    "        agg_df_count = agg_df_count.sample(min(n_samples, agg_df_count.shape[0]))\n",
    "\n",
    "        tot_opt_car_distance = 0\n",
    "        tot_natural_car_distance = 0\n",
    "        tot_person_distance = 0\n",
    "        for i in range(agg_df_count.shape[0]):\n",
    "            ride_ids = [int(v) for v in agg_df_count.iloc[i,:] if not np.isnan(v)]\n",
    "            coords = df.loc[ride_ids,:]\n",
    "            route, opt_car_distance = get_optimal_route(coords, plot=False)\n",
    "            natural_car_distance = coords['euclidean_length'].sum()\n",
    "            person_distance = (coords['euclidean_length']*coords['passenger_count']).sum()\n",
    "            tot_opt_car_distance += opt_car_distance\n",
    "            tot_natural_car_distance += natural_car_distance\n",
    "            tot_person_distance += person_distance\n",
    "        \n",
    "        scale_ratio = vcs[count]/agg_df_count.shape[0]\n",
    "        efficiency_dict[count] = dict(\n",
    "            num_trips=vcs[count],\n",
    "            person_miles = tot_person_distance * scale_ratio,\n",
    "            natural_car_miles = tot_natural_car_distance * scale_ratio,\n",
    "            optimal_car_miles = tot_opt_car_distance * scale_ratio,\n",
    "        )\n",
    "\n",
    "        #perc_improved_efficiency = tot_natural_car_distance/tot_opt_car_distance\n",
    "        #avg_efficiency = tot_person_distance/tot_opt_car_distance\n",
    "        #print(f\"{count}: {100*avg_efficiency:0.2f}% efficiency, ({100*perc_improved_efficiency-100:0.2f}% improvement)\")\n",
    "    return efficiency_dict"
   ]
  },
  {
   "cell_type": "code",
   "execution_count": 308,
   "metadata": {},
   "outputs": [],
   "source": [
    "def overall_efficiency(efficiency_dict):\n",
    "    tot_person_miles = sum([efficiency_dict[k]['person_miles'] for k in efficiency_dict])\n",
    "    tot_optimal_car_miles = sum([efficiency_dict[k]['optimal_car_miles'] for k in efficiency_dict])\n",
    "    tot_natural_car_miles = sum([efficiency_dict[k]['natural_car_miles'] for k in efficiency_dict])\n",
    "    return tot_person_miles/tot_natural_car_miles, tot_person_miles/tot_optimal_car_miles"
   ]
  },
  {
   "cell_type": "code",
   "execution_count": 323,
   "metadata": {},
   "outputs": [],
   "source": [
    "def apply_efficiency_calculation(merged):\n",
    "    results = merged.loc[:,['ride_id_0','ride_id_1','ride_id_2','ride_id_3','ride_id_4','ride_id_5']]\n",
    "    efficiency_dict = calculate_efficiency(results, n_samples=20, df=df)\n",
    "    e0, e1 = overall_efficiency(efficiency_dict)\n",
    "    return pd.Series(index=[\"e0\",\"e1\"],data=[e0,e1])"
   ]
  },
  {
   "cell_type": "code",
   "execution_count": 341,
   "metadata": {},
   "outputs": [],
   "source": [
    "clear_boros = get_clear_boros(merged_df, shape_dict)\n",
    "merged_df_boros = clear_boros.merge(merged_df, left_on='ride_id_0', right_index=True)\n",
    "merged_df_boros = merged_df_boros.rename(columns={'level_1':'boro'})"
   ]
  },
  {
   "cell_type": "code",
   "execution_count": 324,
   "metadata": {},
   "outputs": [],
   "source": [
    "efficiency_calc = merged_df.groupby(['time-of-day','day-of-week']).apply(apply_efficiency_calculation)"
   ]
  },
  {
   "cell_type": "code",
   "execution_count": 382,
   "metadata": {},
   "outputs": [],
   "source": [
    "overall_e0, overall_e1 = apply_efficiency_calculation(merged_df_boros[merged_df_boros['boro']=='Manhattan'])"
   ]
  },
  {
   "cell_type": "code",
   "execution_count": 383,
   "metadata": {},
   "outputs": [
    {
     "data": {
      "text/plain": [
       "(1.9101721673182235, 3.092369175194658)"
      ]
     },
     "execution_count": 383,
     "metadata": {},
     "output_type": "execute_result"
    }
   ],
   "source": [
    "overall_e0, overall_e1"
   ]
  },
  {
   "cell_type": "code",
   "execution_count": 342,
   "metadata": {},
   "outputs": [
    {
     "name": "stderr",
     "output_type": "stream",
     "text": [
      "C:\\Users\\volpir\\AppData\\Roaming\\Python\\Python37\\site-packages\\ipykernel_launcher.py:5: RuntimeWarning: invalid value encountered in double_scalars\n",
      "  \"\"\"\n"
     ]
    }
   ],
   "source": [
    "efficiency_calc_boro = merged_df_boros.groupby(['time-of-day','day-of-week','boro']).apply(apply_efficiency_calculation)"
   ]
  },
  {
   "cell_type": "code",
   "execution_count": 359,
   "metadata": {},
   "outputs": [],
   "source": [
    "#efficiency_calc_day_boro = merged_df_boros.groupby(['day-of-week','boro']).apply(apply_efficiency_calculation)\n",
    "efficiency_calc_day_boro['improvement'] = efficiency_calc_day_boro['e1']/efficiency_calc_day_boro['e0']-1"
   ]
  },
  {
   "cell_type": "code",
   "execution_count": 360,
   "metadata": {},
   "outputs": [],
   "source": [
    "#efficiency_calc_hour_boro = merged_df_boros.groupby(['time-of-day','boro']).apply(apply_efficiency_calculation)\n",
    "efficiency_calc_hour_boro['improvement'] = efficiency_calc_hour_boro['e1']/efficiency_calc_hour_boro['e0']-1"
   ]
  },
  {
   "cell_type": "code",
   "execution_count": 386,
   "metadata": {},
   "outputs": [
    {
     "data": {
      "text/plain": [
       "Text(0, 0.5, 'Increase in person-miles per vehicle-mile')"
      ]
     },
     "execution_count": 386,
     "metadata": {},
     "output_type": "execute_result"
    },
    {
     "data": {
      "image/png": "[encoded data removed]",
      "text/plain": [
       "<Figure size 720x432 with 1 Axes>"
      ]
     },
     "metadata": {
      "needs_background": "light"
     },
     "output_type": "display_data"
    }
   ],
   "source": [
    "import seaborn as sns\n",
    "plt.figure(figsize=(10,6))\n",
    "sns.lineplot(\n",
    "    data=efficiency_calc_day_boro,\n",
    "    x='day-of-week',\n",
    "    hue='boro',\n",
    "    y='improvement'\n",
    ")\n",
    "plt.title(\"NYC Efficiency by Borough and Day-of-week\")\n",
    "plt.ylabel('Increase in person-miles per vehicle-mile')"
   ]
  },
  {
   "cell_type": "code",
   "execution_count": 384,
   "metadata": {},
   "outputs": [
    {
     "data": {
      "image/png": "[encoded data removed]",
      "text/plain": [
       "<Figure size 720x432 with 1 Axes>"
      ]
     },
     "metadata": {
      "needs_background": "light"
     },
     "output_type": "display_data"
    }
   ],
   "source": [
    "plt.figure(figsize=(10,6))\n",
    "sns.lineplot(\n",
    "    data=efficiency_calc_hour_boro,\n",
    "    x='time-of-day',\n",
    "    hue='boro',\n",
    "    y='improvement',\n",
    ")\n",
    "plt.ylabel('Increase in person-miles per vehicle-mile')\n",
    "plt.xticks([0,1,2,3,4,5],['12am-4am','4am-8am','8am-12pm','12pm-4pm','4pm-8pm','8pm-12am']) \n",
    "plt.title(\"NYC Efficiency by Borough and Time\")\n",
    "plt.show()"
   ]
  },
  {
   "cell_type": "code",
   "execution_count": 202,
   "metadata": {},
   "outputs": [
    {
     "name": "stdout",
     "output_type": "stream",
     "text": [
      "40.64477157592773\n",
      "40.64717864990234\n",
      "40.644493103027344\n",
      "40.64351272583008\n",
      "40.644649505615234\n",
      "40.64456558227539\n"
     ]
    },
    {
     "data": {
      "image/png": "[encoded data removed]",
      "text/plain": [
       "<Figure size 432x288 with 1 Axes>"
      ]
     },
     "metadata": {
      "needs_background": "light"
     },
     "output_type": "display_data"
    },
    {
     "data": {
      "text/plain": [
       "(['00', '50', '40', '20', '30', '10', '11', '01', '51', '41', '21', '31'],\n",
       " 0.3227985399364087)"
      ]
     },
     "execution_count": 202,
     "metadata": {},
     "output_type": "execute_result"
    }
   ],
   "source": [
    "ride_ids = list(agg_df_count.iloc[0,:].astype(int).values)\n",
    "get_optimal_route(df_sample.loc[ride_ids,:])"
   ]
  }
 ],
 "metadata": {
  "kernelspec": {
   "display_name": "Python 3",
   "language": "python",
   "name": "python3"
  },
  "language_info": {
   "codemirror_mode": {
    "name": "ipython",
    "version": 3
   },
   "file_extension": ".py",
   "mimetype": "text/x-python",
   "name": "python",
   "nbconvert_exporter": "python",
   "pygments_lexer": "ipython3",
   "version": "3.7.4"
  }
 },
 "nbformat": 4,
 "nbformat_minor": 2
}
